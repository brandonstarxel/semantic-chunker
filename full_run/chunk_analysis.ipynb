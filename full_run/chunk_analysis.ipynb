{
 "cells": [
  {
   "cell_type": "code",
   "execution_count": 1,
   "metadata": {},
   "outputs": [],
   "source": [
    "import chromadb\n",
    "from chromadb.utils import embedding_functions"
   ]
  },
  {
   "cell_type": "code",
   "execution_count": 6,
   "metadata": {},
   "outputs": [],
   "source": [
    "import os\n",
    "OPENAI_API_KEY = os.getenv('OPENAI_CHROMA_API_KEY')\n",
    "# default_ef = embedding_functions.OpenAIEmbeddingFunction(api_key = OPENAI_API_KEY, model_name=\"text-embedding-3-large\")"
   ]
  },
  {
   "cell_type": "code",
   "execution_count": 25,
   "metadata": {},
   "outputs": [],
   "source": [
    "default_ef = embedding_functions.SentenceTransformerEmbeddingFunction()"
   ]
  },
  {
   "cell_type": "code",
   "execution_count": 18,
   "metadata": {},
   "outputs": [
    {
     "data": {
      "text/plain": [
       "[Collection(name=OpenAIEmbeddingFunction_RecursiveCharacterTextSplitter_400_200),\n",
       " Collection(name=SentEmbFunc_TokenTextSplitter_278_139),\n",
       " Collection(name=OpenAIEmbeddingFunction_TokenTextSplitter_400_200),\n",
       " Collection(name=OpenAIEmbeddingFunction_RecursiveCharacterTextSplitter_800_400),\n",
       " Collection(name=OpenAIEmbeddingFunction_RecursiveCharacterTextSplitter_400_0),\n",
       " Collection(name=SentEmbFunc_TokenTextSplitter_278_0),\n",
       " Collection(name=OpenAIEmbeddingFunction_TokenTextSplitter_800_400),\n",
       " Collection(name=OpenAIEmbeddingFunction_LLMSemanticChunker_0_0),\n",
       " Collection(name=OpenAIEmbeddingFunction_TokenTextSplitter_200_0),\n",
       " Collection(name=OpenAIEmbeddingFunction_TokenTextSplitter_400_0),\n",
       " Collection(name=OpenAIEmbeddingFunction_RecursiveCharacterTextSplitter_200_0),\n",
       " Collection(name=OpenAIEmbeddingFunction_ClusterSemanticChunker_400_0),\n",
       " Collection(name=SentEmbFunc_TokenTextSplitter_222_0),\n",
       " Collection(name=OpenAIEmbeddingFunction_ClusterSemanticChunker_200_0)]"
      ]
     },
     "execution_count": 18,
     "metadata": {},
     "output_type": "execute_result"
    }
   ],
   "source": [
    "client = chromadb.PersistentClient(path=\"/Users/brandon/Desktop/MonteIntelligence/AARB_chunks\")\n",
    "client.list_collections()"
   ]
  },
  {
   "cell_type": "code",
   "execution_count": 17,
   "metadata": {},
   "outputs": [],
   "source": [
    "client.delete_collection(\"SentEmbFunc_ClusterSemanticChunker_200_0\")"
   ]
  },
  {
   "cell_type": "code",
   "execution_count": 4,
   "metadata": {},
   "outputs": [
    {
     "data": {
      "text/plain": [
       "[Collection(name=SentEmbFunc_TokenTextSplitter_278_139),\n",
       " Collection(name=OpenAIEmbeddingFunction_TokenTextSplitter_400_200),\n",
       " Collection(name=SentEmbFunc_ClusterSemanticChunker_250_0),\n",
       " Collection(name=SentEmbFunc_TokenTextSplitter_278_0),\n",
       " Collection(name=OpenAIEmbeddingFunction_ClusterSemanticChunker_200_0),\n",
       " Collection(name=OpenAIEmbeddingFunction_TokenTextSplitter_800_400),\n",
       " Collection(name=OpenAIEmbeddingFunction_LLMSemanticChunker_0_0),\n",
       " Collection(name=OpenAIEmbeddingFunction_TokenTextSplitter_200_0),\n",
       " Collection(name=OpenAIEmbeddingFunction_TokenTextSplitter_400_0),\n",
       " Collection(name=SentEmbFunc_ClusterSemanticChunker_200_0),\n",
       " Collection(name=SentEmbFunc_TokenTextSplitter_222_0),\n",
       " Collection(name=OpenAIEmbeddingFunction_ClusterSemanticChunker_400_0)]"
      ]
     },
     "execution_count": 4,
     "metadata": {},
     "output_type": "execute_result"
    }
   ],
   "source": [
    "client = chromadb.PersistentClient(path=\"/Users/brandon/Desktop/MonteIntelligence/AARB_chunks\")\n",
    "client.list_collections()"
   ]
  },
  {
   "cell_type": "code",
   "execution_count": null,
   "metadata": {},
   "outputs": [],
   "source": []
  },
  {
   "cell_type": "code",
   "execution_count": 39,
   "metadata": {},
   "outputs": [],
   "source": [
    "client.delete_collection(\"SentEmbFunc_RecursiveCharacterTextSplitter_250_0\")"
   ]
  },
  {
   "cell_type": "code",
   "execution_count": 28,
   "metadata": {},
   "outputs": [],
   "source": [
    "recursive_collection = client.get_collection(name=\"SentEmbFunc_RecursiveCharacterTextSplitter_250_125\", embedding_function=default_ef)\n",
    "# token_collection = client.get_collection(name=\"SentEmbFunc_TokenTextSplitter_278_139\", embedding_function=default_ef)"
   ]
  },
  {
   "cell_type": "code",
   "execution_count": 8,
   "metadata": {},
   "outputs": [
    {
     "data": {
      "text/plain": [
       "1183"
      ]
     },
     "execution_count": 8,
     "metadata": {},
     "output_type": "execute_result"
    }
   ],
   "source": [
    "recursive_collection.count()"
   ]
  },
  {
   "cell_type": "code",
   "execution_count": 11,
   "metadata": {},
   "outputs": [
    {
     "data": {
      "text/plain": [
       "2359"
      ]
     },
     "execution_count": 11,
     "metadata": {},
     "output_type": "execute_result"
    }
   ],
   "source": [
    "token_collection.count()"
   ]
  },
  {
   "cell_type": "code",
   "execution_count": 19,
   "metadata": {},
   "outputs": [
    {
     "data": {
      "text/plain": [
       "21"
      ]
     },
     "execution_count": 19,
     "metadata": {},
     "output_type": "execute_result"
    }
   ],
   "source": [
    "len(recursive_collection.get(where={\"corpus_id\": \"chatlogs\"})['ids'])"
   ]
  },
  {
   "cell_type": "code",
   "execution_count": 15,
   "metadata": {},
   "outputs": [
    {
     "data": {
      "text/plain": [
       "22"
      ]
     },
     "execution_count": 15,
     "metadata": {},
     "output_type": "execute_result"
    }
   ],
   "source": [
    "len(cluster_collection.get(where={\"corpus_id\": \"chatlogs\"})['ids'])"
   ]
  },
  {
   "cell_type": "code",
   "execution_count": 21,
   "metadata": {},
   "outputs": [
    {
     "data": {
      "text/plain": [
       "{'corpus_id': 'chatlogs', 'end_index': 1871, 'start_index': 0}"
      ]
     },
     "execution_count": 21,
     "metadata": {},
     "output_type": "execute_result"
    }
   ],
   "source": [
    "recursive_collection.get(where={\"corpus_id\": \"chatlogs\"})['metadatas'][0]"
   ]
  },
  {
   "cell_type": "code",
   "execution_count": 22,
   "metadata": {},
   "outputs": [
    {
     "data": {
      "text/plain": [
       "{'corpus_id': 'chatlogs', 'end_index': 1837, 'start_index': 0}"
      ]
     },
     "execution_count": 22,
     "metadata": {},
     "output_type": "execute_result"
    }
   ],
   "source": [
    "cluster_collection.get(where={\"corpus_id\": \"chatlogs\"})['metadatas'][0]"
   ]
  },
  {
   "cell_type": "code",
   "execution_count": 25,
   "metadata": {},
   "outputs": [
    {
     "data": {
      "text/plain": [
       "'[{\\'content\\': \"These instructions apply to section-based themes (Responsive 6.0+, Retina 4.0+, Parallax 3.0+ Turbo 2.0+, Mobilia 5.0+). What theme version am I using?\\\\nOn your Collections pages & Featured Collections sections, you can easily show the secondary image of a product on hover by enabling one of the theme\\'s built-in settings!\\\\nYour Collection pages & Featured Collections sections will now display the secondary product image just by hovering over that product image thumbnail.\\\\nDoes this feature apply to all sections of the theme or just specific ones as listed in the text material?\", \\'role\\': \\'user\\'}, {\\'content\\': \\'This feature only applies to Collection pages and Featured Collections sections of the section-based themes listed in the text material.\\', \\'role\\': \\'assistant\\'}, {\\'content\\': \\'Can you guide me through the process of enabling the secondary image hover feature on my Collection pages and Featured Collections sections?\\', \\'role\\': \\'user\\'}, {\\'content\\': \"Sure, here are the steps to enable the secondary image hover feature on your Collection pages and Featured Collections sections:\\\\n\\\\n1. Log in to your Shopify account and go to your Online Store.\\\\n2. Click on Customize theme for the section-based theme you are using.\\\\n3. Navigate to the Collection pages or Featured Collections section where you want to enable the secondary image hover feature.\\\\n4. With the section open, click on the section\\'s setting (gear) icon in the top-left corner.\\\\n5. In the settings panel that appears, look for an option labeled \\'Image display\\' or \\'Image hover\\'.\\\\n6. If available, select \\'Show secondary image on hover\\'.\\\\n7. Save the changes and preview the Collection/Featured Collection page to see the effect.\\\\n\\\\nIf you\\'re having trouble finding the setting, the best thing to do is refer to your theme\\'s documentation, since the location and labeling of settings'"
      ]
     },
     "execution_count": 25,
     "metadata": {},
     "output_type": "execute_result"
    }
   ],
   "source": [
    "recursive_collection.get(where={\"corpus_id\": \"chatlogs\"})['documents'][0]"
   ]
  },
  {
   "cell_type": "code",
   "execution_count": 23,
   "metadata": {},
   "outputs": [
    {
     "data": {
      "text/plain": [
       "'[{\\'content\\': \"These instructions apply to section-based themes (Responsive 6.0+, Retina 4.0+, Parallax 3.0+ Turbo 2.0+, Mobilia 5.0+). What theme version am I using?\\\\nOn your Collections pages & Featured Collections sections, you can easily show the secondary image of a product on hover by enabling one of the theme\\'s built-in settings!\\\\nYour Collection pages & Featured Collections sections will now display the secondary product image just by hovering over that product image thumbnail.\\\\nDoes this feature apply to all sections of the theme or just specific ones as listed in the text material?\", \\'role\\': \\'user\\'}, {\\'content\\': \\'This feature only applies to Collection pages and Featured Collections sections of the section-based themes listed in the text material.\\', \\'role\\': \\'assistant\\'}, {\\'content\\': \\'Can you guide me through the process of enabling the secondary image hover feature on my Collection pages and Featured Collections sections?\\', \\'role\\': \\'user\\'}, {\\'content\\': \"Sure, here are the steps to enable the secondary image hover feature on your Collection pages and Featured Collections sections:\\\\n\\\\n1. Log in to your Shopify account and go to your Online Store.\\\\n2. Click on Customize theme for the section-based theme you are using.\\\\n3. Navigate to the Collection pages or Featured Collections section where you want to enable the secondary image hover feature.\\\\n4. With the section open, click on the section\\'s setting (gear) icon in the top-left corner.\\\\n5. In the settings panel that appears, look for an option labeled \\'Image display\\' or \\'Image hover\\'.\\\\n6. If available, select \\'Show secondary image on hover\\'.\\\\n7. Save the changes and preview the Collection/Featured Collection page to see the effect.\\\\n\\\\nIf you\\'re having trouble finding the setting, the best thing to do is refer to your theme\\'s documentation, since the'"
      ]
     },
     "execution_count": 23,
     "metadata": {},
     "output_type": "execute_result"
    }
   ],
   "source": [
    "cluster_collection.get(where={\"corpus_id\": \"chatlogs\"})['documents'][0]"
   ]
  },
  {
   "cell_type": "code",
   "execution_count": null,
   "metadata": {},
   "outputs": [],
   "source": [
    "cluster_collection.get(where={\"corpus_id\": \"chatlogs\"})['documents'][0]"
   ]
  },
  {
   "cell_type": "code",
   "execution_count": 2,
   "metadata": {},
   "outputs": [],
   "source": [
    "import tiktoken\n",
    "\n",
    "# Count the number of tokens in each page_content\n",
    "def num_tokens_from_string(string: str) -> int:\n",
    "    \"\"\"Returns the number of tokens in a text string.\"\"\"\n",
    "    encoding = tiktoken.get_encoding(\"cl100k_base\")\n",
    "    num_tokens = len(encoding.encode(string, disallowed_special=()))\n",
    "    return num_tokens"
   ]
  },
  {
   "cell_type": "code",
   "execution_count": 29,
   "metadata": {},
   "outputs": [],
   "source": [
    "token_lengths = [num_tokens_from_string(x) for x in recursive_collection.get(where={\"corpus_id\": \"wikitexts\"})['documents']]"
   ]
  },
  {
   "cell_type": "code",
   "execution_count": 30,
   "metadata": {},
   "outputs": [
    {
     "data": {
      "image/png": "[encoded data removed]",
      "text/plain": [
       "<Figure size 640x480 with 1 Axes>"
      ]
     },
     "metadata": {},
     "output_type": "display_data"
    },
    {
     "name": "stdout",
     "output_type": "stream",
     "text": [
      "Median Token Length: 201.0\n",
      "Mean Token Length: 191.29834254143645\n",
      "Min Token Length: 5\n",
      "Max Token Length: 275\n"
     ]
    }
   ],
   "source": [
    "import matplotlib.pyplot as plt\n",
    "import numpy as np\n",
    "\n",
    "# Plot histogram of token lengths\n",
    "plt.hist(token_lengths, bins=30, edgecolor='black')\n",
    "plt.xlabel('Chunk Token Length')\n",
    "plt.ylabel('Frequency')\n",
    "plt.title('Histogram of Token Lengths')\n",
    "plt.show()\n",
    "\n",
    "# Calculate and print statistics\n",
    "median_length = np.median(token_lengths)\n",
    "mean_length = np.mean(token_lengths)\n",
    "min_length = np.min(token_lengths)\n",
    "max_length = np.max(token_lengths)\n",
    "\n",
    "print(f\"Median Token Length: {median_length}\")\n",
    "print(f\"Mean Token Length: {mean_length}\")\n",
    "print(f\"Min Token Length: {min_length}\")\n",
    "print(f\"Max Token Length: {max_length}\")\n"
   ]
  },
  {
   "cell_type": "code",
   "execution_count": 20,
   "metadata": {},
   "outputs": [
    {
     "data": {
      "image/png": "[encoded data removed]",
      "text/plain": [
       "<Figure size 640x480 with 1 Axes>"
      ]
     },
     "metadata": {},
     "output_type": "display_data"
    },
    {
     "name": "stdout",
     "output_type": "stream",
     "text": [
      "Median Token Length: 181.0\n",
      "Mean Token Length: 154.49707602339183\n",
      "Min Token Length: 1\n",
      "Max Token Length: 251\n"
     ]
    }
   ],
   "source": [
    "import matplotlib.pyplot as plt\n",
    "import numpy as np\n",
    "\n",
    "# Plot histogram of token lengths\n",
    "plt.hist(token_lengths, bins=30, edgecolor='black')\n",
    "plt.xlabel('Chunk Token Length')\n",
    "plt.ylabel('Frequency')\n",
    "plt.title('Histogram of Token Lengths')\n",
    "plt.show()\n",
    "\n",
    "# Calculate and print statistics\n",
    "median_length = np.median(token_lengths)\n",
    "mean_length = np.mean(token_lengths)\n",
    "min_length = np.min(token_lengths)\n",
    "max_length = np.max(token_lengths)\n",
    "\n",
    "print(f\"Median Token Length: {median_length}\")\n",
    "print(f\"Mean Token Length: {mean_length}\")\n",
    "print(f\"Min Token Length: {min_length}\")\n",
    "print(f\"Max Token Length: {max_length}\")\n",
    "# UPDATE CLUSTER CHUNKER TO GROUP UNDER 100 TOKENS.\n"
   ]
  }
 ],
 "metadata": {
  "kernelspec": {
   "display_name": "chroma-research",
   "language": "python",
   "name": "python3"
  },
  "language_info": {
   "codemirror_mode": {
    "name": "ipython",
    "version": 3
   },
   "file_extension": ".py",
   "mimetype": "text/x-python",
   "name": "python",
   "nbconvert_exporter": "python",
   "pygments_lexer": "ipython3",
   "version": "3.11.8"
  }
 },
 "nbformat": 4,
 "nbformat_minor": 2
}
