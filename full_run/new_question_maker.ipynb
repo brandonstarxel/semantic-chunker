{
 "cells": [
  {
   "cell_type": "code",
   "execution_count": 1,
   "metadata": {},
   "outputs": [],
   "source": [
    "from openai import OpenAI\n",
    "import os\n",
    "\n",
    "OPENAI_API_KEY = os.getenv('OPENAI_CHROMA_API_KEY')"
   ]
  },
  {
   "cell_type": "code",
   "execution_count": 2,
   "metadata": {},
   "outputs": [],
   "source": [
    "question_maker_prompt = \"\"\"\n",
    "You are an agent that generates questions from provided text. Your job is to generate a question and provide the relevant sections from the text as references.\n",
    "\n",
    "Instructions:\n",
    "1. For each provided text, generate a question that can be answered solely by the facts in the text.\n",
    "2. Extract all significant facts that answer the generated question.\n",
    "3. Format the response in JSON format with two fields:\n",
    "   - 'question': A question directly related to these facts, ensuring it can only be answered using the references provided.\n",
    "   - 'references': A list of all text sections that answer the generated question. These must be exact copies from the original text and should be whole sentences where possible.\n",
    "\n",
    "Notes: \n",
    "Make the question more specific.\n",
    "Do not ask a question about multiple topics. \n",
    "Do not ask a question with over 5 references.\n",
    "\n",
    "Example:\n",
    "\n",
    "Text: \"Experiment A: The temperature control test showed that at higher temperatures, the reaction rate increased significantly, resulting in quicker product formation. However, at extremely high temperatures, the reaction yield decreased due to the degradation of reactants.\n",
    "\n",
    "Experiment B: The pH sensitivity test revealed that the reaction is highly dependent on acidity, with optimal results at a pH of 7. Deviating from this pH level in either direction led to a substantial drop in yield.\n",
    "\n",
    "Experiment C: In the enzyme activity assay, it was found that the presence of a specific enzyme accelerated the reaction by a factor of 3. The absence of the enzyme, however, led to a sluggish reaction with an extended completion time.\n",
    "\n",
    "Experiment D: The light exposure trial demonstrated that UV light stimulated the reaction, making it complete in half the time compared to the absence of light. Conversely, prolonged light exposure led to unwanted side reactions that contaminated the final product.\"\n",
    "\n",
    "Response: {\n",
    "  'oath': \"I will not use the word 'and' in the question unless it is part of a proper noun. I will also make sure the question is concise.\",\n",
    "  'question': 'What experiments were done in this paper?',\n",
    "  'references': ['Experiment A: The temperature control test showed that at higher temperatures, the reaction rate increased significantly, resulting in quicker product formation.', 'Experiment B: The pH sensitivity test revealed that the reaction is highly dependent on acidity, with optimal results at a pH of 7.', 'Experiment C: In the enzyme activity assay, it was found that the presence of a specific enzyme accelerated the reaction by a factor of 3.', 'Experiment D: The light exposure trial demonstrated that UV light stimulated the reaction, making it complete in half the time compared to the absence of light.']\n",
    "}\n",
    "\n",
    "DO NOT USE THE WORD 'and' IN THE QUESTION UNLESS IT IS PART OF A PROPER NOUN. YOU MUST INCLUDE THE OATH ABOVE IN YOUR RESPONSE.\n",
    "YOU MUST ALSO NOT REPEAT A QUESTION THAT HAS ALREADY BEEN USED.\n",
    "\"\"\""
   ]
  },
  {
   "cell_type": "code",
   "execution_count": 31,
   "metadata": {},
   "outputs": [],
   "source": [
    "test_text = \"\"\"Experiment A: The temperature control test showed that at higher temperatures, the reaction rate increased significantly, resulting in quicker product formation. However, at extremely high temperatures, the reaction yield decreased due to the degradation of reactants.\n",
    "\n",
    "Experiment B: The pH sensitivity test revealed that the reaction is highly dependent on acidity, with optimal results at a pH of 7. Deviating from this pH level in either direction led to a substantial drop in yield.\n",
    "\n",
    "Experiment C: In the enzyme activity assay, it was found that the presence of a specific enzyme accelerated the reaction by a factor of 3. The absence of the enzyme, however, led to a sluggish reaction with an extended completion time.\n",
    "\n",
    "Experiment D: The light exposure trial demonstrated that UV light stimulated the reaction, making it complete in half the time compared to the absence of light. Conversely, prolonged light exposure led to unwanted side reactions that contaminated the final product.\n",
    "\"\"\""
   ]
  },
  {
   "cell_type": "code",
   "execution_count": 28,
   "metadata": {},
   "outputs": [],
   "source": [
    "def text_to_chunked(text):\n",
    "    chunks = [text[i:i+100] for i in range(0, len(text), 100)]\n",
    "    chunked_string = \"\"\n",
    "    for i, chunk in enumerate(chunks):\n",
    "        chunked_string += f\"<start_chunk_{i}>\" + chunk + f\"<end_chunk_{i}>\"\n",
    "    return chunked_string"
   ]
  },
  {
   "cell_type": "code",
   "execution_count": 34,
   "metadata": {},
   "outputs": [],
   "source": [
    "chunked_string = text_to_chunked(test_text)"
   ]
  },
  {
   "cell_type": "code",
   "execution_count": 35,
   "metadata": {},
   "outputs": [
    {
     "data": {
      "text/plain": [
       "'<start_chunk_0>Experiment A: The temperature control test showed that at higher temperatures, the reaction rate inc<end_chunk_0><start_chunk_1>reased significantly, resulting in quicker product formation. However, at extremely high temperature<end_chunk_1><start_chunk_2>s, the reaction yield decreased due to the degradation of reactants.\\n\\nExperiment B: The pH sensitivi<end_chunk_2><start_chunk_3>ty test revealed that the reaction is highly dependent on acidity, with optimal results at a pH of 7<end_chunk_3><start_chunk_4>. Deviating from this pH level in either direction led to a substantial drop in yield.\\n\\nExperiment C<end_chunk_4><start_chunk_5>: In the enzyme activity assay, it was found that the presence of a specific enzyme accelerated the <end_chunk_5><start_chunk_6>reaction by a factor of 3. The absence of the enzyme, however, led to a sluggish reaction with an ex<end_chunk_6><start_chunk_7>tended completion time.\\n\\nExperiment D: The light exposure trial demonstrated that UV light stimulate<end_chunk_7><start_chunk_8>d the reaction, making it complete in half the time compared to the absence of light. Conversely, pr<end_chunk_8><start_chunk_9>olonged light exposure led to unwanted side reactions that contaminated the final product.\\n<end_chunk_9>'"
      ]
     },
     "execution_count": 35,
     "metadata": {},
     "output_type": "execute_result"
    }
   ],
   "source": [
    "chunked_string"
   ]
  },
  {
   "cell_type": "code",
   "execution_count": 20,
   "metadata": {},
   "outputs": [],
   "source": [
    "import tiktoken\n",
    "\n",
    "# Count the number of tokens in each page_content\n",
    "def num_tokens_from_string(string: str) -> int:\n",
    "    \"\"\"Returns the number of tokens in a text string.\"\"\"\n",
    "    encoding = tiktoken.get_encoding(\"cl100k_base\")\n",
    "    num_tokens = len(encoding.encode(string, disallowed_special=()))\n",
    "    return num_tokens"
   ]
  },
  {
   "cell_type": "code",
   "execution_count": 73,
   "metadata": {},
   "outputs": [],
   "source": [
    "\n",
    "question_maker_approx_system_prompt = \"\"\"\n",
    "You are an agent that generates questions from provided text. Your job is to generate a question and provide the relevant sections from the text as references.\n",
    "\n",
    "Instructions:\n",
    "1. For each provided text, generate a question that can be answered solely by the facts in the text.\n",
    "2. Extract all significant facts that answer the generated question.\n",
    "3. Format the response in JSON format with two fields:\n",
    "   - 'question': A question directly related to these facts, ensuring it can only be answered using the references provided.\n",
    "   - 'references': A list of JSON objects with the following fields: 'content': the text section that answers the question, 'start_chunk': the index of the start chunk, 'end_chunk': the index of the end chunk. These are inclusive indices.\n",
    "\n",
    "Notes: \n",
    "Make the question more specific.\n",
    "Do not ask a question about multiple topics. \n",
    "Do not ask a question with over 5 references.\n",
    "\n",
    "Example:\n",
    "\n",
    "Text: {text}\n",
    "\n",
    "Response: {\n",
    "  'oath': \"I will not use the word 'and' in the question unless it is part of a proper noun. I will also make sure the question is concise.\",\n",
    "  'question': 'What experiments were done in this paper?',\n",
    "  'references': [{\n",
    "    'content': 'Experiment A: The temperature control test showed that at higher temperatures, the reaction rate increased significantly, resulting in quicker product formation.',\n",
    "    'start_chunk': 0,\n",
    "    'end_chunk': 1,\n",
    "  }, {\n",
    "    'content': 'Experiment B: The pH sensitivity test revealed that the reaction is highly dependent on acidity, with optimal results at a pH of 7.',\n",
    "    'start_chunk': 2,\n",
    "    'end_chunk': 3,\n",
    "  }, {\n",
    "    'content': 'Experiment C: In the enzyme activity assay, it was found that the presence of a specific enzyme accelerated the reaction by a factor of 3.',\n",
    "    'start_chunk': 4,\n",
    "    'end_chunk': 6,\n",
    "  }, {\n",
    "    'content': 'Experiment D: The light exposure trial demonstrated that UV light stimulated the reaction, making it complete in half the time compared to the absence of light.',\n",
    "    'start_chunk': 7,\n",
    "    'end_chunk': 8,\n",
    "  }]\n",
    "}\n",
    "\n",
    "DO NOT USE THE WORD 'and' IN THE QUESTION UNLESS IT IS PART OF A PROPER NOUN. YOU MUST INCLUDE THE OATH ABOVE IN YOUR RESPONSE.\n",
    "YOU MUST ALSO NOT REPEAT A QUESTION THAT HAS ALREADY BEEN USED.\n",
    "\"\"\".replace(\"{text}\", chunked_string)"
   ]
  },
  {
   "cell_type": "code",
   "execution_count": 72,
   "metadata": {},
   "outputs": [
    {
     "name": "stdout",
     "output_type": "stream",
     "text": [
      "<start_chunk_0>Experiment A: The temperature control test showed that at higher temperatures, the reaction rate inc<end_chunk_0><start_chunk_1>reased significantly, resulting in quicker product formation. However, at extremely high temperature<end_chunk_1><start_chunk_2>s, the reaction yield decreased due to the degradation of reactants.\n",
      "\n",
      "Experiment B: The pH sensitivi<end_chunk_2><start_chunk_3>ty test revealed that the reaction is highly dependent on acidity, with optimal results at a pH of 7<end_chunk_3><start_chunk_4>. Deviating from this pH level in either direction led to a substantial drop in yield.\n",
      "\n",
      "Experiment C<end_chunk_4><start_chunk_5>: In the enzyme activity assay, it was found that the presence of a specific enzyme accelerated the <end_chunk_5><start_chunk_6>reaction by a factor of 3. The absence of the enzyme, however, led to a sluggish reaction with an ex<end_chunk_6><start_chunk_7>tended completion time.\n",
      "\n",
      "Experiment D: The light exposure trial demonstrated that UV light stimulate<end_chunk_7><start_chunk_8>d the reaction, making it complete in half the time compared to the absence of light. Conversely, pr<end_chunk_8><start_chunk_9>olonged light exposure led to unwanted side reactions that contaminated the final product.\n",
      "<end_chunk_9>\n"
     ]
    }
   ],
   "source": [
    "print(chunked_string)"
   ]
  },
  {
   "cell_type": "code",
   "execution_count": 101,
   "metadata": {},
   "outputs": [
    {
     "name": "stdout",
     "output_type": "stream",
     "text": [
      "[1, 2, 3]\n"
     ]
    }
   ],
   "source": [
    "test = [1,2,3]\n",
    "\n",
    "print(test[:100])"
   ]
  },
  {
   "cell_type": "code",
   "execution_count": 92,
   "metadata": {},
   "outputs": [],
   "source": [
    "question_maker_approx_user_prompt = \"\"\"Text: {document}\n",
    "\n",
    "The following questions have already been used. Do not repeat them: {prev_questions_str}\n",
    "\n",
    "Do not repeat the above questions. Make your next question unique. Respond with references and a question in JSON. The references must contain the exact text that answers the question and the start_chunk and end_chunk. DO NOT USE THE WORD 'and' IN THE QUESTION UNLESS IT IS PART OF A PROPER NOUN.\"\"\""
   ]
  },
  {
   "cell_type": "code",
   "execution_count": 70,
   "metadata": {},
   "outputs": [
    {
     "name": "stdout",
     "output_type": "stream",
     "text": [
      "Chunk 1: |This is a long text that needs to be split into |\n",
      "Chunk 2: |smaller chunks. Each chunk should not exceed the |\n",
      "Chunk 3: |specified length.|\n"
     ]
    }
   ],
   "source": [
    "class RecursiveTextSplitter:\n",
    "    def __init__(self, chunk_length):\n",
    "        self.chunk_length = chunk_length\n",
    "\n",
    "    def split_text(self, text):\n",
    "        if len(text) <= self.chunk_length:\n",
    "            return [text]\n",
    "\n",
    "        chunks = []\n",
    "        start = 0\n",
    "        while start < len(text):\n",
    "            end = start + self.chunk_length\n",
    "            chunk = text[start:end]\n",
    "            if end < len(text):\n",
    "                # Find the last space within the chunk to avoid splitting a word\n",
    "                space_index = chunk.rfind(' ')\n",
    "                if space_index != -1:\n",
    "                    end = start + space_index + 1  # Include the space in the chunk\n",
    "                    chunk = text[start:end]\n",
    "            chunks.append(chunk)\n",
    "            start = end  # Move start to end to continue splitting\n",
    "\n",
    "        return chunks\n",
    "\n",
    "# Usage example\n",
    "splitter = RecursiveTextSplitter(chunk_length=50)\n",
    "text = \"This is a long text that needs to be split into smaller chunks. Each chunk should not exceed the specified length.\"\n",
    "chunks = splitter.split_text(text)\n",
    "for i, chunk in enumerate(chunks):\n",
    "    print(f\"Chunk {i + 1}: |{chunk}|\")\n"
   ]
  },
  {
   "cell_type": "code",
   "execution_count": 112,
   "metadata": {},
   "outputs": [],
   "source": [
    "import random\n",
    "import json\n",
    "\n",
    "def _tag_text(text):\n",
    "    chunk_length = 100\n",
    "    chunks = []\n",
    "    tag_indexes = [0]\n",
    "    start = 0\n",
    "    while start < len(text):\n",
    "        end = start + chunk_length\n",
    "        chunk = text[start:end]\n",
    "        if end < len(text):\n",
    "            # Find the last space within the chunk to avoid splitting a word\n",
    "            space_index = chunk.rfind(' ')\n",
    "            if space_index != -1:\n",
    "                end = start + space_index + 1  # Include the space in the chunk\n",
    "                chunk = text[start:end]\n",
    "        chunks.append(chunk)\n",
    "        tag_indexes.append(end)\n",
    "        start = end  # Move start to end to continue splitting\n",
    "\n",
    "    tagged_text = \"\"\n",
    "    for i, chunk in enumerate(chunks):\n",
    "        tagged_text += f\"<start_chunk_{i}>\" + chunk + f\"<end_chunk_{i}>\"\n",
    "\n",
    "    return tagged_text, tag_indexes\n",
    "\n",
    "client = OpenAI(api_key=OPENAI_API_KEY)\n",
    "\n",
    "# def _extract_question_and_references(self, corpus, document_length=4000, prev_questions=[]):\n",
    "def _extract_question_and_references(corpus, document_length=4000, prev_questions=[]):\n",
    "    if len(corpus) > document_length:\n",
    "        start_index = random.randint(0, len(corpus) - document_length)\n",
    "        document = corpus[start_index : start_index + document_length]\n",
    "    else:\n",
    "        start_index = 0\n",
    "        document = corpus\n",
    "    \n",
    "    if prev_questions is not None:\n",
    "        if len(prev_questions) > 20:\n",
    "            questions_sample = random.sample(prev_questions, 20)\n",
    "            prev_questions_str = '\\n'.join(questions_sample)\n",
    "        else:\n",
    "            prev_questions_str = '\\n'.join(prev_questions)\n",
    "    else:\n",
    "        prev_questions_str = \"\"\n",
    "\n",
    "    tagged_text, tag_indexes = _tag_text(document)\n",
    "\n",
    "    completion = client.chat.completions.create(\n",
    "        model=\"gpt-4-turbo\",\n",
    "        response_format={ \"type\": \"json_object\" },\n",
    "        max_tokens=600,\n",
    "        messages=[\n",
    "            {\"role\": \"system\", \"content\": question_maker_approx_system_prompt},\n",
    "            {\"role\": \"user\", \"content\": question_maker_approx_user_prompt.replace(\"{document}\", tagged_text).replace(\"{prev_questions_str}\", prev_questions_str)}\n",
    "        ]\n",
    "    )\n",
    "    \n",
    "    json_response = json.loads(completion.choices[0].message.content)\n",
    "\n",
    "    print(json_response)\n",
    "    \n",
    "    try:\n",
    "        text_references = json_response['references']\n",
    "    except KeyError:\n",
    "        raise ValueError(\"The response does not contain a 'references' field.\")\n",
    "    try:\n",
    "        question = json_response['question']\n",
    "    except KeyError:\n",
    "        raise ValueError(\"The response does not contain a 'question' field.\")\n",
    "\n",
    "    references = []\n",
    "    for reference in text_references:\n",
    "        reference_keys = list(reference.keys())\n",
    "\n",
    "        if len(reference_keys) != 3:\n",
    "            raise ValueError(f\"Each reference must have exactly 3 keys: 'content', 'start_chunk', and 'end_chunk'. Got keys: {reference_keys}\")\n",
    "\n",
    "        if 'end_chunk' not in reference_keys:\n",
    "            reference_keys.remove('content')\n",
    "            reference_keys.remove('start_chunk')\n",
    "            end_chunk_key = reference_keys[0]\n",
    "            end_index = start_index + tag_indexes[reference[end_chunk_key]+1]\n",
    "        else:\n",
    "            end_index = start_index + tag_indexes[reference['end_chunk']+1]\n",
    "\n",
    "        start_index = start_index + tag_indexes[reference['start_chunk']]\n",
    "        references.append((corpus[start_index:end_index], start_index, end_index))\n",
    "    \n",
    "    return question, references"
   ]
  },
  {
   "cell_type": "code",
   "execution_count": 113,
   "metadata": {},
   "outputs": [
    {
     "name": "stdout",
     "output_type": "stream",
     "text": [
      "<start_chunk_0>On glancing over my notes of the seventy odd cases in which I have during the last eight years <end_chunk_0><start_chunk_1>studied the methods of my friend Sherlock Holmes, I find many tragic, some comic, a large number <end_chunk_1><start_chunk_2>merely strange, but none commonplace; for, working as he did rather for the love of his art than <end_chunk_2><start_chunk_3>for the acquirement of wealth, he refused to associate himself with any investigation which did not <end_chunk_3><start_chunk_4>tend towards the unusual, and even the fantastic. Of all these varied cases, however, I cannot <end_chunk_4><start_chunk_5>recall any which presented more singular features than that which was associated with the <end_chunk_5><start_chunk_6>well-known Surrey family of the Roylotts of Stoke Moran. The events in question occurred in the <end_chunk_6><start_chunk_7>early days of my association with Holmes, when we were sharing rooms as bachelors in Baker Street. <end_chunk_7><start_chunk_8>It is possible that I might have placed them upon record before, but a promise of secrecy was made <end_chunk_8><start_chunk_9>at the time, from which I have only been freed during the last month by the untimely death of the <end_chunk_9><start_chunk_10>lady to whom the pledge was given. It is perhaps as well that the facts should now come to light, <end_chunk_10><start_chunk_11>for I have reasons to know that there are widespread rumours as to the death of Dr. Grimesby <end_chunk_11><start_chunk_12>Roylott which tend to make the matter even more terrible than the truth.<end_chunk_12>\n"
     ]
    }
   ],
   "source": [
    "text = \"\"\"On glancing over my notes of the seventy odd cases in which I have\n",
    "during the last eight years studied the methods of my friend Sherlock\n",
    "Holmes, I find many tragic, some comic, a large number merely strange,\n",
    "but none commonplace; for, working as he did rather for the love of his\n",
    "art than for the acquirement of wealth, he refused to associate himself\n",
    "with any investigation which did not tend towards the unusual, and even\n",
    "the fantastic. Of all these varied cases, however, I cannot recall any\n",
    "which presented more singular features than that which was associated\n",
    "with the well-known Surrey family of the Roylotts of Stoke Moran. The\n",
    "events in question occurred in the early days of my association with\n",
    "Holmes, when we were sharing rooms as bachelors in Baker Street. It is\n",
    "possible that I might have placed them upon record before, but a\n",
    "promise of secrecy was made at the time, from which I have only been\n",
    "freed during the last month by the untimely death of the lady to whom\n",
    "the pledge was given. It is perhaps as well that the facts should now\n",
    "come to light, for I have reasons to know that there are widespread\n",
    "rumours as to the death of Dr. Grimesby Roylott which tend to make the\n",
    "matter even more terrible than the truth.\"\"\"\n",
    "\n",
    "text = text.replace(\"\\n\", \" \")\n",
    "\n",
    "tagged_text, _ = _tag_text(text)\n",
    "print(tagged_text)"
   ]
  },
  {
   "cell_type": "code",
   "execution_count": 114,
   "metadata": {},
   "outputs": [
    {
     "name": "stdout",
     "output_type": "stream",
     "text": [
      "<start_chunk_0>On glancing over my notes of the seventy odd cases in which I have during \n",
      "the last eight years <end_chunk_0><start_chunk_1>studied the methods of my friend \n",
      "Sherlock Holmes, I find many tragic, some comic, a large number \n",
      "<end_chunk_1><start_chunk_2>merely strange, but none commonplace; for, working as he did \n",
      "rather for the love of his art than <end_chunk_2><start_chunk_3>for the acquirement of \n",
      "wealth, he refused to associate himself with any investigation which did not \n",
      "<end_chunk_3><start_chunk_4>tend towards the unusual, and even the fantastic. Of all \n",
      "these varied cases, however, I cannot <end_chunk_4><start_chunk_5>recall any which \n",
      "presented more singular features than that which was associated with the \n",
      "<end_chunk_5><start_chunk_6>well-known Surrey family of the Roylotts of Stoke Moran. The \n",
      "events in question occurred in the <end_chunk_6><start_chunk_7>early days of my \n",
      "association with Holmes, when we were sharing rooms as bachelors in Baker Street. \n",
      "<end_chunk_7><start_chunk_8>It is possible that I might have placed them upon record \n",
      "before, but a promise of secrecy was made <end_chunk_8><start_chunk_9>at the time, from \n",
      "which I have only been freed during the last month by the untimely death of the \n",
      "<end_chunk_9><start_chunk_10>lady to whom the pledge was given. It is perhaps as well \n",
      "that the facts should now come to light, <end_chunk_10><start_chunk_11>for I have reasons \n",
      "to know that there are widespread rumours as to the death of Dr. Grimesby \n",
      "<end_chunk_11><start_chunk_12>Roylott which tend to make the matter even more terrible \n",
      "than the truth.<end_chunk_12>\n"
     ]
    }
   ],
   "source": [
    "formatted_text = \"\"\n",
    "line_length = 90\n",
    "current_length = 0\n",
    "\n",
    "for word in tagged_text.split():\n",
    "    if current_length + len(word) + 1 > line_length:\n",
    "        formatted_text += \"\\n\"\n",
    "        current_length = 0\n",
    "    formatted_text += word + \" \"\n",
    "    current_length += len(word) + 1\n",
    "\n",
    "print(formatted_text.strip())\n"
   ]
  },
  {
   "cell_type": "code",
   "execution_count": 120,
   "metadata": {},
   "outputs": [],
   "source": [
    "import anthropic\n",
    "import os\n",
    "\n",
    "ANTHROPIC_API_KEY = os.getenv('ANTHROPIC_CHROMA_API_KEY')\n",
    "\n",
    "class AnthropicClient:\n",
    "    def __init__(self, api_key):\n",
    "        self.client = anthropic.Anthropic(api_key=api_key)\n",
    "\n",
    "    def create_message(self, system_prompt, messages, max_tokens=1000):\n",
    "        message = self.client.messages.create(\n",
    "            model=\"claude-3-5-sonnet-20240620\",\n",
    "            max_tokens=max_tokens,\n",
    "            temperature=0.0,\n",
    "            system=system_prompt,\n",
    "            messages=messages\n",
    "        )\n",
    "        return message.content[0].text\n",
    "    \n",
    "client = AnthropicClient(api_key=ANTHROPIC_API_KEY)\n",
    "\n",
    "message = client.create_message(\"You are role playing as al capone, the famous chicago gansta. Engage with the user who is role playing as a newly arrived underdog.\", [{\n",
    "    \"role\": \"user\",\n",
    "    \"content\": \"What is your favorite food?\"\n",
    "}])"
   ]
  },
  {
   "cell_type": "code",
   "execution_count": 123,
   "metadata": {},
   "outputs": [
    {
     "name": "stdout",
     "output_type": "stream",
     "text": [
      "As Al Capone, I'd say my favorite food is a good Italian meal, ya see? Nothing beats a plate of my mama's homemade spaghetti and meatballs, with a nice glass of red wine on the side. But let me tell you, kid, in this business, it ain't always about what you like to eat. Sometimes it's about who you're eating with and what deals are going down at the table. Now, what brings a fresh face like you to my territory? You looking to make a name for yourself in Chicago?\n"
     ]
    }
   ],
   "source": [
    "print(message[0].text)"
   ]
  },
  {
   "cell_type": "code",
   "execution_count": 99,
   "metadata": {},
   "outputs": [
    {
     "name": "stdout",
     "output_type": "stream",
     "text": [
      "{'question': 'What observations did Sherlock Holmes make about the corner of the coronet?', 'references': [{'content': 'Now, Mr. Holder, here is the corner which corresponds to that which has been so unfortunately lost.', 'start_chunk': 35, 'end_chunk': 35}, {'content': 'Might I beg that you will break it off.', 'start_chunk': 36, 'end_chunk': 36}, {'content': 'Holmes suddenly bent his strength upon it, but without result.', 'start_chunk': 37, 'end_chunk': 37}, {'content': 'I feel it give a little, said he;', 'start_chunk': 38, 'end_chunk': 38}, {'content': 'but, though I am exceptionally strong in the fingers, it would take me all my time to break it.', 'start_chunk': 38, 'end_distribution_chart': 38}, {'content': 'An ordinary man could not do it.', 'start_chunk': 39, 'end_chunk': 39}]}\n"
     ]
    }
   ],
   "source": [
    "with open(\"/Users/brandon/Desktop/MonteIntelligence/corpora/sherlock_holmes.txt\", \"r\") as file:\n",
    "    corpus = file.read()\n",
    "\n",
    "question, references = _extract_question_and_references(corpus=corpus, document_length=4000, prev_questions=[\"What is the name of the detective in the Sherlock Holmes stories?\"])"
   ]
  },
  {
   "cell_type": "code",
   "execution_count": 100,
   "metadata": {},
   "outputs": [
    {
     "name": "stdout",
     "output_type": "stream",
     "text": [
      "What observations did Sherlock Holmes make about the corner of the coronet?\n",
      "[('been torn away.\\n\\n“Now, Mr. Holder,” said Holmes, “here is the corner which corresponds\\nto that ', 490235, 490330), ('rude meal into his pocket he started off upon\\nhis expedition.\\n\\nI had just finished my tea when he re', 493719, 493819), ('er, that you are nearing the end of your troubles.”\\n\\n“Ha! You say so! You have heard somethin', 497303, 497396), (' heard a soft tread pass his door, so he rose\\nand, looking out, was surprised to see his ', 500980, 501069), ('ght belonged to a man with naked feet. I was\\nat once convinced from what you had told me ', 504657, 504746), ('aw him. At first, of course, he denied everything.\\nBut when I gave him every particular that had o', 508423, 508521)]\n"
     ]
    }
   ],
   "source": [
    "print(question)\n",
    "print(references)"
   ]
  },
  {
   "cell_type": "code",
   "execution_count": 63,
   "metadata": {},
   "outputs": [
    {
     "name": "stdout",
     "output_type": "stream",
     "text": [
      "<start_chunk_0>﻿The Project Gutenberg eBook of The Adventures of Sherlock Holmes,\n",
      "by Arthur Conan Doyle\n",
      "\n",
      "This eBook<end_chunk_0><start_chunk_1> is for the use of anyone anywhere in the United States and\n",
      "most other parts of the world at no cost<end_chunk_1><start_chunk_2> and with almost no restrictions\n",
      "whatsoever. You may copy it, give it away or re-use it under the te<end_chunk_2><start_chunk_3>rms\n",
      "of the Project Gutenberg License included with this eBook or online at\n",
      "www.gutenberg.org. If you<end_chunk_3><start_chunk_4> are not located in the United States, you\n",
      "will have to check the laws of the country where you are <end_chunk_4><start_chunk_5>located before\n",
      "using this eBook.\n",
      "\n",
      "Title: The Adventures of Sherlock Holmes\n",
      "\n",
      "Author: Arthur Conan Doy<end_chunk_5><start_chunk_6>le\n",
      "\n",
      "Release Date: November 29, 2002 [eBook #1661]\n",
      "[Most recently updated: October 10, 2023]\n",
      "\n",
      "Languag<end_chunk_6><start_chunk_7>e: English\n",
      "\n",
      "Character set encoding: UTF-8\n",
      "\n",
      "Produced by: an anonymous Project Gutenberg volunteer and<end_chunk_7><start_chunk_8> Jose Menendez\n",
      "\n",
      "*** START OF THE PROJECT GUTENBERG EBOOK THE ADVENTURES OF SHERLOCK\n",
      "HOLMES ***\n",
      "\n",
      "\n",
      "\n",
      "\n",
      "T<end_chunk_8><start_chunk_9>he Adventures of Sherlock Holmes\n",
      "\n",
      "by Arthur Conan Doyle\n",
      "\n",
      "\n",
      "Contents\n",
      "\n",
      "   I.     A Scandal in Bohemia\n",
      " <end_chunk_9><start_chunk_10>  II.    The Red-Headed League\n",
      "   III.   A Case of Identity\n",
      "   IV.    The Boscombe Valley Mystery\n",
      "  <end_chunk_10><start_chunk_11> V.     The Five Orange Pips\n",
      "   VI.    The Man with the Twisted Lip\n",
      "   VII.   The Adventure of the B<end_chunk_11><start_chunk_12>lue Carbuncle\n",
      "   VIII.  The Adventure of the Speckled Band\n",
      "   IX.    The Adventure of the Engineer’s<end_chunk_12><start_chunk_13> Thumb\n",
      "   X.     The Adventure of the Noble Bachelor\n",
      "   XI.    The Adventure of the Beryl Coronet\n",
      "  <end_chunk_13><start_chunk_14> XII.   The Adventure of the Copper Beeches\n",
      "\n",
      "\n",
      "\n",
      "\n",
      "I. A SCANDAL IN BOHEMIA\n",
      "\n",
      "\n",
      "I.\n",
      "\n",
      "To Sherlock Holmes she<end_chunk_14><start_chunk_15> is always _the_ woman. I have seldom heard him\n",
      "mention her under any other name. In his eyes she ec<end_chunk_15><start_chunk_16>lipses and\n",
      "predominates the whole of her sex. It was not that he felt any emotion\n",
      "akin to love for I<end_chunk_16><start_chunk_17>rene Adler. All emotions, and that one particularly,\n",
      "were abhorrent to his cold, precise but admirab<end_chunk_17><start_chunk_18>ly balanced mind. He\n",
      "was, I take it, the most perfect reasoning and observing machine that\n",
      "the world<end_chunk_18><start_chunk_19> has seen, but as a lover he would have placed himself in a\n",
      "false position. He never spoke of the so<end_chunk_19><start_chunk_20>fter passions, save with a gibe\n",
      "and a sneer. They were admirable things for the observer—excellent f<end_chunk_20><start_chunk_21>or\n",
      "drawing the veil from men’s motives and actions. But for the trained\n",
      "reasoner to admit such intru<end_chunk_21><start_chunk_22>sions into his own delicate and finely\n",
      "adjusted temperament was to introduce a distracting factor wh<end_chunk_22><start_chunk_23>ich might\n",
      "throw a doubt upon all his mental results. Grit in a sensitive\n",
      "instrument, or a crack in o<end_chunk_23><start_chunk_24>ne of his own high-power lenses, would not\n",
      "be more disturbing than a strong emotion in a nature such<end_chunk_24><start_chunk_25> as his. And\n",
      "yet there was but one woman to him, and that woman was the late Irene\n",
      "Adler, of dubious<end_chunk_25><start_chunk_26> and questionable memory.\n",
      "\n",
      "I had seen little of Holmes lately. My marriage had drifted us away\n",
      "from <end_chunk_26><start_chunk_27>each other. My own complete happiness, and the home-centred\n",
      "interests which rise up around the man w<end_chunk_27><start_chunk_28>ho first finds himself master\n",
      "of his own establishment, were sufficient to absorb all my attention,\n",
      "<end_chunk_28><start_chunk_29>while Holmes, who loathed every form of society with his whole Bohemian\n",
      "soul, remained in our lodgin<end_chunk_29><start_chunk_30>gs in Baker Street, buried among his old\n",
      "books, and alternating from week to week between cocaine an<end_chunk_30><start_chunk_31>d ambition,\n",
      "the drowsiness of the drug, and the fierce energy of his own keen\n",
      "nature. He was still, <end_chunk_31><start_chunk_32>as ever, deeply attracted by the study of crime,\n",
      "and occupied his immense faculties and extraordinar<end_chunk_32><start_chunk_33>y powers of\n",
      "observation in following out those clues, and clearing up those\n",
      "mysteries which had been<end_chunk_33><start_chunk_34> abandoned as hopeless by the official police.\n",
      "From time to time I heard some vague account of his d<end_chunk_34><start_chunk_35>oings: of his\n",
      "summons to Odessa in the case of the Trepoff murder, of his clearing up\n",
      "of the singula<end_chunk_35><start_chunk_36>r tragedy of the Atkinson brothers at Trincomalee, and\n",
      "finally of the mission which he had accomplis<end_chunk_36><start_chunk_37>hed so delicately and\n",
      "successfully for the reigning family of Holland. Beyond these signs of\n",
      "his act<end_chunk_37><start_chunk_38>ivity, however, which I merely shared with all the readers of\n",
      "the daily press, I knew little of my f<end_chunk_38><start_chunk_39>ormer friend and companion.\n",
      "\n",
      "One night—it was on the twentieth of March, 1888—I was returning from a<end_chunk_39>\n"
     ]
    }
   ],
   "source": [
    "print(document)"
   ]
  },
  {
   "cell_type": "code",
   "execution_count": 43,
   "metadata": {},
   "outputs": [],
   "source": [
    "user_prompt = \"\"\"Text: {document}\n",
    "\n",
    "The following questions have already been used. Do not repeat them: {prev_questions_str}\n",
    "\n",
    "Do not repeat the above questions. Make your next question unique. Respond with references and a question in JSON. DO NOT USE THE WORD 'and' IN THE QUESTION UNLESS IT IS PART OF A PROPER NOUN.\"\"\""
   ]
  },
  {
   "cell_type": "code",
   "execution_count": 50,
   "metadata": {},
   "outputs": [],
   "source": [
    "with open(\"/Users/brandon/Desktop/MonteIntelligence/corpora/sherlock_holmes.txt\", \"r\") as file:\n",
    "    corpus = file.read()\n",
    "\n",
    "prev_questions = [\"What is the name of the main character?\", \"Who is the author of the book?\"]\n",
    "prev_questions_str = \"\\n\".join(prev_questions)\n",
    "\n",
    "document = text_to_chunked(corpus[:4000])\n"
   ]
  },
  {
   "cell_type": "code",
   "execution_count": 62,
   "metadata": {},
   "outputs": [
    {
     "name": "stdout",
     "output_type": "stream",
     "text": [
      "question:  What are the titles of the stories included in 'The Adventures of Sherlock Holmes'?\n",
      "references:  [{'start_chunk': 9, 'char_start': 0, 'end_chunk': 14, 'char_end': 47}]\n",
      "he Adventures of Sherlock Holmes\n",
      "\n",
      "by Arthur Conan Doyle\n",
      "\n",
      "\n",
      "Contents\n",
      "\n",
      "   I.     A Scandal in Bohemia\n",
      "  Thumb\n",
      "   X.     The Adventure of the Noble Bac\n"
     ]
    }
   ],
   "source": [
    "import json\n",
    "\n",
    "client = OpenAI(api_key=OPENAI_API_KEY)\n",
    "\n",
    "completion = client.chat.completions.create(\n",
    "            model=\"gpt-4-turbo\",\n",
    "            response_format={ \"type\": \"json_object\" },\n",
    "            max_tokens=600,\n",
    "            messages=[\n",
    "                {\"role\": \"system\", \"content\": question_maker_prompt},\n",
    "                {\"role\": \"user\", \"content\": user_prompt.replace(\"{document}\", document).replace(\"{prev_questions_str}\", prev_questions_str)}\n",
    "            ]\n",
    "        )\n",
    "\n",
    "json_response = json.loads(completion.choices[0].message.content)\n",
    "\n",
    "print('question: ', json_response['question'])\n",
    "print('references: ', json_response['references'])\n",
    "\n",
    "corpus_sub = corpus[:4000]\n",
    "\n",
    "document_splits = [corpus[:4000][i:i+100] for i in range(0, len(text), 100)]\n",
    "\n",
    "for ref in json_response['references']:\n",
    "    print(document[int(ref['start_chunk']):int(ref['end_chunk'])])"
   ]
  },
  {
   "cell_type": "code",
   "execution_count": 49,
   "metadata": {},
   "outputs": [
    {
     "data": {
      "text/plain": [
       "{'oath': \"I will not use the word 'and' in the question unless it is part of a proper noun. I will also make sure the question is concise.\",\n",
       " 'question': \"What are the titles of the stories included in 'The Adventures of Sherlock Holmes'?\",\n",
       " 'references': [{'start_chunk': 9, 'end_chunk': 14}]}"
      ]
     },
     "execution_count": 49,
     "metadata": {},
     "output_type": "execute_result"
    }
   ],
   "source": [
    "json_response"
   ]
  },
  {
   "cell_type": "code",
   "execution_count": 108,
   "metadata": {},
   "outputs": [
    {
     "name": "stdout",
     "output_type": "stream",
     "text": [
      "Mr. Bennet was so odd a mixture of quick parts, sarcastic humour,\n",
      "reserve, and caprice, that the experience of three-and-twenty years had\n",
      "been insufficient to make his wife understand his character. _Her_ mind\n",
      "was less difficult to develope. She was a woman of mean understanding,\n",
      "little information, and uncertain temper. When she was discontented, she\n",
      "fancied herself nervous. The business of her life was to get her\n",
      "daughters married: its solace was visiting and news.\n"
     ]
    }
   ],
   "source": [
    "with open(\"./corpora/fake_corpora.txt\", \"r\") as file:\n",
    "    fake_corpus = file.read()\n",
    "\n",
    "print(fake_corpus)"
   ]
  },
  {
   "cell_type": "code",
   "execution_count": 111,
   "metadata": {},
   "outputs": [
    {
     "data": {
      "image/png": "[encoded data removed]",
      "text/plain": [
       "<Figure size 1000x600 with 1 Axes>"
      ]
     },
     "metadata": {},
     "output_type": "display_data"
    }
   ],
   "source": [
    "import matplotlib.pyplot as plt\n",
    "\n",
    "\n",
    "# x and y sets as provided by the user\n",
    "x_sets = [\n",
    "    [0.734, 0.813, 0.614, 0.585, 0.696, 0.678, 0.699, 0.684],\n",
    "    [0.894, 0.909, 0.905, 0.896, 0.895, 0.894, 0.920, 0.881],\n",
    "    [0.933, 0.952, 0.936, 0.954, 0.932, 0.954, 0.966, 0.934]\n",
    "]\n",
    "\n",
    "y_sets = [\n",
    "    [0.088, 0.050, 0.109, 0.075, 0.202, 0.140, 0.124, 0.193],\n",
    "    [0.035, 0.029, 0.037, 0.028, 0.068, 0.055, 0.038, 0.068],\n",
    "    [0.018, 0.015, 0.019, 0.015, 0.036, 0.030, 0.021, 0.037]\n",
    "]\n",
    "\n",
    "# Plotting the data with the requested labels and title\n",
    "plt.figure(figsize=(10, 6))\n",
    "\n",
    "labels = [\"Min Retrieval\", \"5 Retrieval\", \"10 Retrieval\"]\n",
    "for i in range(len(x_sets)):\n",
    "    plt.plot(x_sets[i], y_sets[i], marker='o', label=labels[i])\n",
    "\n",
    "plt.xlabel('Recall')\n",
    "plt.ylabel('IoU')\n",
    "plt.title('Recall against IoU for OpenAI embedding over all corpora')\n",
    "plt.legend()\n",
    "plt.grid(True)\n",
    "plt.show()\n"
   ]
  },
  {
   "cell_type": "code",
   "execution_count": 109,
   "metadata": {},
   "outputs": [
    {
     "name": "stdout",
     "output_type": "stream",
     "text": [
      "199\n"
     ]
    }
   ],
   "source": [
    "print(fake_corpus.find(\"_Her_\"))"
   ]
  },
  {
   "cell_type": "code",
   "execution_count": 110,
   "metadata": {},
   "outputs": [
    {
     "data": {
      "text/plain": [
       "'Mr. Bennet was so odd a mixture of quick parts, sarcastic humour,\\nreserve, and caprice, that the experience of three-and-twenty years had\\nbeen insufficient to make his wife understand his character. '"
      ]
     },
     "execution_count": 110,
     "metadata": {},
     "output_type": "execute_result"
    }
   ],
   "source": [
    "fake_corpus[:199]"
   ]
  },
  {
   "cell_type": "code",
   "execution_count": null,
   "metadata": {},
   "outputs": [],
   "source": [
    "What was the result of Mr. Bennet being so odd a mixture? ,\"[{\"\"content\"\": \"\"Mr. Bennet was so odd a mixture of quick parts, sarcastic humour, reserve, and caprice, that the experience of three-and-twenty years had been insufficient to make his wife understand his character.\"\", \"\"start_index\"\": 0, \"\"end_index\"\": 199}]\",./corpora/fake_corpora.txt"
   ]
  },
  {
   "cell_type": "code",
   "execution_count": 107,
   "metadata": {},
   "outputs": [
    {
     "name": "stdout",
     "output_type": "stream",
     "text": [
      "Mr. Bennet was so odd a mixture of quick parts, sarcastic humour, reserve, and caprice, that the experience of three-and-twenty years had been insufficient to make his wife understand his character. \n"
     ]
    }
   ],
   "source": [
    "print(fake_corpus[0:199].replace(\"\\n\", \" \"))"
   ]
  }
 ],
 "metadata": {
  "kernelspec": {
   "display_name": "chroma-research",
   "language": "python",
   "name": "python3"
  },
  "language_info": {
   "codemirror_mode": {
    "name": "ipython",
    "version": 3
   },
   "file_extension": ".py",
   "mimetype": "text/x-python",
   "name": "python",
   "nbconvert_exporter": "python",
   "pygments_lexer": "ipython3",
   "version": "3.11.8"
  }
 },
 "nbformat": 4,
 "nbformat_minor": 2
}
