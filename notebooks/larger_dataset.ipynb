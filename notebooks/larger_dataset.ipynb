{
 "cells": [
  {
   "cell_type": "markdown",
   "metadata": {},
   "source": [
    "# Goals:\n",
    "- More corpus and questions. \n",
    "- Ideally we get different style corpuses.\n",
    "1. Research:\n",
    "Start with WikiText then use this to look for other text datasets.\n",
    "2. Compose a list of all different text datasets.\n",
    "3. Get a sample from each type.\n",
    "4. Generate questions for each dataset. \n",
    "\n",
    "\n",
    "Tokens extracted from good wiki articles\n",
    "https://huggingface.co/datasets/wikitext\n",
    "\n",
    "JSON Conversations between a user and a chat bot. \n",
    "https://huggingface.co/datasets/HuggingFaceH4/ultrachat_200k?row=0\n",
    "\n",
    "Finance:\n",
    "https://huggingface.co/datasets/AdaptLLM/finance-tasks?row=12\n",
    "\n",
    "Finance SEC fillings:\n",
    "https://huggingface.co/datasets/JanosAudran/financial-reports-sec\n",
    "\n",
    "PubMed Open Access:\n",
    "https://huggingface.co/datasets/pmc/open_access\n",
    "\n",
    "Legal:\n",
    "https://huggingface.co/datasets/pile-of-law/pile-of-law\n",
    "\n",
    "\n",
    "\n",
    "Next goal?\n",
    "\n",
    "We have a lot of weird data. Now what. \n",
    "\n",
    "For each dataset, attempt to get large texts out of it. These texts will then be our 'main docs'. Our corpus dataset will be all these docs for which we run chunking over each individual, then union of chunks. Questions generated just be looking at single doc. \n",
    "\n",
    "Current goal:\n",
    "Get 'docs' from datasets.\n"
   ]
  },
  {
   "cell_type": "code",
   "execution_count": 1,
   "metadata": {},
   "outputs": [],
   "source": [
    "import requests\n",
    "\n",
    "def fetch_huggingface_data(params):\n",
    "    # URL for the API endpoint\n",
    "    url = \"https://datasets-server.huggingface.co/rows\"\n",
    "\n",
    "    # Make the GET request\n",
    "    response = requests.get(url, params=params)\n",
    "\n",
    "    # Check if the request was successful\n",
    "    if response.status_code == 200:\n",
    "        # Get the JSON response\n",
    "        data = response.json()\n",
    "        return data\n",
    "    else:\n",
    "        print(\"Failed to fetch data:\", response.status_code)\n",
    "        return None"
   ]
  },
  {
   "cell_type": "markdown",
   "metadata": {},
   "source": [
    "# WikiTexts"
   ]
  },
  {
   "cell_type": "code",
   "execution_count": 11,
   "metadata": {},
   "outputs": [
    {
     "name": "stdout",
     "output_type": "stream",
     "text": [
      "118372\n",
      " = Valkyria Chronicles III = \n",
      " Senjō no Valkyria 3 : <unk> Chronicles ( Japanese : 戦場のヴァルキュリア3 , lit\n"
     ]
    }
   ],
   "source": [
    "\n",
    "total_doc = ''\n",
    "\n",
    "for i in [0, 100, 200, 300, 400]:\n",
    "    data = fetch_huggingface_data({\n",
    "        'dataset': 'wikitext',\n",
    "        'config': 'wikitext-103-v1',\n",
    "        'split': 'train',\n",
    "        'offset': i,\n",
    "        'length': 100\n",
    "    })\n",
    "\n",
    "    for row in data['rows']:\n",
    "        total_doc += row['row']['text']\n",
    "\n",
    "print(len(total_doc))\n",
    "print(total_doc[:100])\n",
    "\n",
    "with open('../data/wikitexts.md', 'w') as f:\n",
    "    f.write(total_doc)"
   ]
  },
  {
   "cell_type": "markdown",
   "metadata": {},
   "source": [
    "# Conversations with Chatbot"
   ]
  },
  {
   "cell_type": "code",
   "execution_count": 2,
   "metadata": {},
   "outputs": [],
   "source": [
    "data = fetch_huggingface_data({\n",
    "    'dataset': 'HuggingFaceH4/ultrachat_200k',\n",
    "    'config': 'default',\n",
    "    'split': 'train_sft',\n",
    "    'offset': 0,\n",
    "    'length': 100\n",
    "})"
   ]
  },
  {
   "cell_type": "code",
   "execution_count": null,
   "metadata": {},
   "outputs": [
    {
     "data": {
      "text/plain": [
       "[{'content': 'Which famous landmarks should I visit in London, beyond the usual ones?',\n",
       "  'role': 'user'},\n",
       " {'content': \"1. Leadenhall Market - a beautiful indoor market with stunning Victorian architecture, also used as a filming location in the Harry Potter films.\\n\\n2. St. Dunstan in the East - a ruined church in the middle of the city that has been turned into a beautiful public garden.\\n\\n3. The Monument - a 202-foot-tall column commemorating the Great Fire of London, with a staircase leading to a viewing platform offering great views of the city.\\n\\n4. The Camden Town Markets - an eclectic collection of markets offering food, fashion, and vintage items, plus live music and street performers.\\n\\n5. Novelist's House - the former home of Charles Dickens, now a museum dedicated to his life and works.\\n\\n6. The Old Operating Theatre - a museum housed in the oldest surviving operating theatre in Europe, with exhibits on the history of surgery and medical practices.\\n\\n7. The Churchill War Rooms - an underground complex used as a British government command centre during World War II, now a museum dedicated to Winston Churchill and his leadership during the war.\\n\\n8. The Brunel Museum - a museum dedicated to the life and works of engineer Isambard Kingdom Brunel, with exhibitions on his revolutionary designs for bridges, ships, and tunnels.\\n\\n9. The Clink Prison Museum - a museum in the former site of the notorious medieval prison, with exhibits on the history of crime and punishment in London.\\n\\n10. The Royal Observatory Greenwich - an observatory and museum dedicated to astronomy and navigation, with exhibits on the history of timekeeping and space exploration.\",\n",
       "  'role': 'assistant'},\n",
       " {'content': \"Hmm, those are interesting suggestions, but I've already seen so many touristy landmarks in London. Is there something more offbeat that you can recommend? Something that locals might know about?\",\n",
       "  'role': 'user'},\n",
       " {'content': \"Absolutely! Here are some offbeat and lesser-known things to see in London that locals might recommend:\\n\\n1. God's Own Junkyard - a neon wonderland filled with vintage and new neon signs.\\n\\n2. Hornsey Town Hall Arts Centre - a grade II listed building with a rich history and home to many art exhibitions and events.\\n\\n3. Clapham Grand - a historic Victorian theatre that has been transformed into a music venue, cinema and a comedy club.\\n\\n4. Gordon Museum of Pathology - the pathology museum of King's College in London that holds a collection of over 8,000 medical specimens.\\n\\n5. John Soane's Museum - the former home of wealthy architect John Soane is a museum with eclectic collections of paintings, sculptures, and curiosities.\\n\\n6. The Viktor Wynd Museum of Curiosities - a small museum filled with strange and unusual objects, taxidermy, and rare books.\\n\\n7. The Cross Bones Graveyard - a medieval graveyard that became known as an outcast cemetery with a history connected to the sex industry, now a memorial garden.\\n\\n8. Highgate Cemetery - a beautiful Victorian graveyard known for its Gothic architecture and where many famous people, including Karl Marx, are buried.\\n\\n9. Dalston Eastern Curve Garden - a beautiful community garden near the Dalston Junction station that is run by volunteers and has regular events.\\n\\n10. The Geffrye Museum of the Home - a museum that explores the history of domestic interiors in England, with a beautiful garden and regular market events.\\n\\nThere are many other hidden gems in London, and a quick Google search for ‘offbeat things in London’ will bring up many blogs and resources with more options.\",\n",
       "  'role': 'assistant'},\n",
       " {'content': \"Wow, these offbeat suggestions are really interesting. I had no idea there were so many unique things to see in London. Thanks for the recommendations, you're much more helpful than I expected. Can you tell me more about the Viktor Wynd Museum of Curiosities? It sounds like my kind of place.\",\n",
       "  'role': 'user'},\n",
       " {'content': \"Sure! The Viktor Wynd Museum of Curiosities, Fine Art & Natural History is a small museum located in Hackney, East London. The museum, founded by collector Viktor Wynd is a place where you can find taxidermy, books, anatomical models, and other curiosities. The museum is famous for its collection of shrunken heads, dodo bones, and the famous mermaid. It is also notable for its dimly lit, atmospheric decor, and its bar which serves cocktails and allows visitors to take drinks into the museum. The museum is open daily except for Mondays and Tuesdays, and it also frequently hosts events and exhibitions, so be sure to check the museum's website to see what's on.\",\n",
       "  'role': 'assistant'},\n",
       " {'content': \"Woah, the Viktor Wynd Museum sounds like a wacky and fun place to visit. I don't think I've ever seen a shrunken head before. I wonder what kind of cocktails they serve there... Maybe I can convince some friends to check it out with me!\",\n",
       "  'role': 'user'},\n",
       " {'content': 'Yes, the museum is definitely one of the more unusual places to visit in London! The cocktail menu at Viktor Wynd\\'s bar is just as eclectic as the museum\\'s collection, featuring brightly colored cocktails inspired by the exhibits, such as the \"Shrunken Head\" or \"Mermaid Tail\" cocktails. The museum and bar are on the smaller side, so it would make for a unique and intimate outing with friends. If you\\'re looking for something different and memorable to do in London, the Viktor Wynd Museum is definitely worth checking out!',\n",
       "  'role': 'assistant'},\n",
       " {'content': \"Whoa, a bar in a museum?! That's wild. I'm definitely going to have to try one of those cocktails. Do you think they have anything with a shrunken head as a garnish? That would be a trip.\",\n",
       "  'role': 'user'},\n",
       " {'content': \"I am not sure if the Viktor Wynd Museum of Curiosities serves cocktails with an actual shrunken head as a garnish. However, they might have some creative cocktails that incorporate a shrunken head replica or something similar as an element in the drink. Nevertheless, the bar offers a unique setting and a cocktail menu that includes some unusual ingredients so it's definitely worth checking out! It's likely to be an eccentric and memorable experience, and I'm sure you'll have a great time there with your friends.\",\n",
       "  'role': 'assistant'},\n",
       " {'content': 'I can\\'t wait to see that mermaid at the Viktor Wynd Museum. I wonder if it\\'s real or just a replica. Either way, it\\'s bound to be a fascinating item to behold. And I\\'ll make sure to order that \"Mermaid Tail\" cocktail while I\\'m there!',\n",
       "  'role': 'user'},\n",
       " {'content': 'Yes, the mermaid at the Viktor Wynd Museum of Curiosities is definitely one of its most famous exhibits. It\\'s actually a recreation made from the skeleton of a monkey and the tail of a fish, so it\\'s not a real mermaid of course, but it\\'s still an intriguing piece. The museum has many other curiosities to discover as well, and the atmosphere there is unlike anything you\\'ll find in other museums. And don\\'t forget to try that \"Mermaid Tail\" cocktail - it\\'s the perfect accompaniment to the museum\\'s quirky vibe!',\n",
       "  'role': 'assistant'}]"
      ]
     },
     "execution_count": 13,
     "metadata": {},
     "output_type": "execute_result"
    }
   ],
   "source": [
    "data['rows'][1]['row']['messages']"
   ]
  },
  {
   "cell_type": "code",
   "execution_count": 4,
   "metadata": {},
   "outputs": [
    {
     "name": "stdout",
     "output_type": "stream",
     "text": [
      "606599\n"
     ]
    }
   ],
   "source": [
    "total_doc = '\\n\\n'.join([str(row['row']['messages']) for row in data['rows']])\n",
    "print(len(total_doc))\n",
    "\n",
    "total_doc = total_doc[:40000]"
   ]
  },
  {
   "cell_type": "code",
   "execution_count": 6,
   "metadata": {},
   "outputs": [],
   "source": [
    "with open('../data/chatlogs.md', 'w') as f:\n",
    "    f.write(total_doc)"
   ]
  },
  {
   "cell_type": "code",
   "execution_count": null,
   "metadata": {},
   "outputs": [],
   "source": [
    "# Assuming df is the existing DataFrame\n",
    "new_question = {\n",
    "    'question': 'Question 3',\n",
    "    'references': [\n",
    "        {'content': 'Description 4', 'start_index': 40, 'end_index': 400}\n",
    "    ],\n",
    "    'corpus_id': 'state_of_the_union'\n",
    "}\n",
    "\n",
    "# Create a DataFrame for the new question\n",
    "new_df = pd.DataFrame([new_question, new_question])\n",
    "\n",
    "# Append to the original DataFrame\n",
    "df = pd.concat([df, new_df], ignore_index=True)"
   ]
  },
  {
   "cell_type": "code",
   "execution_count": 8,
   "metadata": {},
   "outputs": [
    {
     "name": "stdout",
     "output_type": "stream",
     "text": [
      "[(\"What significant regulatory changes and proposals has President Biden's administration implemented or announced regarding fees and pricing transparency?\", [('My administration announced we’re cutting credit card late fees from $32 to $8.', 27340, 27419), ('My administration has proposed rules to make cable, travel, utilities, and online ticket sellers tell you the total price up front so there are no surprises.', 27858, 28015)]), (\"What reasons did President Biden give for the failure of a particular bill's passage?\", [('But unfortunately, politics have derailed this bill so far.', 29521, 29580), ('I’m told my predecessor called members of Congress in the Senate to demand they block the bill. He feels political win — he viewed it as a — it would be a political win for me and a political loser for him.', 29582, 29788)]), ('What were the cases discussed by President Biden related to reproductive rights in his State of the Union Address?', [('Fourteen months ago — fourteen months ago, she and her husband welcomed a baby girl thanks to the miracle of IVF. She scheduled treatments to have that second child, but the Alabama Supreme Court shut down IVF treatments across the state, unleashed by a Supreme Court decision overturning Roe v. Wade. She was told her dream would have to wait.', 4700, 5044), ('Joining us tonight is Kate Cox, a wife and mother from Dallas. She’d become pregnant again and had a fetus with a fatal condition. Her doctor told Kate that her own life and her ability to have future in the fil- — children in the future were at risk if she didn’t act. Because Texas law banned her ability to act, Kate and her husband had to leave the state to get what she needed.', 5676, 6058)]), ('How many people are no longer denied health insurance due to preexisting conditions according to President Biden?', [('Over 100 million of you can no longer be denied health insurance because of a preexisting condition.', 16992, 17092)]), ('Which country is Putin invading, causing chaos in Europe and beyond?', [('Overseas, Putin of Russia is on the march, invading Ukraine and sowing chaos throughout Europe and beyond.', 1037, 1143)]), ('When did the murder rate experience the sharpest decrease in history and how did violent crime rates change?', [('Last year, the murder rate saw the sharpest decrease in history. Violent crime fell to one of its lowest levels in more than 50 years.', 35616, 35750)]), (\"What is the name of the new health research agency mentioned in President Biden's State of the Union Address that aims to do big things like ending cancer?\", [('And we owe it to ourselves to keep supporting our new health research agency called ARPA-H — and remind us — to remind us that we can do big things, like end cancer as we know it. And we will.', 44210, 44402)]), ('According to President Biden, what is the current status of China compared to the past decade?', [('China is down to the lowest point in over a decade.', 42661, 42712)]), (\"What type of investment is being made by private companies in America according to President Biden's address?\", [('Well, instead of having to import them, instead of — private companies are now investing billions of dollars to build new chip factories here in America creating tens of thousands of jobs, many of those jobs paying $100,000 a year and don’t require a college degree.', 10654, 10920)]), ('At what age did President Biden get elected to the United States Senate, and was it planned?', [('I got elected to the United States Senate when I had no intention of running, at age 29.', 45899, 45987)]), ('What does President Biden refuse to do regarding the events of January 6th?', [('My predecessor and some of you here seek to bury the truth about January 6th. I will not do that.', 3784, 3881)]), ('What types of professionals and methods did President Biden mention investing in to address community safety?', [('invest in more community police officers, more mental health workers, more community violence intervention.', 35803, 35910)]), (\"What was President Biden's intention when he came into office?\", [('I came to office determined to get us through one of the toughest periods in the nation’s history. We have.', 7908, 8015)]), (\"How many new jobs were created in the first three years mentioned in President Biden's address?\", [('Fifteen million new jobs in just three years.', 8805, 8850)]), ('As of the statement, how much has the racial wealth gap decreased?', [('The racial wealth gap is the smallest it’s been in 20 years.', 9365, 9425)]), ('Which late friend and former colleague of many present at the event was mentioned as having participated in the march?', [('John Lewis was on that march. We miss him.', 32922, 32964)]), (\"How long is the waiting period for a hearing for those let into the country, according to President Biden's statement?\", [('by — if they get by and let into the country, it’s six to eight years before they have a hearing.', 30561, 30658)]), ('How much has President Biden signed to cut from the federal deficit in the next decade through a bipartisan deal?', [('I signed a bipartisan deal to cut another trillion dollars in the next decade.', 22228, 22306)]), ('What provisions does the bipartisan bill include to address security and immigration case backlogs?', [('That bipartisan bill would hire 1,500 more security agents and officers, 100 more immigration judges to help tackle the backload of 2 million cases, 4,300 more asylum officers, and new policies so they can resolve cases in six months instead of six years now.', 28463, 28722)]), ('How can Ukraine stop Putin according to President Biden?', [('But Ukraine — Ukraine can stop Putin. Ukraine can stop Putin if we stand with Ukraine and provide the weapons that it needs to defend itself.', 1232, 1373)]), ('What action did President Biden promise to take if someone tries to cut Social Security or Medicare, or raise the retirement age?', [('If anyone here tries to cut Social Security or Medicare or raise the retirement age, I will stop you.', 25752, 25853)]), ('During which global event was President Biden born, and what did America stand for at that time?', [('I was born amid World War Two, when America stood for the freedom of the world.', 45270, 45349)]), ('How many more asylum officers does the new bill propose, and what impact will it have on the case resolution time?', [('s, 4,300 more asylum officers, and new policies so they can resolve cases in six months instead of six years now.', 28609, 28722)]), ('How are the vaccines that were developed for COVID-19 now being utilized according to President Biden?', [('The pandemic no longer controls our lives. The vaccine that saved us from COVID is — are now being used to beat cancer.', 8495, 8614)]), ('What minimum tax rate does President Biden propose for big corporations?', [('It’s time to raise the corporate minimum tax to at least 21 percent so every big corporation finally begins to pay their fair share.', 24137, 24269)]), ('How many new manufacturing jobs have been created in America recently?', [('Eight hundred thousand new manufacturing jobs in America and counting.', 9103, 9173)]), (\"What will happen if the United States walks away according to President Biden's speech?\", [('If the United States walks away, it will put Ukraine at risk. Europe is at risk. The free world will be at risk, emboldening others to do what they wish to do us harm.', 2741, 2908)]), (\"What is the purpose of adding one hundred more high-tech drug detection machines according to President Biden's speech?\", [('One hundred more high-tech drug detection machines to significantly increase the ability to screen and stop vehicles smuggling fentanyl into America that’s killing thousands of children.', 28752, 28938)]), ('Who are the Americans mentioned as being unjustly detained by the Russians that President Biden vows to work around the clock to bring home?', [('We also — we will also work around the clock to bring home Evan and Paul — Americans being unjustly detained by the Russians — and others around the world.', 38834, 38989)]), ('What inspired President Biden to pursue a career in service?', [('I watched in horror as two of my heroes \\n— like many of you did — Dr. King and Bobby Kennedy, were assassinated. And their legacies inspired me to pur- \\n— pursue a car- \\n— a career in service.', 45463, 45655)]), ('What specific event does President Biden mention that his predecessor and some attendees are trying to bury the truth about?', [('My predecessor and some of you here seek to bury the truth about January 6th. I will not do that.', 3784, 3881)]), (\"What measures has President Biden's administration proposed to reveal the total costs of services upfront?\", [('My administration has proposed rules to make cable, travel, utilities, and online ticket sellers tell you the total price up front so there are no surprises.', 27858, 28015)]), (\"What are some specific benefits mentioned in President Biden's State of the Union Address due to the CHIPS and Science Act and other policies?\", [('And thanks to our CHIPS and Science Act the United States is investing more in research and development than ever before.', 10338, 10459), ('Well, instead of having to import them, instead of — private companies are now investing billions of dollars to build new chip factories here in America creating tens of thousands of jobs, many of those jobs paying $100,000 a year and don’t require a college degree.', 10654, 10920), ('In fact, my policies have attracted $650 billion in private-sector investment in clean energy, advanced manufacturing, creating tens of thousands of jobs here in America.', 10922, 11092), ('And thanks — and thanks to our Bipartisan Infrastructure Law, 46,000 new projects have been announced all across your communities.', 11094, 11224)]), ('What specific American values does President Biden emphasize in his speech?', [('My lifetime has taught me to embrace freedom and democracy, a future based on core values that have defined America \\n— honesty, decency, dignity, and equality; to respect everyone; to give everyone a fair shot; to give hate no safe harbor.', 44905, 45144)]), ('What specific actions did President Biden request from Congress in relation to IVF treatments during his State of the Union Address?', [('So, tonight, let’s stand up for families like hers. To my friends across the aisle — don’t keep this waiting any longer. Guarantee the right to IVF. Guarantee it nationwide.', 5153, 5326)]), ('What significant actions has President Biden mentioned in his address regarding the auto industry and union jobs?', [('I was elected to office, and we raised Belvidere repeatedly with auto companies, knowing unions would make all the difference. The UAW worked like hell to keep the plant open and get these jobs back. And together, we succeeded.', 12438, 12665), ('Instead of auto factories shutting down, auto factories are reopening and a new state-of-the-art battery factory is being built to power those cars there at the same.', 12667, 12833), ('Because instead of watching auto ja- — jobs of the future go overseas, 4,000 union jobs with higher wages are building a future in Belvidere right here in America.', 12966, 13129)]), (\"What are President Biden's views on the relationship between Wall Street and the role of unions in building America?\", [('Showing once again Wall Street didn’t build America. They’re not bad guys. They didn’t build it, though. The middle class built the country, and unions built the middle class.', 13523, 13698)]), ('What are the benefits mentioned by President Biden for providing access to preschool for three- and four-year-olds?', [('To remain the strongest economy in the world, we need to have the best education system in the world. And I, like I suspect all of you, want to give a child \\n— every child a good start by providing access to preschool for three- and four-years-old.', 19022, 19270), ('Well, studies show that children who go to preschool are nearly 50 percent more likely to finish high school and go on to ear', 19563, 19688)]), ('What economic impacts did President Biden mention as benefits of debt forgiveness?', [('And, folks, look, such relief is good for the economy because folks are now able to buy a home, start a business, start a family.', 21720, 21849)]), ('What are some of the key benefits and changes President Biden discussed regarding Medicare and prescription drug costs?', [('ave Medicare the power to negotiate lower prices on prescription drugs, just like the VA is able to do for veterans.', 15563, 15679), ('We cut the federal deficit by $160 billion because Medicare will no longer have to pay those exorbitant prices to Big Pharma.', 15750, 15875), ('This year, Medicare is negotiating lower prices for some of the costliest drugs on the market that treat everything from heart disease to arthritis.', 15875, 16023), ('Starting next year, the same law caps total prescription drug costs for seniors on Medicare at $200 — at $2,000 a year, even for expensive cancer drugs that cost $10-, $12-, $15,000.', 16308, 16490)]), (\"What steps has President Biden proposed to improve women's health research?\", [('That’s why we’re launching the first-ever White House Initiative on Women’s Health Research, led by Jill \\n— doing an incredible job as First Lady — to pa- \\n— to pass my plan for $12 billion to transform women’s health research and benefit millions of lives all across America.', 17722, 17998)]), ('What are the key measures President Biden mentioned to address financial fairness and consumer protection?', [(\"I'll protect and strengthen Social Security and make the wealthy pay their fair share.\", 26437, 26523), (\"That's why we're cracking down on corporations that engage in price gouging and deceptive pricing, from food to healthcare to housing.\", 26633, 26767), (\"My administration announced we're cutting credit card late fees from $32 to $8.\", 27340, 27419), ('My administration has proposed rules to make cable, travel, utilities, and online ticket sellers tell you the total price up front so there are no surprises.', 27858, 28015)]), ('What new powers did President Biden grant to Medicare regarding prescription drug prices?', [('But finally, we got it done and gave Medicare the power to negotiate lower prices on prescription drugs, just like the VA is able to do for veterans.', 15530, 15679), ('This year, Medicare is negotiating lower prices for some of the costliest drugs on the market that treat everything from heart disease to arthritis.', 15875, 16023), (\"It's now time to go further and give Medicare the power to negotiate lower prices for 500 different drugs over the next decade.\", 16026, 16153)]), ('What are the key benefits highlighted by President Biden regarding the construction of new chip factories in America?', [('Well, instead of having to import them, instead of \\n— private companies are now investing billions of dollars to build new chip factories here in America creating tens of thousands of jobs, many of those jobs paying $100,000 a year and don’t require a college degree.', 10654, 10921)]), (\"What specific legal change concerning reproductive rights did the Alabama Supreme Court impose as described in President Biden's speech?\", [('Fourteen months ago \\n\\n— fourteen months ago, she and her husband welcomed a baby girl thanks to the miracle of IVF. She scheduled treatments to have that second child, but the Alabama Supreme Court shut down IVF treatments across the state, unleashed by a Supreme Court decision overturning Roe v. Wade. She was told her dream would have to wait.', 4700, 5046)]), ('How much does President Biden aim to reduce the federal deficit by, and what is his method for achieving this?', [('It’s my goal to cut the federal deficit another $3 trillion by making big corporations and the very wealthy finally beginning to pay their fair share.', 22308, 22458)]), (\"What specific reproductive rights issue did Latorya Beasley face in Alabama, and what was the consequence of the Supreme Court's decision?\", [('Fourteen months ago — fourteen months ago, she and her husband welcomed a baby girl thanks to the miracle of IVF. She scheduled treatments to have that second child, but the Alabama Supreme Court shut down IVF treatments across the state, unleashed by a Supreme Court decision overturning Roe v. Wade. She was told her dream would have to wait.', 4700, 5044)]), ('What specific tax reforms and financial goals did President Biden discuss during his State of the Union Address?', [('It’s my goal to cut the federal deficit another $3 trillion by making big corporations and the very wealthy finally beginning to pay their fair share.', 22308, 22458), ('A fair tax code is how we invest in things that make this country great: healthcare, education, defense, and so much more.', 22598, 22720), ('I also want to end tax breaks for Big Pharma, Big Oil, private jets, massive executive pay when it was only supposed to be a million bal- — a million dollars that could be deducted. They can pay them $20 million if they want, but deduct a million.', 24273, 24520), (\"It's time to raise the corporate minimum tax to at least 21 percent so every big corporation finally begins to pay their fair share.\", 24137, 24269), ('I proposed a minimum tax for billionaires of 25 percent — just 25 percent. You know what that would raise? That would raise $500 billion over the next 10 years.', 24928, 25088)]), ('What financial impacts did President Biden claim would result from his proposed minimum tax for billionaires?', [('I proposed a minimum tax for billionaires of 25 percent — just 25 percent. You know what that would raise? That would raise $500 billion over the next 10 years.', 24928, 25088)]), ('What examples of corporate tax avoidance did President Biden mention in his State of the Union Address?', [('Remember in 2020, 55 of the biggest companies in America made $40 billion and paid zero in federal income tax. Zero.', 23815, 23931)]), ('What specific new office did President Biden establish to address gun violence, and who is leading it?', [('Well, I did do something by establishing the first-ever Office of Gun Violence Prevention in the White House, that the Vice President is leading the charge.', 37113, 37269)]), ('What measures did President Biden take in response to threats in the Red Sea and how did he address military concerns in the region?', [('That’s why I built a coalition of more than a dozen countries to defend international shipping and freedom of navigation in the Red Sea.', 41952, 42088), ('I’ve ordered strikes to degrade the Houthi capability and defend U.S. forces in the region.', 42088, 42179), ('As Commander-in-Chief, I will not hesitate to direct further measures to protect our people and our military personnel.', 42181, 42300)]), (\"What were President Biden's purposes for addressing Congress and the American people during his State of the Union Address?\", [(\"President Roosevelt's purpose was to wake up Congress and alert the American people that this was no ordinary time. Freedom and democracy were under assault in the world.\", 356, 526), (\"Tonight, I come to the same chamber to address the nation. Now it's we who face an unprecedented moment in the history of the Union.\", 528, 660), ('And, yes, my purpose tonight is to wake up the Congress and alert the American people that this is no ordinary moment either. Not since President Lincoln and the Civil War have freedom and democracy been under assault at home as they are today.', 662, 906)]), ('What specific technologies and economic practices involving China did President Biden address in his State of the Union speech?', [('I’ve made sure that the most advanced American technologies can’t be used in China \\n— not allowing to trade them there.', 42971, 43090), (\"And we're standing up against China's unfair economic practices.\", 42712, 42776)]), ('What does President Biden propose to cap the monthly cost of insulin at for every American who needs it?', [('And I want to \\n— and what to do next, I want to cap the cost of insulin at $35 a month for every American who needs it \\n— everyone.', 15359, 15490)]), (\"What impact did the overturning of Roe v. Wade have on Latorya Beasley according to President Biden's speech?\", [('Fourteen months ago \\n— fourteen months ago, she and her husband welcomed a baby girl thanks to the miracle of IVF. She scheduled treatments to have that second child, but the Alabama Supreme Court shut down IVF treatments across the state, unleashed by a Supreme Court decision overturning Roe v. Wade. She was told her dream would have to wait.', 4700, 5045)]), ('What key legislation mentioned by President Biden in his State of the Union address is designed to support veterans exposed to toxins?', [('That’s why, with the strong support and help of Denis and the VA, I signed the PACT Act — one of the most significant laws ever, helping millions of veterans exposed to toxins who now are battling more than 100 different cancers.', 43903, 44132)]), ('What are the future plans President Biden mentioned for the tax rates of big corporations and billionaires, and how will these affect the federal deficit?', [('It’s my goal to cut the federal deficit another $3 trillion by making big corporations and the very wealthy finally beginning to pay their fair share.', 22308, 22458), ('It’s time to raise the corporate minimum tax to at least 21 percent so every big corporation finally begins to pay their fair share.', 24137, 24269), ('I proposed a minimum tax for billionaires of 25 percent — just 25 percent. You know what that would raise? That would raise $500 billion over the next 10 years.', 24928, 25088)]), ('What specific financial impacts does President Biden claim will result from the actions his administration is taking to eliminate junk fees and reduce credit card late fees?', [(\"My administration announced we're cutting credit card late fees from $32 to $8.\", 27340, 27419), (\"I'm saving American families $20 billion a year with all of the junk fees I'm eliminating.\", 27668, 27758)]), ('What practical steps has President Biden proposed to ensure children learn to read by the third grade?', [('I want to expand high-quality tutoring and summer learning to see that every child learns to read by third grade.', 20648, 20761)]), ('What specific acts did President Biden urge Congress to pass to protect voting rights and support diverse American values?', [('Pass the Freedom to Vote Act, the John Lewis Voting Right(s) Act.', 33679, 33744), ('Pass the Equality Act.', 33949, 33971)]), ('What key elements did President Biden mention are included in the comprehensive immigration bill he introduced?', [('sor, on my first day in office, I introduced a comprehensive bill to fix our immigration system. Take a look at it. It has all these and more: secure the border, provide a pathway to citizenship for DREAMers, and so much more.', 31573, 31799)]), ('What specific measures did President Biden propose in his State of the Union Address to make college more affordable?', [(\"And I want to make sure that college is more affordable. Let's continue increasing the Pell Grants to working- and middle-class families and increase record investments in HBCUs and minority-serving institutions, including Hispanic institutions.\", 20921, 21166)]), ('What specific changes did President Biden implement concerning federal tax payments by large corporations?', [('Thanks to the law I wrote and we signed, big companies now have to pay a minimum of 15 percent.', 23976, 24071), (\"It's time to raise the corporate minimum tax to at least 21 percent so every big corporation finally begins to pay their fair share.\", 24137, 24269)]), ('What outcomes have been achieved from elections regarding reproductive freedom according to President Biden?', [('When reproductive freedom was on the ballot, we won in 2022 and 2023.', 6946, 7015)]), ('What specific actions did President Biden mention in his address regarding the issue of student debt relief?', [('When I was told I couldn’t universally just change the way in which we did \\n— dealt with student loans, I fixed two student loan programs that already existed to reduce the burden of student debt for nearly 4 million Americans, including nurses, firefighters and others in public service.', 21168, 21456)]), ('What actions has President Biden urged Congress to take regarding Ukraine during his State of the Union Address?', [('I say this to Congress: We have to stand up to Putin. Send me a bipartisan national security bill.', 2589, 2687)]), ('What improvements occurred in Belvidere, Illinois, as described by President Biden in his State of the Union Address?', [('The great comeback story is Belvidere, Illinois. Home to an auto plant for nearly 60 years. Before I came to office, the plant was on its way to shutting down. Thousands of workers feared for their livelihoods. Hope was fading.', 12203, 12430), ('Then, I was elected to office, and we raised Belvidere repeatedly with auto companies, knowing unions would make all the difference. The UAW worked like hell to keep the plant open and get these jobs back. And together, we succeeded.', 12432, 12665), ('Instead of auto factories shutting down, auto factories are reopening and a new state-of-the-art battery factory is being built to power those cars there at the same.', 12667, 12833), (\"To the folks \\n— to the folks of Belvidere, I'd say: Instead of your town being left behind, your community is moving forward again. Because instead of watching auto ja- \\n— jobs of the future go overseas, 4,000 union jobs with higher wages are building a future in Belvidere right here in America.\", 12833, 13129)]), ('What specific measures has President Biden described to address issues related to food, healthcare, and housing pricing practices?', [('That’s why we’re cracking down on corporations that engage in price gouging and deceptive pricing, from food to healthcare to housing.', 26633, 26767)]), ('What did President Biden express as the guiding principles for handling humanitarian aid in relation to Israel and Gaza?', [(\"And Israel must also do its part. Israel must allow more aid into Gaza and ensure humanitarian workers aren't caught in the crossfire.\", 40801, 40935), ('To the leadership of Israel, I say this: Humanitarian assistance cannot be a secondary consideration or a bargaining chip. Protecting and saving innocent lives has to be a priority.', 41035, 41216)]), ('What specific veteran-related law did President Biden sign, and what is its significance?', [('That’s why, with the strong support and help of Denis and the VA, I signed the PACT Act \\n— one of the most significant laws ever, helping millions of veterans exposed to toxins who now are battling more than 100 different cancers.', 43903, 44133)]), ('What significant gun safety law did President Biden mention signing during his State of the Union Address?', [(\"I'm proud we beat the NRA when I signed the most significant gun safety law in nearly 30 years because of this Congress.\", 37631, 37751)]), ('What specific benefits did President Biden discuss related to healthcare under the Affordable Care Act during his State of the Union Address?', [('Over 100 million of you can no longer be denied health insurance because of a preexisting condition.', 16992, 17092)]), ('What specific actions did President Biden mention in his State of the Union Address regarding housing and renters?', [('I want to provide an annual tax credit that will give Americans $400 a month for the next two years as mortgage rates come down to put toward their mortgages when they buy their first home or trade up for a little more space.', 18170, 18395), ('And my administration is also eliminating title insurance (fees) on federally backed mortgages. When you refinance your home, you can save $1,000 or more as a consequence.', 18421, 18592), (\"For millions of renters, we're cracking down on big landlords who use antitrust law \\n—using antitrust \\n— who break antitrust laws by price-fixing and driving up rents.\", 18592, 18759)]), ('What did President Biden pledge regarding the situation of hostages held by Hamas according to his State of the Union Address?', [('Here in this chamber tonight are families whose loved ones are still being held by Hamas. I pledge to all the families that we will not rest until we bring every one of your loved ones home.', 38642, 38832)]), ('What specific measures did President Biden propose in his address to expedite the resolution of immigration cases?', [('agents and officers, 100 more immigration judges to help tackle the backload of 2 million cases, 4,300 more asylum officers, and new policies so they can resolve cases in six months instead of six years now.', 28515, 28722)]), ('What specific immigration reforms did President Biden introduce on his first day in office according to his State of the Union Address?', [('Unlike my predecessor, on my first day in office, I introduced a comprehensive bill to fix our immigration system.', 31555, 31669)]), ('What significant voting rights legislation did President Biden urge Congress to pass during his State of the Union Address?', [('Pass the Freedom to Vote Act, the John Lewis Voting Right(s) Act.', 33679, 33744)]), ('What specific actions has President Biden announced to reduce unexpected costs for consumers in financial transactions?', [(\"My administration announced we're cutting credit card late fees from $32 to $8.\", 27340, 27419), (\"Banks and credit card companies are allowed to charge what it costs them to in- — to instigate the collection. And that's more — a hell of a lot like $8 than 30-some dollars.\", 27421, 27595), (\"I'm saving American families $20 billion a year with all of the junk fees I'm eliminating.\", 27668, 27758)]), ('What specific measures has President Biden outlined for handling the situation with Iran as mentioned in his State of the Union Address?', [(\"Creating stability in the Middle East also means containing the threat posed by Iran. That's why I built a coalition of more than a dozen countries to defend international shipping and freedom of navigation in the Red Sea.\", 41864, 42086), (\"I've ordered strikes to degrade the Houthi capability and defend U.S. forces in the region.\", 42088, 42179), ('As Commander-in-Chief, I will not hesitate to direct further measures to protect our people and our military personnel.', 42181, 42300)]), ('What specific actions did President Biden highlight in his State of the Union Address related to the tax burden of large corporations and the wealthy?', [('It’s my goal to cut the federal deficit another $3 trillion by making big corporations and the very wealthy finally beginning to pay their fair share.', 22308, 22458), ('A fair tax code is how we invest in things that make this country great: healthcare, education, defense, and so much more.', 22598, 22720), ('I also want to end tax breaks for Big Pharma, Big Oil, private jets, massive executive pay when it was only supposed to be a million bal- — a million dollars that could be deducted. They can pay them $20 million if they want, but deduct a million.', 24273, 24520), ('It’s time to raise the corporate minimum tax to at least 21 percent so every big corporation finally begins to pay their fair share.', 24137, 24269), (\"Thanks to the law I wrote and we signed, big companies now have to pay a minimum of 15 percent. But that's still less than working people pay in federal taxes.\", 23976, 24135)]), ('What examples did President Biden use to illustrate the role of the middle class and unions in building America during his State of the Union Address?', [('Showing once again Wall Street didn’t build America. They’re not bad guys. They didn’t build it, though. The middle class built the country, and unions built the middle class.', 13523, 13698)]), ('What specific legislative acts did President Biden urge Congress to pass in his State of the Union Address?', [('Pass the Freedom to Vote Act, the John Lewis Voting Right(s) Act.', 33679, 33744), ('Pass the Equality Act.', 33949, 33971), (\"Pass the PRO Act for workers' rights.\", 34031, 34068)]), ('What did President Biden promise to do if Congress that supports reproductive rights is elected?', [('If you \\n— if you, the American people, send me a Congress that supports the right to choose, I promise you I will restore Roe v. Wade as the law of the land again.', 7046, 7209)]), ('What historical voting rights legislation did President Biden refer to in his State of the Union Address that was signed into law five months following Bloody Sunday?', [('Five months later, the Voting Rights Act passed and was signed into law.', 33250, 33322)]), ('What specific authority does President Biden propose he and future presidents should have regarding the U.S. border in emergency situations?', [('d also give me and any new president new emergency authority to temporarily shut down the border when the number of migrants at the border is overwhelming.', 29004, 29159)]), (\"What was President Biden's message to Congress regarding support for Ukraine and the stance of the U.S. against Russian aggression?\", [('But now assistance to Ukraine is being blocked by those who want to walk away from our world leadership.', 1562, 1666), ('I say this to Congress: We have to stand up to Putin. Send me a bipartisan national security bill.', 2589, 2687), (\"My message to President Putin, who I've known for a long time, is simple: We will not walk away. We will not bow down. I will not bow down.\", 2910, 3049)]), ('What message did President Biden have for President Putin and how did he express his stance on U.S. intervention in Ukraine?', [('If anybody in this room thinks Putin will stop at Ukraine, I assure you: He will not.', 1145, 1230), ('But Ukraine \\n— Ukraine can stop Putin. Ukraine can stop Putin if we stand with Ukraine and provide the weapons that it needs to defend itself.', 1232, 1374), (\"That is all \\n— that is all Ukraine is asking. They're not asking for American soldiers. In fact, there are no American soldiers at war in Ukraine, and I'm determined to keep it that way.\", 1375, 1561), (\"My message to President Putin, who I've known for a long time, is simple: We will not walk away. We will not bow down. I will not bow down.\", 2910, 3049)]), ('What did President Biden say about the economic impact of unions during his State of the Union Address?', [(\"Showing once again Wall Street didn't build America. They're not bad guys. They didn't build it, though. The middle class built the country, and unions built the middle class.\", 13523, 13698)]), ('What specific actions has President Biden taken regarding gun violence prevention?', [('Well, I did do something by establishing the first-ever Office of Gun Violence Prevention in the White House, that the Vice President is leading the charge.', 37113, 37269), (\"I'm proud we beat the NRA when I signed the most significant gun safety law in nearly 30 years because of this Congress.\", 37631, 37751), (\"I'm demanding a ban on assault weapons and high-capacity magazines. Pass universal background checks.\", 37785, 37886)]), ('What actions has President Biden committed to regarding Social Security, and what is his stance on corporate price practices as mentioned in his State of the Union Address?', [('If anyone here tries to cut Social Security or Medicare or raise the retirement age, I will stop you.', 25752, 25853), (\"I'll protect and strengthen Social Security and make the wealthy pay their fair share.\", 26437, 26523), (\"That's why we're cracking down on corporations that engage in price gouging and deceptive pricing, from food to healthcare to housing.\", 26633, 26767)]), ('What specific actions did President Biden highlight in his State of the Union Address to reduce violent crime and murder rates?', [('The year before I took office, murder rates went up 30 percent.', 35151, 35214), ('Last year, the murder rate saw the sharpest decrease in history.', 35616, 35680), ('Violent crime fell to one of its lowest levels in more than 50 years.', 35683, 35752), ('We have to help cities invest in more community police officers, more mental health workers, more community violence intervention.', 35780, 35910), (\"Keep building trust, as I've been doing, by taking executive action on police reform and calling for it to be the law of the land.\", 36003, 36133)]), ('What did President Biden emphasize about defending democracy and respecting electoral processes in his State of the Union Address?', [('tood strong and democracy prevailed. We must be honest: The threat to democracy must be defended (defeated).', 3674, 3782), (\"As I've done ever since being elected to office, I ask all of you, without regard to party, to join together and defend democracy. Remember your oath of office to defend against all threats foreign and domestic.\", 4014, 4225), ('Respect — respect free and fair elections, restore trust in our institutions, and make clear political violence has absolutely no place — no place in America. Zero place.', 4227, 4397)]), ('What specific actions has President Biden taken regarding Iran and the defense against its regional threats?', [('containing the threat posed by Iran. That’s why I built a coalition of more than a dozen countries to defend international shipping and freedom of navigation in the Red Sea.', 41913, 42086), ('I’ve ordered strikes to degrade the Houthi capability and defend U.S. forces in the region.', 42088, 42179)]), (\"What are President Biden's stated intentions regarding Social Security and Medicare, as mentioned in his State of the Union Address?\", [('If anyone here tries to cut Social Security or Medicare or raise the retirement age, I will stop you.', 25752, 25853), (\"I'll protect and strengthen Social Security and make the wealthy pay their fair share.\", 26437, 26523)]), ('What actions has President Biden described for addressing Middle Eastern stability during his State of the Union Address?', [(\"Creating stability in the Middle East also means containing the threat posed by Iran. That's why I built a coalition of more than a dozen countries to defend international shipping and freedom of navigation in the Red Sea.\", 41864, 42086), (\"I've ordered strikes to degrade the Houthi capability and defend U.S. forces in the region.\", 42088, 42179)]), ('What specific legislative actions did President Biden mention in his State of the Union Address aimed at protecting children and veterans?', [('Pass bipartisan privacy legislation to protect our children online.', 43570, 43637), ('That’s why, with the strong support and help of Denis and the VA, I signed the PACT Act — one of the most significant laws ever, helping millions of veterans exposed to toxins who now are battling more than 100 different cancers.', 43903, 44132)])]\n"
     ]
    }
   ],
   "source": [
    "import pickle\n",
    "\n",
    "# Open the pickle file and load the data\n",
    "with open('./new_questions_references.pkl', 'rb') as f:\n",
    "    questions_references = pickle.load(f)\n",
    "\n",
    "# Print the loaded data\n",
    "print(questions_references)\n"
   ]
  },
  {
   "cell_type": "code",
   "execution_count": 24,
   "metadata": {},
   "outputs": [
    {
     "data": {
      "text/plain": [
       "('What specific legislative actions did President Biden mention in his State of the Union Address aimed at protecting children and veterans?',\n",
       " [('Pass bipartisan privacy legislation to protect our children online.',\n",
       "   43570,\n",
       "   43637),\n",
       "  ('That’s why, with the strong support and help of Denis and the VA, I signed the PACT Act — one of the most significant laws ever, helping millions of veterans exposed to toxins who now are battling more than 100 different cancers.',\n",
       "   43903,\n",
       "   44132)])"
      ]
     },
     "execution_count": 24,
     "metadata": {},
     "output_type": "execute_result"
    }
   ],
   "source": [
    "questions_references[-1]"
   ]
  },
  {
   "cell_type": "code",
   "execution_count": 13,
   "metadata": {},
   "outputs": [],
   "source": [
    "def tuple_to_df_row(question_tuple, corpus_id):\n",
    "    question, references = question_tuple\n",
    "    references = [{'content': ref[0], 'start_index': ref[1], 'end_index': ref[2]} for ref in references]\n",
    "    return {\n",
    "        'question': question,\n",
    "        'references': references,\n",
    "        'corpus_id': corpus_id\n",
    "    }"
   ]
  },
  {
   "cell_type": "code",
   "execution_count": 14,
   "metadata": {},
   "outputs": [],
   "source": [
    "import pandas as pd\n",
    "\n",
    "rows = [tuple_to_df_row(q, 'state_of_the_union') for q in questions_references]\n",
    "\n",
    "# Create a DataFrame\n",
    "df = pd.DataFrame(rows)"
   ]
  },
  {
   "cell_type": "code",
   "execution_count": 16,
   "metadata": {},
   "outputs": [],
   "source": [
    "df.to_csv('../data/questions_df.csv', index=False)\n"
   ]
  },
  {
   "cell_type": "code",
   "execution_count": 21,
   "metadata": {},
   "outputs": [
    {
     "data": {
      "text/html": [
       "<div>\n",
       "<style scoped>\n",
       "    .dataframe tbody tr th:only-of-type {\n",
       "        vertical-align: middle;\n",
       "    }\n",
       "\n",
       "    .dataframe tbody tr th {\n",
       "        vertical-align: top;\n",
       "    }\n",
       "\n",
       "    .dataframe thead th {\n",
       "        text-align: right;\n",
       "    }\n",
       "</style>\n",
       "<table border=\"1\" class=\"dataframe\">\n",
       "  <thead>\n",
       "    <tr style=\"text-align: right;\">\n",
       "      <th></th>\n",
       "      <th>question</th>\n",
       "      <th>references</th>\n",
       "      <th>corpus_id</th>\n",
       "    </tr>\n",
       "  </thead>\n",
       "  <tbody>\n",
       "    <tr>\n",
       "      <th>0</th>\n",
       "      <td>What significant regulatory changes and propos...</td>\n",
       "      <td>[{'content': 'My administration announced we’r...</td>\n",
       "      <td>state_of_the_union</td>\n",
       "    </tr>\n",
       "    <tr>\n",
       "      <th>1</th>\n",
       "      <td>What reasons did President Biden give for the ...</td>\n",
       "      <td>[{'content': 'But unfortunately, politics have...</td>\n",
       "      <td>state_of_the_union</td>\n",
       "    </tr>\n",
       "    <tr>\n",
       "      <th>2</th>\n",
       "      <td>What were the cases discussed by President Bid...</td>\n",
       "      <td>[{'content': 'Fourteen months ago — fourteen m...</td>\n",
       "      <td>state_of_the_union</td>\n",
       "    </tr>\n",
       "    <tr>\n",
       "      <th>3</th>\n",
       "      <td>How many people are no longer denied health in...</td>\n",
       "      <td>[{'content': 'Over 100 million of you can no l...</td>\n",
       "      <td>state_of_the_union</td>\n",
       "    </tr>\n",
       "    <tr>\n",
       "      <th>4</th>\n",
       "      <td>Which country is Putin invading, causing chaos...</td>\n",
       "      <td>[{'content': 'Overseas, Putin of Russia is on ...</td>\n",
       "      <td>state_of_the_union</td>\n",
       "    </tr>\n",
       "  </tbody>\n",
       "</table>\n",
       "</div>"
      ],
      "text/plain": [
       "                                            question  \\\n",
       "0  What significant regulatory changes and propos...   \n",
       "1  What reasons did President Biden give for the ...   \n",
       "2  What were the cases discussed by President Bid...   \n",
       "3  How many people are no longer denied health in...   \n",
       "4  Which country is Putin invading, causing chaos...   \n",
       "\n",
       "                                          references           corpus_id  \n",
       "0  [{'content': 'My administration announced we’r...  state_of_the_union  \n",
       "1  [{'content': 'But unfortunately, politics have...  state_of_the_union  \n",
       "2  [{'content': 'Fourteen months ago — fourteen m...  state_of_the_union  \n",
       "3  [{'content': 'Over 100 million of you can no l...  state_of_the_union  \n",
       "4  [{'content': 'Overseas, Putin of Russia is on ...  state_of_the_union  "
      ]
     },
     "execution_count": 21,
     "metadata": {},
     "output_type": "execute_result"
    }
   ],
   "source": [
    "# Read the DataFrame\n",
    "df = pd.read_csv('../data/questions_df.csv')\n",
    "\n",
    "# Print the DataFrame\n",
    "df.head()\n",
    "\n",
    "# Define the corpus_id variable\n",
    "\n",
    "\n",
    "\n"
   ]
  },
  {
   "cell_type": "code",
   "execution_count": 23,
   "metadata": {},
   "outputs": [
    {
     "name": "stdout",
     "output_type": "stream",
     "text": [
      "[\"What significant regulatory changes and proposals has President Biden's administration implemented or announced regarding fees and pricing transparency?\", \"What reasons did President Biden give for the failure of a particular bill's passage?\", 'What were the cases discussed by President Biden related to reproductive rights in his State of the Union Address?', 'How many people are no longer denied health insurance due to preexisting conditions according to President Biden?', 'Which country is Putin invading, causing chaos in Europe and beyond?', 'When did the murder rate experience the sharpest decrease in history and how did violent crime rates change?', \"What is the name of the new health research agency mentioned in President Biden's State of the Union Address that aims to do big things like ending cancer?\", 'According to President Biden, what is the current status of China compared to the past decade?', \"What type of investment is being made by private companies in America according to President Biden's address?\", 'At what age did President Biden get elected to the United States Senate, and was it planned?', 'What does President Biden refuse to do regarding the events of January 6th?', 'What types of professionals and methods did President Biden mention investing in to address community safety?', \"What was President Biden's intention when he came into office?\", \"How many new jobs were created in the first three years mentioned in President Biden's address?\", 'As of the statement, how much has the racial wealth gap decreased?', 'Which late friend and former colleague of many present at the event was mentioned as having participated in the march?', \"How long is the waiting period for a hearing for those let into the country, according to President Biden's statement?\", 'How much has President Biden signed to cut from the federal deficit in the next decade through a bipartisan deal?', 'What provisions does the bipartisan bill include to address security and immigration case backlogs?', 'How can Ukraine stop Putin according to President Biden?', 'What action did President Biden promise to take if someone tries to cut Social Security or Medicare, or raise the retirement age?', 'During which global event was President Biden born, and what did America stand for at that time?', 'How many more asylum officers does the new bill propose, and what impact will it have on the case resolution time?', 'How are the vaccines that were developed for COVID-19 now being utilized according to President Biden?', 'What minimum tax rate does President Biden propose for big corporations?', 'How many new manufacturing jobs have been created in America recently?', \"What will happen if the United States walks away according to President Biden's speech?\", \"What is the purpose of adding one hundred more high-tech drug detection machines according to President Biden's speech?\", 'Who are the Americans mentioned as being unjustly detained by the Russians that President Biden vows to work around the clock to bring home?', 'What inspired President Biden to pursue a career in service?', 'What specific event does President Biden mention that his predecessor and some attendees are trying to bury the truth about?', \"What measures has President Biden's administration proposed to reveal the total costs of services upfront?\", \"What are some specific benefits mentioned in President Biden's State of the Union Address due to the CHIPS and Science Act and other policies?\", 'What specific American values does President Biden emphasize in his speech?', 'What specific actions did President Biden request from Congress in relation to IVF treatments during his State of the Union Address?', 'What significant actions has President Biden mentioned in his address regarding the auto industry and union jobs?', \"What are President Biden's views on the relationship between Wall Street and the role of unions in building America?\", 'What are the benefits mentioned by President Biden for providing access to preschool for three- and four-year-olds?', 'What economic impacts did President Biden mention as benefits of debt forgiveness?', 'What are some of the key benefits and changes President Biden discussed regarding Medicare and prescription drug costs?', \"What steps has President Biden proposed to improve women's health research?\", 'What are the key measures President Biden mentioned to address financial fairness and consumer protection?', 'What new powers did President Biden grant to Medicare regarding prescription drug prices?', 'What are the key benefits highlighted by President Biden regarding the construction of new chip factories in America?', \"What specific legal change concerning reproductive rights did the Alabama Supreme Court impose as described in President Biden's speech?\", 'How much does President Biden aim to reduce the federal deficit by, and what is his method for achieving this?', \"What specific reproductive rights issue did Latorya Beasley face in Alabama, and what was the consequence of the Supreme Court's decision?\", 'What specific tax reforms and financial goals did President Biden discuss during his State of the Union Address?', 'What financial impacts did President Biden claim would result from his proposed minimum tax for billionaires?', 'What examples of corporate tax avoidance did President Biden mention in his State of the Union Address?', 'What specific new office did President Biden establish to address gun violence, and who is leading it?', 'What measures did President Biden take in response to threats in the Red Sea and how did he address military concerns in the region?', \"What were President Biden's purposes for addressing Congress and the American people during his State of the Union Address?\", 'What specific technologies and economic practices involving China did President Biden address in his State of the Union speech?', 'What does President Biden propose to cap the monthly cost of insulin at for every American who needs it?', \"What impact did the overturning of Roe v. Wade have on Latorya Beasley according to President Biden's speech?\", 'What key legislation mentioned by President Biden in his State of the Union address is designed to support veterans exposed to toxins?', 'What are the future plans President Biden mentioned for the tax rates of big corporations and billionaires, and how will these affect the federal deficit?', 'What specific financial impacts does President Biden claim will result from the actions his administration is taking to eliminate junk fees and reduce credit card late fees?', 'What practical steps has President Biden proposed to ensure children learn to read by the third grade?', 'What specific acts did President Biden urge Congress to pass to protect voting rights and support diverse American values?', 'What key elements did President Biden mention are included in the comprehensive immigration bill he introduced?', 'What specific measures did President Biden propose in his State of the Union Address to make college more affordable?', 'What specific changes did President Biden implement concerning federal tax payments by large corporations?', 'What outcomes have been achieved from elections regarding reproductive freedom according to President Biden?', 'What specific actions did President Biden mention in his address regarding the issue of student debt relief?', 'What actions has President Biden urged Congress to take regarding Ukraine during his State of the Union Address?', 'What improvements occurred in Belvidere, Illinois, as described by President Biden in his State of the Union Address?', 'What specific measures has President Biden described to address issues related to food, healthcare, and housing pricing practices?', 'What did President Biden express as the guiding principles for handling humanitarian aid in relation to Israel and Gaza?', 'What specific veteran-related law did President Biden sign, and what is its significance?', 'What significant gun safety law did President Biden mention signing during his State of the Union Address?', 'What specific benefits did President Biden discuss related to healthcare under the Affordable Care Act during his State of the Union Address?', 'What specific actions did President Biden mention in his State of the Union Address regarding housing and renters?', 'What did President Biden pledge regarding the situation of hostages held by Hamas according to his State of the Union Address?', 'What specific measures did President Biden propose in his address to expedite the resolution of immigration cases?', 'What specific immigration reforms did President Biden introduce on his first day in office according to his State of the Union Address?', 'What significant voting rights legislation did President Biden urge Congress to pass during his State of the Union Address?', 'What specific actions has President Biden announced to reduce unexpected costs for consumers in financial transactions?', 'What specific measures has President Biden outlined for handling the situation with Iran as mentioned in his State of the Union Address?', 'What specific actions did President Biden highlight in his State of the Union Address related to the tax burden of large corporations and the wealthy?', 'What examples did President Biden use to illustrate the role of the middle class and unions in building America during his State of the Union Address?', 'What specific legislative acts did President Biden urge Congress to pass in his State of the Union Address?', 'What did President Biden promise to do if Congress that supports reproductive rights is elected?', 'What historical voting rights legislation did President Biden refer to in his State of the Union Address that was signed into law five months following Bloody Sunday?', 'What specific authority does President Biden propose he and future presidents should have regarding the U.S. border in emergency situations?', \"What was President Biden's message to Congress regarding support for Ukraine and the stance of the U.S. against Russian aggression?\", 'What message did President Biden have for President Putin and how did he express his stance on U.S. intervention in Ukraine?', 'What did President Biden say about the economic impact of unions during his State of the Union Address?', 'What specific actions has President Biden taken regarding gun violence prevention?', 'What actions has President Biden committed to regarding Social Security, and what is his stance on corporate price practices as mentioned in his State of the Union Address?', 'What specific actions did President Biden highlight in his State of the Union Address to reduce violent crime and murder rates?', 'What did President Biden emphasize about defending democracy and respecting electoral processes in his State of the Union Address?', 'What specific actions has President Biden taken regarding Iran and the defense against its regional threats?', \"What are President Biden's stated intentions regarding Social Security and Medicare, as mentioned in his State of the Union Address?\", 'What actions has President Biden described for addressing Middle Eastern stability during his State of the Union Address?', 'What specific legislative actions did President Biden mention in his State of the Union Address aimed at protecting children and veterans?']\n"
     ]
    }
   ],
   "source": [
    "corpus_id = 'state_of_the_union'\n",
    "\n",
    "# Get all questions where corpus_id equals corpus_id_var as a string\n",
    "questions = df[df['corpus_id'] == corpus_id]['question'].tolist()\n",
    "print(questions)"
   ]
  },
  {
   "cell_type": "code",
   "execution_count": 42,
   "metadata": {},
   "outputs": [
    {
     "name": "stdout",
     "output_type": "stream",
     "text": [
      "Best match found: The director of Valkyria Chronicles II , Takeshi Ozawa , returned to that role for Valkyria Chronicles III \n",
      "Similarity score: 59\n"
     ]
    }
   ],
   "source": [
    "from fuzzywuzzy import fuzz\n",
    "from fuzzywuzzy import process\n",
    "\n",
    "# Suppose this is your messy text with inconsistent punctuation\n",
    "with open('../data/wikitexts.md', 'r') as file:\n",
    "    text = file.read()\n",
    "\n",
    "# Sentence you want to search for\n",
    "query = 'Valkyria Chronicles III was developed for PlayStation Portable: this was due to the team wanting to refine the mechanics created for Valkyria Chronicles II.'\n",
    "\n",
    "# Split the text into sentences\n",
    "sentences = text.split('. ')\n",
    "\n",
    "# Find the sentence that matches the query best\n",
    "best_match = process.extractOne(query, sentences, scorer=fuzz.token_sort_ratio)\n",
    "\n",
    "print(\"Best match found:\", best_match[0])\n",
    "print(\"Similarity score:\", best_match[1])\n"
   ]
  },
  {
   "cell_type": "code",
   "execution_count": 34,
   "metadata": {},
   "outputs": [
    {
     "name": "stdout",
     "output_type": "stream",
     "text": [
      "Best match found: He walked with friends , it was quite fun\n",
      "Start index: 0\n",
      "End index: 40\n",
      "Similarity score: 88\n"
     ]
    }
   ],
   "source": [
    "from fuzzywuzzy import fuzz\n",
    "from fuzzywuzzy import process\n",
    "\n",
    "# Your messy text\n",
    "text = \"He walked with friends , it was quite fun. They enjoyed a lot. What a day!\"\n",
    "\n",
    "# An incomplete or partial query sentence\n",
    "query = \"walked with friends quite\"\n",
    "\n",
    "# Split the text into sentences\n",
    "sentences = text.split('. ')\n",
    "\n",
    "# Use a more suitable scorer for incomplete sentences\n",
    "best_match = process.extractOne(query, sentences, scorer=fuzz.partial_ratio)\n",
    "\n",
    "# If a match is found, locate it in the original text\n",
    "if best_match:\n",
    "    match_text = best_match[0]\n",
    "    start_index = text.find(match_text)\n",
    "    end_index = start_index + len(match_text) - 1  # Subtract 1 because index is zero-based\n",
    "\n",
    "    print(\"Best match found:\", match_text)\n",
    "    print(\"Start index:\", start_index)\n",
    "    print(\"End index:\", end_index)\n",
    "    print(\"Similarity score:\", best_match[1])\n",
    "else:\n",
    "    print(\"No match found\")\n"
   ]
  },
  {
   "cell_type": "code",
   "execution_count": 37,
   "metadata": {},
   "outputs": [
    {
     "name": "stdout",
     "output_type": "stream",
     "text": [
      "Query found from index 12 to 45\n",
      "Matched text: sample  document  that   includes\n"
     ]
    }
   ],
   "source": [
    "import re\n",
    "\n",
    "\n",
    "\n",
    "# Example usage:\n",
    "document = \"This is   a sample  document  that   includes   the  queried    text with irregular spacing.\"\n",
    "query = \"sample  document that includes\"\n",
    "result = find_query_in_text(document, query)\n",
    "\n",
    "if result:\n",
    "    print(f\"Query found from index {result[0]} to {result[1]}\")\n",
    "    print(\"Matched text:\", document[result[0]:result[1]])\n",
    "else:\n",
    "    print(\"Query not found.\")\n"
   ]
  },
  {
   "cell_type": "code",
   "execution_count": 41,
   "metadata": {},
   "outputs": [
    {
     "name": "stdout",
     "output_type": "stream",
     "text": [
      "('sample\\n document  that includes', 10, 41)\n"
     ]
    }
   ],
   "source": [
    "import re\n",
    "\n",
    "def find_query_despite_whitespace(document, query):\n",
    "    # Normalize spaces and newlines in the query\n",
    "    normalized_query = re.sub(r'\\s+', ' ', query).strip()\n",
    "    \n",
    "    # Create a regex pattern from the normalized query to match any whitespace characters between words\n",
    "    pattern = r'\\s*'.join(re.escape(word) for word in normalized_query.split())\n",
    "    \n",
    "    # Compile the regex to ignore case and search for it in the document\n",
    "    regex = re.compile(pattern, re.IGNORECASE)\n",
    "    match = regex.search(document)\n",
    "    \n",
    "    if match:\n",
    "        return document[match.start(): match.end()], match.start(), match.end()\n",
    "    else:\n",
    "        return None\n",
    "\n",
    "# Example usage:\n",
    "document = \"This is a sample\\n document  that includes the queried text with irregular\\nspacing and line breaks.\"\n",
    "query = \"sample document that  \\nincludes\"\n",
    "result = find_query_despite_whitespace(document, query)\n",
    "\n",
    "print(result)\n"
   ]
  }
 ],
 "metadata": {
  "kernelspec": {
   "display_name": "chroma-research",
   "language": "python",
   "name": "python3"
  },
  "language_info": {
   "codemirror_mode": {
    "name": "ipython",
    "version": 3
   },
   "file_extension": ".py",
   "mimetype": "text/x-python",
   "name": "python",
   "nbconvert_exporter": "python",
   "pygments_lexer": "ipython3",
   "version": "3.11.8"
  }
 },
 "nbformat": 4,
 "nbformat_minor": 2
}
