{
 "cells": [
  {
   "cell_type": "markdown",
   "metadata": {},
   "source": [
    "# Week 1\n",
    "The objectives of this week are to develop and test benchmarks. This will give us a baseline to compare our methods to.\n"
   ]
  },
  {
   "cell_type": "markdown",
   "metadata": {},
   "source": [
    "Objectives:\n",
    "- Find example pdf / text data.\n",
    "- Setup LangChain Recursive Text Splitter.\n",
    "- Setup fixed length token splitter.\n",
    "- Setup Chroma DB.\n",
    "- Create pipeline of: Text + Chunker -> Chroma Store"
   ]
  },
  {
   "cell_type": "markdown",
   "metadata": {},
   "source": [
    "# Example Text Data\n",
    "To start off simple, I copied a recent news article from BBC about Effective Accelerationist, Grimes."
   ]
  },
  {
   "cell_type": "code",
   "execution_count": 5,
   "metadata": {},
   "outputs": [
    {
     "name": "stdout",
     "output_type": "stream",
     "text": [
      "Coachella: Grimes apologises for technical difficulties\n",
      "\n",
      "Mon 15 Apr\n",
      "\n",
      "BBC NEWS\n",
      "\n",
      "Grimes has apologised for \"major technical difficulties\" during her Coachella DJ set.\n",
      "\n",
      "Fans watched the singer scream in ...\n"
     ]
    }
   ],
   "source": [
    "def read_txt_file(file_path):\n",
    "    with open(file_path, 'r') as file:\n",
    "        data = file.read()\n",
    "    return data\n",
    "\n",
    "# Test the function with the news.txt file\n",
    "news_data = read_txt_file('../data/news.txt')\n",
    "print(news_data[:200]+'...')\n"
   ]
  },
  {
   "cell_type": "markdown",
   "metadata": {},
   "source": [
    "# Setup LangChain Recursive Text Splitter"
   ]
  },
  {
   "cell_type": "code",
   "execution_count": 12,
   "metadata": {},
   "outputs": [
    {
     "name": "stdout",
     "output_type": "stream",
     "text": [
      "['Coachella: Grimes apologises for technical difficulties\\n\\nMon 15 Apr\\n\\nBBC NEWS', 'BBC NEWS\\n\\nGrimes has apologised for \"major technical difficulties\" during her Coachella DJ set.', 'Fans watched the singer scream in frustration after a string of problems - such as songs playing at', 'as songs playing at double-speed - marred the second half of her festival slot.', 'Posting on X, the singer said it was \"one of the first times\" she had \"outsourced essential']\n"
     ]
    }
   ],
   "source": [
    "from langchain_text_splitters import RecursiveCharacterTextSplitter\n",
    "\n",
    "# Initialize the Recursive Text Splitter\n",
    "splitter = RecursiveCharacterTextSplitter(\n",
    "    chunk_size=100,\n",
    "    chunk_overlap=20,\n",
    ")\n",
    "\n",
    "# Split the news_data using the splitter\n",
    "split_text = splitter.split_text(news_data)\n",
    "\n",
    "# Print the first 5 splits\n",
    "print(split_text[:5])\n",
    "\n"
   ]
  },
  {
   "cell_type": "code",
   "execution_count": null,
   "metadata": {},
   "outputs": [],
   "source": [
    "# from langchain_experimental.text_splitter import SemanticChunker\n",
    "# from langchain_openai.embeddings import OpenAIEmbeddings"
   ]
  },
  {
   "cell_type": "markdown",
   "metadata": {},
   "source": [
    "# Setup LangChain fixed length splitter"
   ]
  },
  {
   "cell_type": "code",
   "execution_count": 15,
   "metadata": {},
   "outputs": [
    {
     "name": "stdout",
     "output_type": "stream",
     "text": [
      "['Coachella: Grimes apologises for technical difficulties\\n\\nMon 15 Apr\\n\\nBBC NEWS', 'BBC NEWS\\n\\nGrimes has apologised for \"major technical difficulties\" during her Coachella DJ set.', 'Fans watched the singer scream in frustration after a string of problems - such as songs playing at', 'as songs playing at double-speed - marred the second half of her festival slot.', 'Posting on X, the singer said it was \"one of the first times\" she had \"outsourced essential']\n"
     ]
    }
   ],
   "source": [
    "from langchain_text_splitters import CharacterTextSplitter\n",
    "\n",
    "splitter = CharacterTextSplitter.from_tiktoken_encoder(\n",
    "    encoding_name=\"cl100k_base\", chunk_size=100, chunk_overlap=0\n",
    ")\n",
    "\n",
    "texts = splitter.split_text(news_data)\n",
    "\n",
    "# Print the first 5 splits\n",
    "print(split_text[:5])"
   ]
  },
  {
   "cell_type": "markdown",
   "metadata": {},
   "source": [
    "# Setting up Chroma"
   ]
  },
  {
   "cell_type": "code",
   "execution_count": 16,
   "metadata": {},
   "outputs": [],
   "source": [
    "import chromadb\n",
    "chroma_client = chromadb.PersistentClient(path=\"../data/chroma_db\")\n",
    "\n",
    "collection = chroma_client.create_collection(name=\"chuck_1\")\n"
   ]
  }
 ],
 "metadata": {
  "kernelspec": {
   "display_name": "chroma-research",
   "language": "python",
   "name": "python3"
  },
  "language_info": {
   "codemirror_mode": {
    "name": "ipython",
    "version": 3
   },
   "file_extension": ".py",
   "mimetype": "text/x-python",
   "name": "python",
   "nbconvert_exporter": "python",
   "pygments_lexer": "ipython3",
   "version": "3.11.8"
  }
 },
 "nbformat": 4,
 "nbformat_minor": 2
}
