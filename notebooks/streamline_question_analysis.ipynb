{
 "cells": [
  {
   "cell_type": "markdown",
   "metadata": {},
   "source": [
    "# Question Filtering Pipeline"
   ]
  },
  {
   "cell_type": "markdown",
   "metadata": {},
   "source": [
    "EDIT corpus_id, set this to your corpus as named in /data/"
   ]
  },
  {
   "cell_type": "code",
   "execution_count": 66,
   "metadata": {},
   "outputs": [],
   "source": [
    "corpus_id = 'wikitexts'\n",
    "\n",
    "import pandas as pd\n",
    "\n",
    "questions_df = pd.read_csv('../data/questions_df.csv')\n",
    "questions_df = questions_df[questions_df['corpus_id'] == corpus_id]"
   ]
  },
  {
   "cell_type": "code",
   "execution_count": 67,
   "metadata": {},
   "outputs": [],
   "source": [
    "from openai import OpenAI\n",
    "import os\n",
    "import numpy as np\n",
    "\n",
    "OPENAI_API_KEY = os.getenv('OPENAI_CHROMA_API_KEY')\n",
    "client = OpenAI(api_key=OPENAI_API_KEY)\n",
    "\n",
    "def get_sim(target, references):\n",
    "    response = client.embeddings.create(\n",
    "        input=[target]+references,\n",
    "        model=\"text-embedding-3-large\"\n",
    "    )\n",
    "    cosine_similarities = []\n",
    "    nparray1 = np.array(response.data[0].embedding)\n",
    "\n",
    "    full_sim = []\n",
    "    for i in range(1, len(response.data)):\n",
    "        nparray2 = np.array(response.data[i].embedding)\n",
    "        cosine_similarity = np.dot(nparray1, nparray2) / (np.linalg.norm(nparray1) * np.linalg.norm(nparray2))\n",
    "        # full_sim.append((target, references[i-1], cosine_similarity))\n",
    "        full_sim.append(cosine_similarity)\n",
    "    # return np.mean(cosine_similarities)\n",
    "    \n",
    "    return full_sim"
   ]
  },
  {
   "cell_type": "code",
   "execution_count": 68,
   "metadata": {},
   "outputs": [],
   "source": [
    "import json\n",
    "\n",
    "# Apply json.loads directly to the 'references' column\n",
    "questions_df['references'] = questions_df['references'].apply(json.loads)\n"
   ]
  },
  {
   "cell_type": "code",
   "execution_count": 69,
   "metadata": {},
   "outputs": [],
   "source": [
    "# Define the function to edit each row\n",
    "def edit_row(row):\n",
    "    question = row['question']\n",
    "    references = [ref['content'] for ref in row['references']]\n",
    "    similarity_scores = get_sim(question, references)\n",
    "    worst_ref_score = min(similarity_scores)\n",
    "    row['worst_ref_score'] = worst_ref_score\n",
    "    return row\n",
    "\n",
    "# Apply the function to each row\n",
    "questions_df = questions_df.apply(edit_row, axis=1)\n"
   ]
  },
  {
   "cell_type": "code",
   "execution_count": 70,
   "metadata": {},
   "outputs": [
    {
     "name": "stdout",
     "output_type": "stream",
     "text": [
      "Mean:  0.511518831010476\n",
      "Standard Deviation: 0.14649123223282734\n",
      "Median: 0.49125707610954383\n",
      "Top 75%: 0.6108830833626763\n",
      "Bottom 25%: 0.4045355102769339\n"
     ]
    },
    {
     "data": {
      "image/png": "[encoded data removed]",
      "text/plain": [
       "<Figure size 640x480 with 1 Axes>"
      ]
     },
     "metadata": {},
     "output_type": "display_data"
    }
   ],
   "source": [
    "import matplotlib.pyplot as plt\n",
    "\n",
    "cosine_scores = questions_df['worst_ref_score'].values\n",
    "print(\"Mean: \", cosine_scores.mean())\n",
    "print(\"Standard Deviation:\", np.std(cosine_scores))\n",
    "print(\"Median:\", np.median(cosine_scores))\n",
    "print(\"Top 75%:\", np.percentile(cosine_scores, 75))\n",
    "print(\"Bottom 25%:\", np.percentile(cosine_scores, 25))\n",
    "\n",
    "plt.hist(cosine_scores, bins=20)\n",
    "plt.title('Worst CosSim between Question and Ref')\n",
    "plt.xlabel('Cosine Similarity')\n",
    "plt.ylabel('Frequency')\n",
    "plt.grid(True)\n",
    "plt.show()"
   ]
  },
  {
   "cell_type": "markdown",
   "metadata": {},
   "source": [
    "EDIT threshold, set this to some value and see text given below. Change it until you're happy with outputs."
   ]
  },
  {
   "cell_type": "code",
   "execution_count": 71,
   "metadata": {},
   "outputs": [
    {
     "name": "stdout",
     "output_type": "stream",
     "text": [
      "Number of questions with worst CosSim below threshold: 36\n",
      "Percentage of questions removed: 12.676056338028168\n",
      "Number of questions left: 248\n",
      "3 questions closest to the threshold from below and their references:\n",
      "Question: What were Governor Rector's actions in response to the unauthorized militia assembly at Little Rock?\n",
      "References: [{'content': 'Governor Rector vehemently denied ordering the troops to assemble or giving any order at all in connection with the troops', 'start_index': 25672, 'end_index': 25794}, {'content': 'Faced with the fact that the military had assembled believing they were following his orders and the consensus of the citizens of Little Rock against any armed conflict between the civilian army and federal troops , Governor Rector was forced to take control of the situation ', 'start_index': 25797, 'end_index': 26073}, {'content': 'On February 6 , he sent a formal demand for surrender of the arsenal to Captain Totten , ', 'start_index': 26075, 'end_index': 26164}]\n",
      "\n",
      "Question: What developments occurred for Valkyria Chronicles III in the realm of fan translations?\n",
      "References: [{'content': \"An unofficial fan translation patch began development in February 2012 : players with a copy of Valkyria Chronicles III could download and apply the patch , which translated the game 's text into English \", 'start_index': 14830, 'end_index': 15034}, {'content': 'Compatible with the Extra Edition , the patch was released in January 2014 ', 'start_index': 15036, 'end_index': 15111}]\n",
      "\n",
      "Question: What were the terms agreed upon by Rector and Totten during the surrender of the Little Rock Arsenal?\n",
      "References: [{'content': 'He agreed to surrender the arsenal as long as the governor agreed to three provisions : ', 'start_index': 27097, 'end_index': 27185}, {'content': 'The governor would take possession of the arsenal in the name of the United States', 'start_index': 27187, 'end_index': 27269}, {'content': 'The soldiers would be allowed safe passage in any direction carrying any personal and public property besides munitions of war', 'start_index': 27274, 'end_index': 27400}, {'content': 'The soldiers would be allowed to march away as men leaving under orders , not as conquered and surrendering soldiers ', 'start_index': 27405, 'end_index': 27522}]\n",
      "\n",
      "\n",
      "3 questions closest to the threshold from above and their references:\n",
      "Question: What are the consequences of Kurt Irving's decision to reestablish his squad as the Nameless at the end of the war with the Empire?\n",
      "References: [{'content': \"Without the support of Maximilian or the chance to prove themselves in the war with Gallia , it is Dahau 's last trump card in creating a new Darcsen nation \", 'start_index': 7922, 'end_index': 8079}, {'content': \"As an armed Gallian force invading the Empire just following the two nations ' cease @-@ fire would certainly wreck their newfound peace , Kurt decides to once again make his squad the Nameless , asking Crowe to list himself and all under his command as killed @-@ in @-@ action \", 'start_index': 8081, 'end_index': 8360}]\n",
      "\n",
      "Question: What conditions did Governor Rector impose for the surrender of the Little Rock Arsenal?\n",
      "References: [{'content': 'The governor would take possession of the arsenal in the name of the United States', 'start_index': 27187, 'end_index': 27269}, {'content': 'The soldiers would be allowed safe passage in any direction carrying any personal and public property besides munitions of war', 'start_index': 27274, 'end_index': 27400}, {'content': 'The soldiers would be allowed to march away as men leaving under orders , not as conquered and surrendering soldiers ', 'start_index': 27405, 'end_index': 27522}]\n",
      "\n",
      "Question: What are significant historical events associated with the Little Rock Arsenal?\n",
      "References: [{'content': 'Besides being the last remaining structure of the original Little Rock Arsenal and one of the oldest buildings in central Arkansas , it was also the birthplace of General Douglas MacArthur , who became the supreme commander of US forces in the South Pacific during World War II ', 'start_index': 21470, 'end_index': 21748}, {'content': 'It was also the starting place of the Camden Expedition', 'start_index': 21750, 'end_index': 21805}]\n",
      "\n"
     ]
    }
   ],
   "source": [
    "# Test threshold:\n",
    "threshold = 0.36\n",
    "\n",
    "print(\"Number of questions with worst CosSim below threshold:\", len(questions_df[questions_df['worst_ref_score'] < threshold]))\n",
    "# Remove questions with worst CosSim below threshold\n",
    "filtered_questions_df = questions_df[questions_df['worst_ref_score'] >= threshold]\n",
    "\n",
    "# Calculate the percentage of questions removed\n",
    "percentage_removed = (len(questions_df) - len(filtered_questions_df)) / len(questions_df) * 100\n",
    "\n",
    "# Print the results\n",
    "print(\"Percentage of questions removed:\", percentage_removed)\n",
    "print(\"Number of questions left:\", len(filtered_questions_df))\n",
    "\n",
    "# Add a new column to the dataframe for the absolute difference between the worst_ref_score and the threshold\n",
    "questions_df['score_diff'] = abs(questions_df['worst_ref_score'] - threshold)\n",
    "\n",
    "# Print out the 3 questions closest to the threshold from below and their references\n",
    "print(\"3 questions closest to the threshold from below and their references:\")\n",
    "for _, row in questions_df[questions_df['worst_ref_score'] < threshold].nsmallest(3, 'score_diff').iterrows():\n",
    "    print(\"Question:\", row['question'])\n",
    "    print(\"References:\", row['references'])\n",
    "    print()\n",
    "\n",
    "# Print out the 3 questions closest to the threshold from above and their references\n",
    "print(\"\\n3 questions closest to the threshold from above and their references:\")\n",
    "for _, row in questions_df[questions_df['worst_ref_score'] >= threshold].nsmallest(3, 'score_diff').iterrows():\n",
    "    print(\"Question:\", row['question'])\n",
    "    print(\"References:\", row['references'])\n",
    "    print()"
   ]
  },
  {
   "cell_type": "markdown",
   "metadata": {},
   "source": [
    "# Make Reference Cut"
   ]
  },
  {
   "cell_type": "code",
   "execution_count": 72,
   "metadata": {},
   "outputs": [],
   "source": [
    "questions_df = questions_df[questions_df['worst_ref_score'] >= threshold]\n",
    "questions_df = questions_df.drop(columns=['score_diff', 'worst_ref_score'])"
   ]
  },
  {
   "cell_type": "code",
   "execution_count": 74,
   "metadata": {},
   "outputs": [
    {
     "name": "stdout",
     "output_type": "stream",
     "text": [
      "248\n",
      "244\n"
     ]
    }
   ],
   "source": [
    "print(len(questions_df))\n",
    "# Remove duplicates from the questions dataframe\n",
    "questions_df.drop_duplicates(subset='question', keep='first', inplace=True)\n",
    "print(len(questions_df))"
   ]
  },
  {
   "cell_type": "code",
   "execution_count": 75,
   "metadata": {},
   "outputs": [],
   "source": [
    "questions = questions_df['question'].tolist()"
   ]
  },
  {
   "cell_type": "code",
   "execution_count": 76,
   "metadata": {},
   "outputs": [],
   "source": [
    "from openai import OpenAI\n",
    "import os\n",
    "import numpy as np\n",
    "\n",
    "OPENAI_API_KEY = os.getenv('OPENAI_CHROMA_API_KEY')\n",
    "client = OpenAI(api_key=OPENAI_API_KEY)\n",
    "\n",
    "response = client.embeddings.create(\n",
    "    input=questions,\n",
    "    model=\"text-embedding-3-large\"\n",
    ")"
   ]
  },
  {
   "cell_type": "code",
   "execution_count": 77,
   "metadata": {},
   "outputs": [
    {
     "name": "stdout",
     "output_type": "stream",
     "text": [
      "0.8541809863055387\n"
     ]
    },
    {
     "data": {
      "image/png": "[encoded data removed]",
      "text/plain": [
       "<Figure size 640x480 with 1 Axes>"
      ]
     },
     "metadata": {},
     "output_type": "display_data"
    }
   ],
   "source": [
    "embeddings_matrix = np.array([data.embedding for data in response.data])\n",
    "\n",
    "dot_product_matrix = np.dot(embeddings_matrix, embeddings_matrix.T)\n",
    "\n",
    "# Create a list of tuples containing the index pairs and their similarity\n",
    "similarity_pairs = [(i, j, dot_product_matrix[i][j]) for i in range(len(dot_product_matrix)) for j in range(i+1, len(dot_product_matrix))]\n",
    "\n",
    "# Sort the list of tuples based on the similarity in descending order\n",
    "similarity_pairs.sort(key=lambda x: x[2], reverse=True)\n",
    "\n",
    "similarity_scores = np.array([x[2] for x in similarity_pairs])\n",
    "\n",
    "most_similars = (dot_product_matrix - np.eye(dot_product_matrix.shape[0])).max(axis=1)\n",
    "\n",
    "print(np.median(most_similars))\n",
    "\n",
    "import matplotlib.pyplot as plt\n",
    "\n",
    "# Assuming most_similars is a numpy array\n",
    "plt.hist(most_similars, bins=20)\n",
    "plt.title('Histogram of Most Similarities')\n",
    "plt.xlabel('Similarity')\n",
    "plt.ylabel('Frequency')\n",
    "plt.show()"
   ]
  },
  {
   "cell_type": "markdown",
   "metadata": {},
   "source": [
    "EDIT threshold, then check output below. Keep changing until you're happy with outputs."
   ]
  },
  {
   "cell_type": "code",
   "execution_count": 78,
   "metadata": {},
   "outputs": [
    {
     "name": "stdout",
     "output_type": "stream",
     "text": [
      "Similarity Threshold: 0.78\n",
      "Number of questions cut: 106\n",
      "Number of questions left: 138\n",
      "Questions about threshold:\n",
      "What were the provisions agreed upon by Captain Totten for the surrender of the Little Rock Arsenal in 1861?\n",
      "What conditions did Governor Rector impose for the surrender of the Little Rock Arsenal?\n",
      "0.7830277636356879\n",
      "------\n",
      "\n",
      "What additional content was released for Valkyria Chronicles III after its initial launch?\n",
      "What adaptations were made for Valkyria Chronicles 3 following its release?\n",
      "0.7827536198271905\n",
      "------\n",
      "\n",
      "What roles has the Tower Building of the Little Rock Arsenal served through history?\n",
      "What museums have been housed in the Tower Building of the Little Rock Arsenal?\n",
      "0.7824644235531443\n",
      "------\n",
      "\n",
      "What measures did Captain James Totten take in response to the anticipated seizure of the Little Rock Arsenal in 1861?\n",
      "What measures did Governor Rector take when faced with the assembly of militia at the Little Rock Arsenal in early 1861?\n",
      "0.7809528096920098\n",
      "------\n",
      "\n",
      "What improvements were made in Valkyria Chronicles III to make it more accessible to newcomers?\n",
      "What features were retained and adjusted in Valkyria Chronicles III from its predecessors?\n",
      "0.779697915818456\n",
      "------\n",
      "\n",
      "---Threshold---\n",
      "What provisions did Captain Totten require for the surrender of the Little Rock Arsenal?\n",
      "What were the three provisions set by Governor Rector for the arsenal's surrender?\n",
      "0.7793501193039815\n",
      "------\n",
      "\n",
      "Who were the officers under Lt. Col. Dunnington's command at Little Rock during August 1862?\n",
      "What military and civilian personnel were under Dunnington's command at Little Rock?\n",
      "0.7789606851548236\n",
      "------\n",
      "\n",
      "What specific actions were attributed to Rick Nash regarding his potential trade from Columbus?\n",
      "What events led to the Blue Jackets revealing they would consider trade proposals for Rick Nash?\n",
      "0.77870948316267\n",
      "------\n",
      "\n",
      "What were the specific roles of Hitoshi Sakimoto in the music production for Valkyria Chronicles III?\n",
      "Who composed the music for Valkyria Chronicles III?\n",
      "0.7782345931009724\n",
      "------\n",
      "\n",
      "What specific research did the production team undertake for creating the anime adaptation of Valkyria Chronicles?\n",
      "What were the primary research focuses for the anime adaptation of Valkyria Chronicles 3?\n",
      "0.7778494120330806\n",
      "------\n",
      "\n"
     ]
    }
   ],
   "source": [
    "threshold = 0.78\n",
    "\n",
    "def filter_vectors(sim_matrix, threshold):\n",
    "    n = sim_matrix.shape[0]  # Number of vectors\n",
    "    remaining = np.ones(n, dtype=bool)  # Initialize all vectors as remaining\n",
    "\n",
    "    for i in range(n):\n",
    "        if remaining[i] == 1:  # Only check for vectors that are still remaining\n",
    "            for j in range(i+1, n):\n",
    "                if remaining[j] == 1 and sim_matrix[i, j] > threshold:\n",
    "                    remaining[j] = 0  # Remove vector j because it's too similar to vector i\n",
    "    \n",
    "    return remaining\n",
    "\n",
    "rows_to_keep = filter_vectors(dot_product_matrix, threshold)\n",
    "\n",
    "# Find the index of the threshold in the similarity_scores array\n",
    "# Since threshold is a decimal, we use np.isclose to find the index\n",
    "# As per the followup instructions, we find the one with the smallest distance\n",
    "threshold_index = np.argmin(np.abs(similarity_scores - threshold))\n",
    "\n",
    "print(f\"Similarity Threshold: {threshold}\")\n",
    "\n",
    "print(f\"Number of questions cut: {len(rows_to_keep) - rows_to_keep.sum()}\")\n",
    "print(f\"Number of questions left: {rows_to_keep.sum()}\")\n",
    "\n",
    "print(\"Questions about threshold:\")\n",
    "for i in range(threshold_index-4, threshold_index+6):\n",
    "    first_index, second_index, sim = similarity_pairs[i]\n",
    "    print(questions[first_index])\n",
    "    print(questions[second_index])\n",
    "    print(sim)\n",
    "    print(\"------\\n\")\n",
    "    if i == threshold_index:\n",
    "        print(\"---Threshold---\")"
   ]
  },
  {
   "cell_type": "markdown",
   "metadata": {},
   "source": [
    "# Make the cut"
   ]
  },
  {
   "cell_type": "code",
   "execution_count": 80,
   "metadata": {},
   "outputs": [],
   "source": [
    "questions_df = questions_df[rows_to_keep]"
   ]
  },
  {
   "cell_type": "markdown",
   "metadata": {},
   "source": [
    "# Save edited questions"
   ]
  },
  {
   "cell_type": "code",
   "execution_count": 84,
   "metadata": {},
   "outputs": [],
   "source": [
    "\n",
    "questions_df['references'] = questions_df['references'].apply(json.dumps)\n",
    "\n",
    "full_questions_df = pd.read_csv('../data/questions_df.csv')\n",
    "full_questions_df = full_questions_df[full_questions_df['corpus_id'] != corpus_id]\n",
    "# edited_rows_df = pd.read_csv('../data/edited_rows_df.csv')\n",
    "full_questions_df = pd.concat([full_questions_df, questions_df], ignore_index=True)\n",
    "full_questions_df.to_csv('../data/questions_df.csv', index=False)\n"
   ]
  }
 ],
 "metadata": {
  "kernelspec": {
   "display_name": "chroma-research",
   "language": "python",
   "name": "python3"
  },
  "language_info": {
   "codemirror_mode": {
    "name": "ipython",
    "version": 3
   },
   "file_extension": ".py",
   "mimetype": "text/x-python",
   "name": "python",
   "nbconvert_exporter": "python",
   "pygments_lexer": "ipython3",
   "version": "3.11.8"
  }
 },
 "nbformat": 4,
 "nbformat_minor": 2
}
