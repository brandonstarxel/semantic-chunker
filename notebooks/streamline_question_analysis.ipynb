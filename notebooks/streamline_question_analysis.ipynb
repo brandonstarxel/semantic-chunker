{
 "cells": [
  {
   "cell_type": "markdown",
   "metadata": {},
   "source": [
    "# Question Filtering Pipeline"
   ]
  },
  {
   "cell_type": "markdown",
   "metadata": {},
   "source": [
    "EDIT corpus_id, set this to your corpus as named in /data/"
   ]
  },
  {
   "cell_type": "code",
   "execution_count": 17,
   "metadata": {},
   "outputs": [],
   "source": [
    "import pandas as pd\n",
    "questions_df = pd.read_csv('../data/questions_df.csv')"
   ]
  },
  {
   "cell_type": "code",
   "execution_count": 18,
   "metadata": {},
   "outputs": [
    {
     "name": "stdout",
     "output_type": "stream",
     "text": [
      "corpus_id\n",
      "chatlogs               83\n",
      "finance               111\n",
      "pubmed                112\n",
      "state_of_the_union     95\n",
      "wikitexts             208\n",
      "dtype: int64\n",
      "Total number of rows:  609\n"
     ]
    }
   ],
   "source": [
    "# Count the number of rows per 'corpus_id' group\n",
    "grouped_df = questions_df.groupby('corpus_id').size()\n",
    "print(grouped_df)\n",
    "\n",
    "# Find the total number of rows in the dataframe\n",
    "total_rows = questions_df.shape[0]\n",
    "print(\"Total number of rows: \", total_rows)\n"
   ]
  },
  {
   "cell_type": "code",
   "execution_count": 1,
   "metadata": {},
   "outputs": [
    {
     "name": "stdout",
     "output_type": "stream",
     "text": [
      "164\n"
     ]
    }
   ],
   "source": [
    "corpus_id = 'pubmed'\n",
    "\n",
    "import pandas as pd\n",
    "\n",
    "questions_df = pd.read_csv('../data/questions_df.csv')\n",
    "questions_df = questions_df[questions_df['corpus_id'] == corpus_id]\n",
    "\n",
    "print(len(questions_df))"
   ]
  },
  {
   "cell_type": "code",
   "execution_count": 2,
   "metadata": {},
   "outputs": [],
   "source": [
    "from openai import OpenAI\n",
    "import os\n",
    "import numpy as np\n",
    "\n",
    "OPENAI_API_KEY = os.getenv('OPENAI_CHROMA_API_KEY')\n",
    "client = OpenAI(api_key=OPENAI_API_KEY)\n",
    "\n",
    "def get_sim(target, references):\n",
    "    response = client.embeddings.create(\n",
    "        input=[target]+references,\n",
    "        model=\"text-embedding-3-large\"\n",
    "    )\n",
    "    cosine_similarities = []\n",
    "    nparray1 = np.array(response.data[0].embedding)\n",
    "\n",
    "    full_sim = []\n",
    "    for i in range(1, len(response.data)):\n",
    "        nparray2 = np.array(response.data[i].embedding)\n",
    "        cosine_similarity = np.dot(nparray1, nparray2) / (np.linalg.norm(nparray1) * np.linalg.norm(nparray2))\n",
    "        # full_sim.append((target, references[i-1], cosine_similarity))\n",
    "        full_sim.append(cosine_similarity)\n",
    "    # return np.mean(cosine_similarities)\n",
    "    \n",
    "    return full_sim"
   ]
  },
  {
   "cell_type": "code",
   "execution_count": 3,
   "metadata": {},
   "outputs": [],
   "source": [
    "import json\n",
    "\n",
    "# Apply json.loads directly to the 'references' column\n",
    "questions_df['references'] = questions_df['references'].apply(json.loads)\n"
   ]
  },
  {
   "cell_type": "code",
   "execution_count": 4,
   "metadata": {},
   "outputs": [],
   "source": [
    "# Define the function to edit each row\n",
    "def edit_row(row):\n",
    "    question = row['question']\n",
    "    references = [ref['content'] for ref in row['references']]\n",
    "    similarity_scores = get_sim(question, references)\n",
    "    worst_ref_score = min(similarity_scores)\n",
    "    row['worst_ref_score'] = worst_ref_score\n",
    "    return row\n",
    "\n",
    "# Apply the function to each row\n",
    "questions_df = questions_df.apply(edit_row, axis=1)\n"
   ]
  },
  {
   "cell_type": "code",
   "execution_count": 5,
   "metadata": {},
   "outputs": [
    {
     "name": "stdout",
     "output_type": "stream",
     "text": [
      "Mean:  0.5651221544328768\n",
      "Standard Deviation: 0.14139233068958812\n",
      "Median: 0.5625570385353631\n",
      "Top 75%: 0.6821199869141636\n",
      "Bottom 25%: 0.45266472801166796\n"
     ]
    },
    {
     "data": {
      "image/png": "[encoded data removed]",
      "text/plain": [
       "<Figure size 640x480 with 1 Axes>"
      ]
     },
     "metadata": {},
     "output_type": "display_data"
    }
   ],
   "source": [
    "import matplotlib.pyplot as plt\n",
    "\n",
    "cosine_scores = questions_df['worst_ref_score'].values\n",
    "print(\"Mean: \", cosine_scores.mean())\n",
    "print(\"Standard Deviation:\", np.std(cosine_scores))\n",
    "print(\"Median:\", np.median(cosine_scores))\n",
    "print(\"Top 75%:\", np.percentile(cosine_scores, 75))\n",
    "print(\"Bottom 25%:\", np.percentile(cosine_scores, 25))\n",
    "\n",
    "plt.hist(cosine_scores, bins=20)\n",
    "plt.title('Worst CosSim between Question and Ref')\n",
    "plt.xlabel('Cosine Similarity')\n",
    "plt.ylabel('Frequency')\n",
    "plt.grid(True)\n",
    "plt.show()"
   ]
  },
  {
   "cell_type": "markdown",
   "metadata": {},
   "source": [
    "EDIT threshold, set this to some value and see text given below. Change it until you're happy with outputs."
   ]
  },
  {
   "cell_type": "code",
   "execution_count": 6,
   "metadata": {},
   "outputs": [
    {
     "name": "stdout",
     "output_type": "stream",
     "text": [
      "Number of questions with worst CosSim below threshold: 15\n",
      "Percentage of questions removed: 9.146341463414634\n",
      "Number of questions left: 149\n",
      "3 questions closest to the threshold from below and their references:\n",
      "Question: What factors indicate the similarity between the expression profiles of known vaccine candidates and the rest of the IDC transcriptome?\n",
      "References: [{'content': 'To identify ORFs with a possible involvement in the merozoite invasion process, we have calculated the similarity, by Euclidian distance, between the expression profiles of these seven vaccine candidates and the rest of the IDC transcriptome', 'start_index': 52541, 'end_index': 52782}, {'content': 'A histogram of the distance values reveals a bimodal distribution with 262 ORFs in the first peak of the distribution (Figure S4)', 'start_index': 52784, 'end_index': 52913}, {'content': 'This represents the top 5% of expression profiles when ranked by increasing Euclidian distance (Table S7)', 'start_index': 52915, 'end_index': 53020}]\n",
      "\n",
      "Question: What support did the researchers receive for their study?\n",
      "References: [{'content': 'This research was supported by the NIH (R01 DK 51183 and R01 DK 54782)', 'start_index': 263547, 'end_index': 263617}, {'content': 'GR is a recipient of an independent investigator Award from NIDDK (K02 DK02465)', 'start_index': 263619, 'end_index': 263698}, {'content': 'MAR and RR were supported by NIH pre-Doctoral Training Grant 5T32-GM08424', 'start_index': 263700, 'end_index': 263773}, {'content': 'CV was supported by a Grant from the American Heart Association (PA Affiliate)', 'start_index': 263775, 'end_index': 263853}]\n",
      "\n",
      "Question: What method was used for RNA sample preparation and microarray hybridization?\n",
      "References: [{'content': 'P. falciparum RNA sample isolation, cDNA synthesis, labeling, and DNA microarray hybridizations were performed as described by Bozdech et al. (2003)', 'start_index': 63450, 'end_index': 63598}, {'content': 'Samples for individual timepoints (coupled to Cy5) were hybridized against a reference pool (coupled to Cy3)', 'start_index': 63600, 'end_index': 63708}, {'content': 'The reference pool was comprised of RNA samples representing all developmental stages of the parasite', 'start_index': 63710, 'end_index': 63811}, {'content': 'After completing cDNA synthesis, all reference pool cDNAs were combined into one large pool and then split into individual aliquots for subsequent labeling and hybridization', 'start_index': 63942, 'end_index': 64115}, {'content': 'Microarray hybridizations were incubated for 14–18 h', 'start_index': 64117, 'end_index': 64169}]\n",
      "\n",
      "\n",
      "3 questions closest to the threshold from above and their references:\n",
      "Question: How was the dataset stratified using FFT analysis in the study of P. falciparum transcriptome?\n",
      "References: [{'content': 'By measuring the power present in the peak frequency window (the main component plus two adjacent peaks) relative to the power present at all frequencies of the power spectrum, we were able to define a score (percent power) that we have used to stratify the dataset', 'start_index': 15089, 'end_index': 15354}, {'content': 'The resulting distribution of expression profiles, scored in this way, is shown in Figure 1F for all oligonucleotides', 'start_index': 15356, 'end_index': 15473}, {'content': 'For reference, the positions of profiles corresponding to eba175 (peak B), dhfr-ts (peak C), and asl (peak D) are indicated', 'start_index': 15475, 'end_index': 15598}]\n",
      "\n",
      "Question: What variations in tim RNA oscillations were observed in Pdf01 mutant flies under LD and different days in DD?\n",
      "References: [{'content': 'In Pdf01 flies, all clock neurons had robust tim RNA oscillations in LD, and the cycling phase and amplitude were comparable to those of wide-type flies (Figure 3A)', 'start_index': 143729, 'end_index': 143893}, {'content': 'The mutant flies were then released into DD and assayed at various times thereafter. In the first day of DD, cycling was similar to that observed in LD (Figure 3B)', 'start_index': 143895, 'end_index': 144058}, {'content': 'By the fourth day of DD, however, the cycling amplitude was much reduced in all clock neurons (Figure 3C and 3D)', 'start_index': 144060, 'end_index': 144172}, {'content': 'This was most evident from the unusually high signal in the CT2 sample; in wild-type flies, no tim signal was detected in any clock neuron at this timepoint (Figure 3C, left panels)', 'start_index': 144174, 'end_index': 144355}, {'content': 'There was also a reduced signal strength at the peak time, CT14 (Figure 3C, fourth panel from the left)', 'start_index': 144357, 'end_index': 144460}]\n",
      "\n",
      "Question: Who supported the research related to Wnt signal transduction?\n",
      "References: [{'content': 'We thank the National Institute of Child Health and Development (grant HD037277 to MWK) for support and the National Institute of General Medical Sciences and the Harvard-Armenise Foundation for supplemental support (for RH)', 'start_index': 468770, 'end_index': 468994}, {'content': 'RH is also supported by the German Research Foundation (grant He 2049/2-1)', 'start_index': 468996, 'end_index': 469070}, {'content': 'AS is supported by a Damon-Runyon Cancer Fund postdoctoral fellowship', 'start_index': 469133, 'end_index': 469202}, {'content': 'RK is supported by the German Research Foundation (SFB 555)', 'start_index': 469204, 'end_index': 469263}]\n",
      "\n"
     ]
    }
   ],
   "source": [
    "# Test threshold:\n",
    "threshold = 0.36\n",
    "\n",
    "print(\"Number of questions with worst CosSim below threshold:\", len(questions_df[questions_df['worst_ref_score'] < threshold]))\n",
    "# Remove questions with worst CosSim below threshold\n",
    "filtered_questions_df = questions_df[questions_df['worst_ref_score'] >= threshold]\n",
    "\n",
    "# Calculate the percentage of questions removed\n",
    "percentage_removed = (len(questions_df) - len(filtered_questions_df)) / len(questions_df) * 100\n",
    "\n",
    "# Print the results\n",
    "print(\"Percentage of questions removed:\", percentage_removed)\n",
    "print(\"Number of questions left:\", len(filtered_questions_df))\n",
    "\n",
    "# Add a new column to the dataframe for the absolute difference between the worst_ref_score and the threshold\n",
    "questions_df['score_diff'] = abs(questions_df['worst_ref_score'] - threshold)\n",
    "\n",
    "# Print out the 3 questions closest to the threshold from below and their references\n",
    "print(\"3 questions closest to the threshold from below and their references:\")\n",
    "for _, row in questions_df[questions_df['worst_ref_score'] < threshold].nsmallest(3, 'score_diff').iterrows():\n",
    "    print(\"Question:\", row['question'])\n",
    "    print(\"References:\", row['references'])\n",
    "    print()\n",
    "\n",
    "# Print out the 3 questions closest to the threshold from above and their references\n",
    "print(\"\\n3 questions closest to the threshold from above and their references:\")\n",
    "for _, row in questions_df[questions_df['worst_ref_score'] >= threshold].nsmallest(3, 'score_diff').iterrows():\n",
    "    print(\"Question:\", row['question'])\n",
    "    print(\"References:\", row['references'])\n",
    "    print()"
   ]
  },
  {
   "cell_type": "markdown",
   "metadata": {},
   "source": [
    "# Make Reference Cut"
   ]
  },
  {
   "cell_type": "code",
   "execution_count": 7,
   "metadata": {},
   "outputs": [],
   "source": [
    "questions_df = questions_df[questions_df['worst_ref_score'] >= threshold]\n",
    "questions_df = questions_df.drop(columns=['score_diff', 'worst_ref_score'])"
   ]
  },
  {
   "cell_type": "code",
   "execution_count": 8,
   "metadata": {},
   "outputs": [
    {
     "name": "stdout",
     "output_type": "stream",
     "text": [
      "149\n",
      "149\n"
     ]
    }
   ],
   "source": [
    "print(len(questions_df))\n",
    "# Remove duplicates from the questions dataframe\n",
    "questions_df.drop_duplicates(subset='question', keep='first', inplace=True)\n",
    "print(len(questions_df))"
   ]
  },
  {
   "cell_type": "code",
   "execution_count": 9,
   "metadata": {},
   "outputs": [],
   "source": [
    "questions = questions_df['question'].tolist()"
   ]
  },
  {
   "cell_type": "code",
   "execution_count": 10,
   "metadata": {},
   "outputs": [],
   "source": [
    "from openai import OpenAI\n",
    "import os\n",
    "import numpy as np\n",
    "\n",
    "OPENAI_API_KEY = os.getenv('OPENAI_CHROMA_API_KEY')\n",
    "client = OpenAI(api_key=OPENAI_API_KEY)\n",
    "\n",
    "response = client.embeddings.create(\n",
    "    input=questions,\n",
    "    model=\"text-embedding-3-large\"\n",
    ")"
   ]
  },
  {
   "cell_type": "code",
   "execution_count": 11,
   "metadata": {},
   "outputs": [
    {
     "name": "stdout",
     "output_type": "stream",
     "text": [
      "0.6854248318847395\n"
     ]
    },
    {
     "data": {
      "image/png": "[encoded data removed]",
      "text/plain": [
       "<Figure size 640x480 with 1 Axes>"
      ]
     },
     "metadata": {},
     "output_type": "display_data"
    }
   ],
   "source": [
    "embeddings_matrix = np.array([data.embedding for data in response.data])\n",
    "\n",
    "dot_product_matrix = np.dot(embeddings_matrix, embeddings_matrix.T)\n",
    "\n",
    "# Create a list of tuples containing the index pairs and their similarity\n",
    "similarity_pairs = [(i, j, dot_product_matrix[i][j]) for i in range(len(dot_product_matrix)) for j in range(i+1, len(dot_product_matrix))]\n",
    "\n",
    "# Sort the list of tuples based on the similarity in descending order\n",
    "similarity_pairs.sort(key=lambda x: x[2], reverse=True)\n",
    "\n",
    "similarity_scores = np.array([x[2] for x in similarity_pairs])\n",
    "\n",
    "most_similars = (dot_product_matrix - np.eye(dot_product_matrix.shape[0])).max(axis=1)\n",
    "\n",
    "print(np.median(most_similars))\n",
    "\n",
    "import matplotlib.pyplot as plt\n",
    "\n",
    "# Assuming most_similars is a numpy array\n",
    "plt.hist(most_similars, bins=20)\n",
    "plt.title('Histogram of Most Similarities')\n",
    "plt.xlabel('Similarity')\n",
    "plt.ylabel('Frequency')\n",
    "plt.show()"
   ]
  },
  {
   "cell_type": "markdown",
   "metadata": {},
   "source": [
    "EDIT threshold, then check output below. Keep changing until you're happy with outputs."
   ]
  },
  {
   "cell_type": "code",
   "execution_count": 14,
   "metadata": {},
   "outputs": [
    {
     "name": "stdout",
     "output_type": "stream",
     "text": [
      "Similarity Threshold: 0.71\n",
      "Number of questions cut: 37\n",
      "Number of questions left: 112\n",
      "Questions about threshold:\n",
      "How does the control of axin degradation impact β-catenin levels?\n",
      "What is the effect of Wnt stimulation on the steady-state concentrations of β-catenin and axin?\n",
      "0.716157500049333\n",
      "------\n",
      "\n",
      "What components are needed for V(D)J recombination as detailed in the PubMed texts?\n",
      "What are the conserved components of the recombination signal sequences (RSSs) as described in the PubMed text?\n",
      "0.7155023322839321\n",
      "------\n",
      "\n",
      "What are the effects of varying APC concentrations on β-catenin degradation?\n",
      "What are the described effects of changing total concentrations of pathway components on β-catenin and axin?\n",
      "0.7145530831707396\n",
      "------\n",
      "\n",
      "How are ARF and PLD activated by insulin according to the research?\n",
      "How does wild type ARNO influence ARF translocation and PLD activity in response to insulin?\n",
      "0.7133884842861715\n",
      "------\n",
      "\n",
      "How does the rrf-3 strain affect the detection of postembryonic mutant phenotypes compared to the N2 strain?\n",
      "What phenotypic effects were observed with the rrf-3 strain during the RNAi screen?\n",
      "0.7102455221065606\n",
      "------\n",
      "\n",
      "---Threshold---\n",
      "What methodology was used to analyze the genetic divergence among Borneo elephants in comparison to other Asian elephants?\n",
      "What genetic evidence supports the recognition of Borneo elephants as a distinct subspecies?\n",
      "0.7087621580358183\n",
      "------\n",
      "\n",
      "What methodology was used to analyze the genetic divergence among Borneo elephants in comparison to other Asian elephants?\n",
      "What are the genetic findings related to the origins of Borneo's elephants as reported by Fernando et al.?\n",
      "0.7081423493209847\n",
      "------\n",
      "\n",
      "What method was used to determine homologous genes from protein bit score ratios?\n",
      "What criteria were set for including a protein in a family based on homology using bit score values in the study?\n",
      "0.7058401193943059\n",
      "------\n",
      "\n",
      "Which ARNO mutants showed reduced effects on insulin-induced PLD activity?\n",
      "How does wild type ARNO influence ARF translocation and PLD activity in response to insulin?\n",
      "0.7053442555274947\n",
      "------\n",
      "\n",
      "What improvements in phenotype detection does the rrf-3 strain provide compared to the wild-type N2?\n",
      "How does the detection of RNAi phenotypes using rrf-3 compare between different screens?\n",
      "0.7053354987578498\n",
      "------\n",
      "\n"
     ]
    }
   ],
   "source": [
    "# threshold = 0.78\n",
    "threshold = 0.71\n",
    "\n",
    "def filter_vectors(sim_matrix, threshold):\n",
    "    n = sim_matrix.shape[0]  # Number of vectors\n",
    "    remaining = np.ones(n, dtype=bool)  # Initialize all vectors as remaining\n",
    "\n",
    "    for i in range(n):\n",
    "        if remaining[i] == 1:  # Only check for vectors that are still remaining\n",
    "            for j in range(i+1, n):\n",
    "                if remaining[j] == 1 and sim_matrix[i, j] > threshold:\n",
    "                    remaining[j] = 0  # Remove vector j because it's too similar to vector i\n",
    "    \n",
    "    return remaining\n",
    "\n",
    "rows_to_keep = filter_vectors(dot_product_matrix, threshold)\n",
    "\n",
    "# Find the index of the threshold in the similarity_scores array\n",
    "# Since threshold is a decimal, we use np.isclose to find the index\n",
    "# As per the followup instructions, we find the one with the smallest distance\n",
    "threshold_index = np.argmin(np.abs(similarity_scores - threshold))\n",
    "\n",
    "print(f\"Similarity Threshold: {threshold}\")\n",
    "\n",
    "print(f\"Number of questions cut: {len(rows_to_keep) - rows_to_keep.sum()}\")\n",
    "print(f\"Number of questions left: {rows_to_keep.sum()}\")\n",
    "\n",
    "print(\"Questions about threshold:\")\n",
    "for i in range(threshold_index-4, threshold_index+6):\n",
    "    first_index, second_index, sim = similarity_pairs[i]\n",
    "    print(questions[first_index])\n",
    "    print(questions[second_index])\n",
    "    print(sim)\n",
    "    print(\"------\\n\")\n",
    "    if i == threshold_index:\n",
    "        print(\"---Threshold---\")"
   ]
  },
  {
   "cell_type": "markdown",
   "metadata": {},
   "source": [
    "# Make the cut"
   ]
  },
  {
   "cell_type": "code",
   "execution_count": 15,
   "metadata": {},
   "outputs": [],
   "source": [
    "questions_df = questions_df[rows_to_keep]"
   ]
  },
  {
   "cell_type": "markdown",
   "metadata": {},
   "source": [
    "# Save edited questions"
   ]
  },
  {
   "cell_type": "code",
   "execution_count": 16,
   "metadata": {},
   "outputs": [],
   "source": [
    "\n",
    "questions_df['references'] = questions_df['references'].apply(json.dumps)\n",
    "\n",
    "full_questions_df = pd.read_csv('../data/questions_df.csv')\n",
    "full_questions_df = full_questions_df[full_questions_df['corpus_id'] != corpus_id]\n",
    "# edited_rows_df = pd.read_csv('../data/edited_rows_df.csv')\n",
    "full_questions_df = pd.concat([full_questions_df, questions_df], ignore_index=True)\n",
    "# Drop the columns 'fixed', 'worst_ref_score' and 'diff_score' if they exist\n",
    "for col in ['fixed', 'worst_ref_score', 'diff_score']:\n",
    "    if col in full_questions_df.columns:\n",
    "        full_questions_df = full_questions_df.drop(columns=col)\n",
    "\n",
    "full_questions_df.to_csv('../data/questions_df.csv', index=False)\n"
   ]
  }
 ],
 "metadata": {
  "kernelspec": {
   "display_name": "chroma-research",
   "language": "python",
   "name": "python3"
  },
  "language_info": {
   "codemirror_mode": {
    "name": "ipython",
    "version": 3
   },
   "file_extension": ".py",
   "mimetype": "text/x-python",
   "name": "python",
   "nbconvert_exporter": "python",
   "pygments_lexer": "ipython3",
   "version": "3.11.8"
  }
 },
 "nbformat": 4,
 "nbformat_minor": 2
}
