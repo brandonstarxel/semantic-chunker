{
 "cells": [
  {
   "cell_type": "markdown",
   "metadata": {},
   "source": [
    "# Goals:\n",
    "\n",
    "1. Implement LangChain's Semamtic chunking\n",
    "2. Re-evaluate if performance is worse.\n",
    "3. Perhaps chunks of value are too large? In which case drop threshold cut."
   ]
  },
  {
   "cell_type": "markdown",
   "metadata": {},
   "source": [
    "| LangChain | SemanticChunker | 0 | 0 | text-embedding-3-large | 0.073 ± 0.104 | 0.824 ± 0.379 | 0.079 ± 0.097 | 0.998 ± 0.032 |\n",
    "It's worse."
   ]
  },
  {
   "cell_type": "markdown",
   "metadata": {},
   "source": [
    "Investigation of LangChain's Semantic Chunking"
   ]
  },
  {
   "cell_type": "code",
   "execution_count": 1,
   "metadata": {},
   "outputs": [],
   "source": [
    "import chromadb.utils.embedding_functions as embedding_functions\n",
    "import chromadb\n",
    "import os\n",
    "\n",
    "chroma_client = chromadb.PersistentClient(path=\"../../data/chroma_db\")\n",
    "OPENAI_API_KEY = os.getenv('OPENAI_CHROMA_API_KEY')\n",
    "openai_ef = embedding_functions.OpenAIEmbeddingFunction(\n",
    "                api_key=OPENAI_API_KEY,\n",
    "                model_name=\"text-embedding-3-large\"\n",
    "            )\n",
    "\n",
    "collection_name = \"auto_chunk\"\n",
    "\n",
    "collection = chroma_client.get_collection(collection_name, embedding_function=openai_ef)"
   ]
  },
  {
   "cell_type": "code",
   "execution_count": 2,
   "metadata": {},
   "outputs": [],
   "source": [
    "import tiktoken\n",
    "\n",
    "# Count the number of tokens in each page_content\n",
    "def num_tokens_from_string(string: str) -> int:\n",
    "    \"\"\"Returns the number of tokens in a text string.\"\"\"\n",
    "    encoding = tiktoken.get_encoding(\"cl100k_base\")\n",
    "    num_tokens = len(encoding.encode(string, disallowed_special=()))\n",
    "    return num_tokens"
   ]
  },
  {
   "cell_type": "code",
   "execution_count": 3,
   "metadata": {},
   "outputs": [],
   "source": [
    "docs = collection.get()"
   ]
  },
  {
   "cell_type": "code",
   "execution_count": 7,
   "metadata": {},
   "outputs": [
    {
     "data": {
      "text/plain": [
       "dict_keys(['ids', 'embeddings', 'metadatas', 'documents', 'uris', 'data'])"
      ]
     },
     "execution_count": 7,
     "metadata": {},
     "output_type": "execute_result"
    }
   ],
   "source": [
    "docs.keys()"
   ]
  },
  {
   "cell_type": "code",
   "execution_count": 4,
   "metadata": {},
   "outputs": [],
   "source": [
    "import numpy as np\n",
    "token_counts = np.array([num_tokens_from_string(doc) for doc in docs['documents']])\n",
    "\n",
    "# corpus_id_flags = [1 if metadata['corpus_id'] == 'state_of_the_union' else 0 for metadata in docs['metadatas']]\n",
    "\n",
    "# token_counts = [token_counts[i] for i, flag in enumerate(corpus_id_flags) if flag]\n",
    "# metadatas = [docs['metadatas'][i] for i, flag in enumerate(corpus_id_flags) if flag]\n",
    "# texts = [docs['documents'][i] for i, flag in enumerate(corpus_id_flags) if flag]\n"
   ]
  },
  {
   "cell_type": "markdown",
   "metadata": {},
   "source": [
    "# For Default LangChain (95th Percentile cut off)"
   ]
  },
  {
   "cell_type": "code",
   "execution_count": 5,
   "metadata": {},
   "outputs": [
    {
     "name": "stdout",
     "output_type": "stream",
     "text": [
      "Mean Token Count: 116.91150442477876\n",
      "Median Token Count: 100.0\n",
      "Standard Deviation of Token Count: 67.43854068930524\n",
      "Maximum Token Count: 467\n",
      "Minimum Token Count: 19\n"
     ]
    },
    {
     "data": {
      "image/png": "[encoded data removed]",
      "text/plain": [
       "<Figure size 640x480 with 1 Axes>"
      ]
     },
     "metadata": {},
     "output_type": "display_data"
    }
   ],
   "source": [
    "import numpy as np  \n",
    "import matplotlib.pyplot as plt\n",
    "\n",
    "# Calculate and print the mean, median, standard deviation, maximum and minimum of the token counts\n",
    "mean_token_count = np.mean(token_counts)\n",
    "median_token_count = np.median(token_counts)\n",
    "std_token_count = np.std(token_counts)\n",
    "max_token_count = np.max(token_counts)\n",
    "min_token_count = np.min(token_counts)\n",
    "\n",
    "print(f\"Mean Token Count: {mean_token_count}\")\n",
    "print(f\"Median Token Count: {median_token_count}\")\n",
    "print(f\"Standard Deviation of Token Count: {std_token_count}\")\n",
    "print(f\"Maximum Token Count: {max_token_count}\")\n",
    "print(f\"Minimum Token Count: {min_token_count}\")\n",
    "\n",
    "\n",
    "plt.hist(token_counts, bins=100)\n",
    "plt.xlabel('Number of Tokens')\n",
    "plt.ylabel('Number of Documents')\n",
    "plt.title('Number of Tokens in Each Document')\n",
    "plt.show()"
   ]
  },
  {
   "cell_type": "code",
   "execution_count": 6,
   "metadata": {},
   "outputs": [
    {
     "name": "stdout",
     "output_type": "stream",
     "text": [
      "Index of Maximum Token Count: 107\n"
     ]
    }
   ],
   "source": [
    "index_max_token_count = np.argmax(token_counts)\n",
    "print(f\"Index of Maximum Token Count: {index_max_token_count}\")\n"
   ]
  },
  {
   "cell_type": "code",
   "execution_count": 7,
   "metadata": {},
   "outputs": [
    {
     "data": {
      "text/plain": [
       "{'corpus_id': 'wikitexts', 'end_index': 101159, 'start_index': 99074}"
      ]
     },
     "execution_count": 7,
     "metadata": {},
     "output_type": "execute_result"
    }
   ],
   "source": [
    "docs['metadatas'][index_max_token_count]"
   ]
  },
  {
   "cell_type": "code",
   "execution_count": 8,
   "metadata": {},
   "outputs": [
    {
     "data": {
      "text/plain": [
       "'= = Background and release = = \" There \\'s Got to Be a Way \" was written by Mariah Carey and Ric Wake for Carey \\'s self @-@ titled debut studio album ( 1990 ) . It was written during Carey and Wake \\'s first recording session together . They composed four songs , but only \" There \\'s Got to Be a Way \" was chosen for the final track listing . Co @-@ produced by Wake and Narada Michael Walden , it appears as the second of ten songs on the track listing . The track was recorded and engineered by Bob <unk> at Cove City Sound Studios and The Power Station , both located in New York City . He was assisted by Dana Jon Chappelle . It was mixed by David Frazer at Tarpan Studios in San Rafael . The keyboards , bass and rhythm engineering was carried out by Louis Biancaniello , while Joe Franco performed the percussion , Vernon \" Ice \" Black played the guitar , and Rich Tancredo also performing on the keyboards . Walter Afanasieff played the synth horns . Carey provided her own background vocals along with Billy T. Scott , <unk> Muhammed and The Billy T. Scott Ensemble . The song was released as the fifth and final single from the album in the United Kingdom . It is available to purchase as a CD single while the remixes are available on vinyl . = = Composition = = \" There \\'s Got to Be a Way \" is an R & B @-@ pop music song with elements of gospel . The theme of social activism can be heard in the lyrics \" There ’ s got to be a way / to connect this world today . \" The song begins with Carey publicly denouncing the existence of poverty and racism in the world , and she uses the bridge to shift the lyrics towards an uplifting and aspirational tone . Carey suggests we should be more tolerant of each other and not resort so readily to war in the lyrics \" Couldn \\'t we accept each other / Can \\'t we make ourselves aware . \" = = Critical reception = = Music critic Robert Christgau felt that Carey was being too political in her \" brave , young , idealistic attack \" on war and destitution . Ralph Novak , David Hiltbrand and David Grogan of People wrote that it is'"
      ]
     },
     "execution_count": 8,
     "metadata": {},
     "output_type": "execute_result"
    }
   ],
   "source": [
    "docs['documents'][index_max_token_count]"
   ]
  },
  {
   "cell_type": "code",
   "execution_count": 9,
   "metadata": {},
   "outputs": [
    {
     "ename": "NameError",
     "evalue": "name 'texts' is not defined",
     "output_type": "error",
     "traceback": [
      "\u001b[0;31m---------------------------------------------------------------------------\u001b[0m",
      "\u001b[0;31mNameError\u001b[0m                                 Traceback (most recent call last)",
      "Cell \u001b[0;32mIn[9], line 1\u001b[0m\n\u001b[0;32m----> 1\u001b[0m \u001b[43mtexts\u001b[49m[index_max_token_count]\n",
      "\u001b[0;31mNameError\u001b[0m: name 'texts' is not defined"
     ]
    }
   ],
   "source": [
    "texts[index_max_token_count]"
   ]
  },
  {
   "cell_type": "code",
   "execution_count": 23,
   "metadata": {},
   "outputs": [
    {
     "data": {
      "text/plain": [
       "{'corpus_id': 'state_of_the_union', 'end_index': 43747, 'start_index': 37615}"
      ]
     },
     "execution_count": 23,
     "metadata": {},
     "output_type": "execute_result"
    }
   ],
   "source": [
    "metadatas[index_max_token_count]"
   ]
  },
  {
   "cell_type": "code",
   "execution_count": 4,
   "metadata": {},
   "outputs": [],
   "source": [
    "from langchain_text_splitters import RecursiveCharacterTextSplitter, TokenTextSplitter\n",
    "import tiktoken\n",
    "\n",
    "# Count the number of tokens in each page_content\n",
    "def num_tokens_from_string(string: str) -> int:\n",
    "    \"\"\"Returns the number of tokens in a text string.\"\"\"\n",
    "    encoding = tiktoken.get_encoding(\"cl100k_base\")\n",
    "    num_tokens = len(encoding.encode(string, disallowed_special=()))\n",
    "    return num_tokens\n",
    "\n",
    "splitter = RecursiveCharacterTextSplitter(\n",
    "            chunk_size=25,\n",
    "            chunk_overlap=0,\n",
    "            length_function=num_tokens_from_string\n",
    "        )"
   ]
  },
  {
   "cell_type": "code",
   "execution_count": 6,
   "metadata": {},
   "outputs": [
    {
     "name": "stdout",
     "output_type": "stream",
     "text": [
      "26649\n"
     ]
    }
   ],
   "source": [
    "with open('../data/chatlogs.md', 'r') as file:\n",
    "    data = file.read()\n",
    "\n",
    "print(num_tokens_from_string(data))"
   ]
  },
  {
   "cell_type": "code",
   "execution_count": 21,
   "metadata": {},
   "outputs": [
    {
     "name": "stdout",
     "output_type": "stream",
     "text": [
      "588\n"
     ]
    }
   ],
   "source": [
    "with open('../data/state_of_the_union.md', 'r') as file:\n",
    "    data = file.read()\n",
    "\n",
    "chunks = splitter.split_text(data)\n",
    "print(len(chunks))"
   ]
  },
  {
   "cell_type": "code",
   "execution_count": 2,
   "metadata": {},
   "outputs": [],
   "source": [
    "import chromadb.utils.embedding_functions as embedding_functions\n",
    "import chromadb\n",
    "import os\n",
    "\n",
    "chroma_client = chromadb.PersistentClient(path=\"../../data/chroma_db\")\n",
    "OPENAI_API_KEY = os.getenv('OPENAI_CHROMA_API_KEY')\n",
    "openai_ef = embedding_functions.OpenAIEmbeddingFunction(\n",
    "                api_key=OPENAI_API_KEY,\n",
    "                model_name=\"text-embedding-3-large\"\n",
    "            )\n",
    "\n",
    "collection_name = \"auto_chunk\"\n",
    "\n",
    "collection = chroma_client.get_collection(collection_name, embedding_function=openai_ef)"
   ]
  },
  {
   "cell_type": "code",
   "execution_count": 3,
   "metadata": {},
   "outputs": [
    {
     "name": "stdout",
     "output_type": "stream",
     "text": [
      "Mean: 221.35457627118643\n",
      "Median: 191.0\n",
      "Min: 1\n",
      "Max: 851\n",
      "Standard Deviation: 168.8979785462924\n"
     ]
    }
   ],
   "source": [
    "all_docs = collection.get()\n",
    "\n",
    "tokens = [num_tokens_from_string(x) for x in all_docs['documents']]\n",
    "\n",
    "import numpy as np\n",
    "\n",
    "mean_tokens = np.mean(tokens)\n",
    "median_tokens = np.median(tokens)\n",
    "min_tokens = np.min(tokens)\n",
    "max_tokens = np.max(tokens)\n",
    "std_tokens = np.std(tokens)\n",
    "\n",
    "print(f\"Mean: {mean_tokens}\")\n",
    "print(f\"Median: {median_tokens}\")\n",
    "print(f\"Min: {min_tokens}\")\n",
    "print(f\"Max: {max_tokens}\")\n",
    "print(f\"Standard Deviation: {std_tokens}\")\n"
   ]
  },
  {
   "cell_type": "code",
   "execution_count": 35,
   "metadata": {},
   "outputs": [],
   "source": [
    "retrievals = collection.query(query_texts=[\"Hello?\", \"How are you?\"], n_results=5)"
   ]
  },
  {
   "cell_type": "code",
   "execution_count": 41,
   "metadata": {},
   "outputs": [],
   "source": [
    "retrievals['metadatas']\n",
    "\n",
    "def get_retrieval_meta_str_inst(metadatas: dict) -> list:\n",
    "    \"\"\"Returns a list of strings that represent the metadata of the retrievals.\"\"\"\n",
    "    retrieval_meta_str_list = [f\"{metadata['corpus_id']},{metadata['start_index']},{metadata['end_index']}\" for metadata in metadatas]\n",
    "    retrieval_meta_str = \"\\n\".join(retrieval_meta_str_list)\n",
    "    return retrieval_meta_str\n",
    "\n",
    "retrieval_meta_str_list = [get_retrieval_meta_str_inst(x) for x in retrievals['metadatas']]"
   ]
  },
  {
   "cell_type": "code",
   "execution_count": 42,
   "metadata": {},
   "outputs": [
    {
     "data": {
      "text/plain": [
       "['state_of_the_union,32969,34809\\nstate_of_the_union,25997,27691\\nstate_of_the_union,42465,44323\\nchatlogs,28192,30508\\nstate_of_the_union,0,1889',\n",
       " 'pubmed,63244,65039\\npubmed,7066,8800\\npubmed,61825,63244\\npubmed,10724,12488\\npubmed,3445,5308']"
      ]
     },
     "execution_count": 42,
     "metadata": {},
     "output_type": "execute_result"
    }
   ],
   "source": [
    "retrieval_meta_str_list"
   ]
  },
  {
   "cell_type": "code",
   "execution_count": 45,
   "metadata": {},
   "outputs": [
    {
     "ename": "ValueError",
     "evalue": "not enough values to unpack (expected 3, got 2)",
     "output_type": "error",
     "traceback": [
      "\u001b[0;31m---------------------------------------------------------------------------\u001b[0m",
      "\u001b[0;31mValueError\u001b[0m                                Traceback (most recent call last)",
      "Cell \u001b[0;32mIn[45], line 70\u001b[0m\n\u001b[1;32m     68\u001b[0m \u001b[38;5;66;03m# Parse the log and calculate the average differences\u001b[39;00m\n\u001b[1;32m     69\u001b[0m triplets \u001b[38;5;241m=\u001b[39m parse_log(log_data)\n\u001b[0;32m---> 70\u001b[0m average_difference \u001b[38;5;241m=\u001b[39m \u001b[43mcalculate_average_differences\u001b[49m\u001b[43m(\u001b[49m\u001b[43mtriplets\u001b[49m\u001b[43m)\u001b[49m\n\u001b[1;32m     72\u001b[0m \u001b[38;5;28mprint\u001b[39m(\u001b[38;5;124mf\u001b[39m\u001b[38;5;124m\"\u001b[39m\u001b[38;5;124mAverage difference in the start and end index lengths for differing lines: \u001b[39m\u001b[38;5;132;01m{\u001b[39;00maverage_difference\u001b[38;5;132;01m}\u001b[39;00m\u001b[38;5;124m\"\u001b[39m)\n",
      "Cell \u001b[0;32mIn[45], line 25\u001b[0m, in \u001b[0;36mcalculate_average_differences\u001b[0;34m(triplets)\u001b[0m\n\u001b[1;32m     23\u001b[0m line3 \u001b[38;5;241m=\u001b[39m triplet[\u001b[38;5;241m2\u001b[39m][i]\n\u001b[1;32m     24\u001b[0m \u001b[38;5;28;01mif\u001b[39;00m line1 \u001b[38;5;241m!=\u001b[39m line2 \u001b[38;5;129;01mor\u001b[39;00m line1 \u001b[38;5;241m!=\u001b[39m line3:\n\u001b[0;32m---> 25\u001b[0m     _, start1, end1 \u001b[38;5;241m=\u001b[39m \u001b[38;5;28mmap\u001b[39m(\u001b[38;5;28mint\u001b[39m, line1\u001b[38;5;241m.\u001b[39msplit(\u001b[38;5;124m'\u001b[39m\u001b[38;5;124m,\u001b[39m\u001b[38;5;124m'\u001b[39m)[\u001b[38;5;241m1\u001b[39m:])\n\u001b[1;32m     26\u001b[0m     _, start2, end2 \u001b[38;5;241m=\u001b[39m \u001b[38;5;28mmap\u001b[39m(\u001b[38;5;28mint\u001b[39m, line2\u001b[38;5;241m.\u001b[39msplit(\u001b[38;5;124m'\u001b[39m\u001b[38;5;124m,\u001b[39m\u001b[38;5;124m'\u001b[39m)[\u001b[38;5;241m1\u001b[39m:])\n\u001b[1;32m     27\u001b[0m     _, start3, end3 \u001b[38;5;241m=\u001b[39m \u001b[38;5;28mmap\u001b[39m(\u001b[38;5;28mint\u001b[39m, line3\u001b[38;5;241m.\u001b[39msplit(\u001b[38;5;124m'\u001b[39m\u001b[38;5;124m,\u001b[39m\u001b[38;5;124m'\u001b[39m)[\u001b[38;5;241m1\u001b[39m:])\n",
      "\u001b[0;31mValueError\u001b[0m: not enough values to unpack (expected 3, got 2)"
     ]
    }
   ],
   "source": [
    "import re\n",
    "from statistics import mean\n",
    "\n",
    "# Function to parse the log data\n",
    "def parse_log(data):\n",
    "    entries = re.split(r'Index: \\d+', data)\n",
    "    entries = [entry.strip() for entry in entries if entry.strip()]\n",
    "    triplets = []\n",
    "    for entry in entries:\n",
    "        strings = entry.split(':')\n",
    "        strings = [s.strip() for s in strings if s.strip()]\n",
    "        triplet = [s.split('\\n') for s in strings]\n",
    "        triplets.append(triplet)\n",
    "    return triplets\n",
    "\n",
    "# Function to find differing lines and calculate the average difference\n",
    "def calculate_average_differences(triplets):\n",
    "    differences = []\n",
    "    for triplet in triplets:\n",
    "        for i in range(5):  # Assuming each string has exactly 5 lines\n",
    "            line1 = triplet[0][i]\n",
    "            line2 = triplet[1][i]\n",
    "            line3 = triplet[2][i]\n",
    "            if line1 != line2 or line1 != line3:\n",
    "                _, start1, end1 = map(int, line1.split(',')[1:])\n",
    "                _, start2, end2 = map(int, line2.split(',')[1:])\n",
    "                _, start3, end3 = map(int, line3.split(',')[1:])\n",
    "                diff1 = end1 - start1\n",
    "                diff2 = end2 - start2\n",
    "                diff3 = end3 - start3\n",
    "                differences.append(mean([abs(diff1 - diff2), abs(diff1 - diff3), abs(diff2 - diff3)]))\n",
    "    return mean(differences) if differences else 0\n",
    "\n",
    "# Input log data\n",
    "log_data = \"\"\"Index: 22\n",
    "String 1: state_of_the_union,27691,29550\n",
    "state_of_the_union,29550,31157\n",
    "state_of_the_union,31157,32969\n",
    "state_of_the_union,34809,36628\n",
    "state_of_the_union,18563,20332\n",
    "String 2: state_of_the_union,27691,29550\n",
    "state_of_the_union,29550,31157\n",
    "state_of_the_union,31157,32969\n",
    "state_of_the_union,34809,36628\n",
    "state_of_the_union,16734,18563\n",
    "String 3: state_of_the_union,27691,29550\n",
    "state_of_the_union,29550,31157\n",
    "state_of_the_union,31157,32969\n",
    "state_of_the_union,34809,36628\n",
    "state_of_the_union,16734,18563\n",
    "Index: 23\n",
    "String 1: state_of_the_union,7413,9314\n",
    "state_of_the_union,42465,44323\n",
    "state_of_the_union,9314,11282\n",
    "state_of_the_union,34809,36628\n",
    "state_of_the_union,16734,18563\n",
    "String 2: state_of_the_union,7413,9314\n",
    "state_of_the_union,42465,44323\n",
    "state_of_the_union,9314,11282\n",
    "state_of_the_union,34809,36628\n",
    "state_of_the_union,14959,16734\n",
    "String 3: state_of_the_union,7413,9314\n",
    "state_of_the_union,42465,44323\n",
    "state_of_the_union,9314,11282\n",
    "state_of_the_union,34809,36628\n",
    "state_of_the_union,14959,16734\"\"\"\n",
    "\n",
    "# Parse the log and calculate the average differences\n",
    "triplets = parse_log(log_data)\n",
    "average_difference = calculate_average_differences(triplets)\n",
    "\n",
    "print(f\"Average difference in the start and end index lengths for differing lines: {average_difference}\")\n"
   ]
  },
  {
   "cell_type": "code",
   "execution_count": 1,
   "metadata": {},
   "outputs": [],
   "source": [
    "import chromadb.utils.embedding_functions as embedding_functions\n",
    "import chromadb\n",
    "import os\n",
    "\n",
    "chroma_client = chromadb.PersistentClient(path=\"../../data/chroma_db\")\n",
    "OPENAI_API_KEY = os.getenv('OPENAI_CHROMA_API_KEY')\n",
    "# openai_ef = embedding_functions.OpenAIEmbeddingFunction(\n",
    "#                 api_key=OPENAI_API_KEY,\n",
    "#                 model_name=\"text-embedding-3-large\"\n",
    "#             )\n",
    "\n",
    "# collection_name = \"questions_openai_large\"\n",
    "collection_name = \"questions_BERT\"\n",
    "\n",
    "collection = chroma_client.create_collection(collection_name)\n",
    "# collection = chroma_client.create_collection(collection_name, embedding_function=openai_ef)"
   ]
  },
  {
   "cell_type": "code",
   "execution_count": 2,
   "metadata": {},
   "outputs": [],
   "source": [
    "import pandas as pd\n",
    "\n",
    "questions_df = pd.read_csv('../data/questions_df.csv')"
   ]
  },
  {
   "cell_type": "code",
   "execution_count": 3,
   "metadata": {},
   "outputs": [],
   "source": [
    "import json\n",
    "\n",
    "questions_df['references'] = questions_df['references'].apply(json.loads)"
   ]
  },
  {
   "cell_type": "code",
   "execution_count": 4,
   "metadata": {},
   "outputs": [],
   "source": [
    "docs = questions_df['question'].tolist()\n",
    "metas = []\n",
    "ids = []\n",
    "for _, row in questions_df.iterrows():\n",
    "    metas.append({'id': row.name, 'corpus_id': row['corpus_id']})\n",
    "    ids.append(str(row.name))\n",
    "\n",
    "\n",
    "collection.add(\n",
    "    documents=docs,\n",
    "    metadatas=metas,\n",
    "    ids=ids\n",
    ")"
   ]
  },
  {
   "cell_type": "code",
   "execution_count": 60,
   "metadata": {},
   "outputs": [],
   "source": [
    "questions_collection = chroma_client.get_collection(\"auto_chunk\", embedding_function=openai_ef)"
   ]
  },
  {
   "cell_type": "code",
   "execution_count": 5,
   "metadata": {},
   "outputs": [],
   "source": [
    "question_db = collection.get(include=['embeddings'])\n"
   ]
  },
  {
   "cell_type": "code",
   "execution_count": 7,
   "metadata": {},
   "outputs": [
    {
     "data": {
      "text/plain": [
       "384"
      ]
     },
     "execution_count": 7,
     "metadata": {},
     "output_type": "execute_result"
    }
   ],
   "source": [
    "len(question_db['embeddings'][0])"
   ]
  },
  {
   "cell_type": "code",
   "execution_count": 66,
   "metadata": {},
   "outputs": [],
   "source": [
    "# Convert ids to integers for sorting\n",
    "question_db['ids'] = list(map(int, question_db['ids']))\n",
    "\n",
    "# Create a sorted list of tuples (id, embedding)\n",
    "sorted_id_embeddings = sorted(zip(question_db['ids'], question_db['embeddings']))\n",
    "\n",
    "# Unzip the sorted list into two lists: sorted_ids and sorted_embeddings\n",
    "sorted_ids, sorted_embeddings = zip(*sorted_id_embeddings)\n",
    "\n",
    "# Update question_db with the sorted lists\n",
    "# question_db['ids'] = list(sorted_ids)\n",
    "\n",
    "sorted_embeddings = list(sorted_embeddings)"
   ]
  },
  {
   "cell_type": "code",
   "execution_count": 69,
   "metadata": {},
   "outputs": [
    {
     "data": {
      "text/plain": [
       "\"What significant regulatory changes and proposals has President Biden's administration implemented or announced regarding fees and pricing transparency?\""
      ]
     },
     "execution_count": 69,
     "metadata": {},
     "output_type": "execute_result"
    }
   ],
   "source": [
    "docs[0]"
   ]
  }
 ],
 "metadata": {
  "kernelspec": {
   "display_name": "chroma-research",
   "language": "python",
   "name": "python3"
  },
  "language_info": {
   "codemirror_mode": {
    "name": "ipython",
    "version": 3
   },
   "file_extension": ".py",
   "mimetype": "text/x-python",
   "name": "python",
   "nbconvert_exporter": "python",
   "pygments_lexer": "ipython3",
   "version": "3.11.8"
  }
 },
 "nbformat": 4,
 "nbformat_minor": 2
}
