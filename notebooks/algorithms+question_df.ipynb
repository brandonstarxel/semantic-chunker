{
 "cells": [
  {
   "cell_type": "markdown",
   "metadata": {},
   "source": [
    "# Goals:\n",
    "\n",
    "1. Implement LangChain's Semamtic chunking\n",
    "2. Re-evaluate if performance is worse.\n",
    "3. Perhaps chunks of value are too large? In which case drop threshold cut."
   ]
  },
  {
   "cell_type": "markdown",
   "metadata": {},
   "source": [
    "| LangChain | SemanticChunker | 0 | 0 | text-embedding-3-large | 0.073 ± 0.104 | 0.824 ± 0.379 | 0.079 ± 0.097 | 0.998 ± 0.032 |\n",
    "It's worse."
   ]
  },
  {
   "cell_type": "markdown",
   "metadata": {},
   "source": [
    "Investigation of LangChain's Semantic Chunking"
   ]
  },
  {
   "cell_type": "code",
   "execution_count": 7,
   "metadata": {},
   "outputs": [],
   "source": [
    "import chromadb.utils.embedding_functions as embedding_functions\n",
    "import chromadb\n",
    "import os\n",
    "\n",
    "chroma_client = chromadb.PersistentClient(path=\"../../data/chroma_db\")\n",
    "OPENAI_API_KEY = os.getenv('OPENAI_CHROMA_API_KEY')\n",
    "openai_ef = embedding_functions.OpenAIEmbeddingFunction(\n",
    "                api_key=OPENAI_API_KEY,\n",
    "                model_name=\"text-embedding-3-large\"\n",
    "            )\n",
    "\n",
    "collection_name = \"auto_chunk\"\n",
    "\n",
    "collection = chroma_client.get_collection(collection_name, embedding_function=openai_ef)"
   ]
  },
  {
   "cell_type": "code",
   "execution_count": 2,
   "metadata": {},
   "outputs": [],
   "source": [
    "import tiktoken\n",
    "\n",
    "# Count the number of tokens in each page_content\n",
    "def num_tokens_from_string(string: str) -> int:\n",
    "    \"\"\"Returns the number of tokens in a text string.\"\"\"\n",
    "    encoding = tiktoken.get_encoding(\"cl100k_base\")\n",
    "    num_tokens = len(encoding.encode(string, disallowed_special=()))\n",
    "    return num_tokens"
   ]
  },
  {
   "cell_type": "code",
   "execution_count": 8,
   "metadata": {},
   "outputs": [],
   "source": [
    "docs = collection.get()"
   ]
  },
  {
   "cell_type": "code",
   "execution_count": 7,
   "metadata": {},
   "outputs": [
    {
     "data": {
      "text/plain": [
       "dict_keys(['ids', 'embeddings', 'metadatas', 'documents', 'uris', 'data'])"
      ]
     },
     "execution_count": 7,
     "metadata": {},
     "output_type": "execute_result"
    }
   ],
   "source": [
    "docs.keys()"
   ]
  },
  {
   "cell_type": "code",
   "execution_count": 9,
   "metadata": {},
   "outputs": [],
   "source": [
    "import numpy as np\n",
    "token_counts = np.array([num_tokens_from_string(doc) for doc in docs['documents']])\n",
    "\n",
    "# corpus_id_flags = [1 if metadata['corpus_id'] == 'state_of_the_union' else 0 for metadata in docs['metadatas']]\n",
    "\n",
    "# token_counts = [token_counts[i] for i, flag in enumerate(corpus_id_flags) if flag]\n",
    "# metadatas = [docs['metadatas'][i] for i, flag in enumerate(corpus_id_flags) if flag]\n",
    "# texts = [docs['documents'][i] for i, flag in enumerate(corpus_id_flags) if flag]\n"
   ]
  },
  {
   "cell_type": "markdown",
   "metadata": {},
   "source": [
    "# For Default LangChain (95th Percentile cut off)"
   ]
  },
  {
   "cell_type": "code",
   "execution_count": 10,
   "metadata": {},
   "outputs": [
    {
     "name": "stdout",
     "output_type": "stream",
     "text": [
      "Mean Token Count: 277.6234096692112\n",
      "Median Token Count: 258.0\n",
      "Standard Deviation of Token Count: 176.3530674679\n",
      "Maximum Token Count: 1506\n",
      "Minimum Token Count: 15\n"
     ]
    },
    {
     "data": {
      "image/png": "[encoded data removed]",
      "text/plain": [
       "<Figure size 640x480 with 1 Axes>"
      ]
     },
     "metadata": {},
     "output_type": "display_data"
    }
   ],
   "source": [
    "import numpy as np  \n",
    "import matplotlib.pyplot as plt\n",
    "\n",
    "# Calculate and print the mean, median, standard deviation, maximum and minimum of the token counts\n",
    "mean_token_count = np.mean(token_counts)\n",
    "median_token_count = np.median(token_counts)\n",
    "std_token_count = np.std(token_counts)\n",
    "max_token_count = np.max(token_counts)\n",
    "min_token_count = np.min(token_counts)\n",
    "\n",
    "print(f\"Mean Token Count: {mean_token_count}\")\n",
    "print(f\"Median Token Count: {median_token_count}\")\n",
    "print(f\"Standard Deviation of Token Count: {std_token_count}\")\n",
    "print(f\"Maximum Token Count: {max_token_count}\")\n",
    "print(f\"Minimum Token Count: {min_token_count}\")\n",
    "\n",
    "\n",
    "plt.hist(token_counts, bins=100)\n",
    "plt.xlabel('Number of Tokens')\n",
    "plt.ylabel('Number of Documents')\n",
    "plt.title('Number of Tokens in Each Document')\n",
    "plt.show()"
   ]
  },
  {
   "cell_type": "code",
   "execution_count": 7,
   "metadata": {},
   "outputs": [
    {
     "name": "stdout",
     "output_type": "stream",
     "text": [
      "Index of Maximum Token Count: 22\n"
     ]
    }
   ],
   "source": [
    "index_max_token_count = np.argmax(token_counts)\n",
    "print(f\"Index of Maximum Token Count: {index_max_token_count}\")\n"
   ]
  },
  {
   "cell_type": "code",
   "execution_count": 8,
   "metadata": {},
   "outputs": [
    {
     "data": {
      "text/plain": [
       "{'corpus_id': 'wikitexts', 'end_index': 86165, 'start_index': 68080}"
      ]
     },
     "execution_count": 8,
     "metadata": {},
     "output_type": "execute_result"
    }
   ],
   "source": [
    "docs['metadatas'][index_max_token_count]"
   ]
  },
  {
   "cell_type": "code",
   "execution_count": 9,
   "metadata": {},
   "outputs": [
    {
     "data": {
      "text/plain": [
       "'The maximum lifespan is estimated to be 9 years for males and 13 years for females . = = Human interactions = = \\n The main conservation threat to the plain maskray is incidental capture by commercial bottom trawl fisheries . In the present day , this is mostly caused by Australia \\'s Northern Prawn Fishery , which operates throughout its range . Although this species is discarded when caught , it is more delicate @-@ bodied than other maskrays and is thus unlikely to survive encounters with trawling gear . Historically , this species may also have been negatively affected by Japanese , Chinese , and Taiwanese trawlers that fished intensively off northern Australia from 1959 to 1990 . These factors , coupled with the plain maskray \\'s limited distribution and low reproductive rate , have resulted in its being assessed as Near Threatened by the International Union for Conservation of Nature ( IUCN ) . = 2011 – 12 Columbus Blue Jackets season = \\n The 2011 – 12 Columbus Blue Jackets season was the team \\'s 12th season in the National Hockey League ( NHL ) . The Blue Jackets \\' record of 29 – 46 – 7 [ note 1 ] was the worst record in the NHL for 2011 – 12 and the first time in franchise history they finished in last place . It also marked the third straight year that they missed the playoffs . Consequently , they had the best chance to receive the first overall selection in the 2012 NHL Entry Draft lottery , but lost out to the Edmonton Oilers and received the second pick instead . The Blue Jackets began the year with the worst start in franchise history and the worst by any team in an NHL season in 19 years . After an 11 – 25 – 5 start , Head Coach Scott Arniel was fired and replaced by Assistant Coach Todd Richards . The poor season prompted several personnel changes including the trade of All @-@ Star forward Jeff Carter , who was acquired with much fanfare during the off @-@ season . With the prospect of another rebuild looming the Blue Jackets \\' captain and best player , Rick Nash , requested to be traded , though he would remain with the team for the entire season . The team was involved in a controversial loss to the Los Angeles Kings , when the Staples Center clock appeared to freeze at 1 @.@ 8 seconds allowing the Kings time to score the tying goal , before winning in overtime . During the season Columbus managed only two winning streaks of three or more games . One of which came towards the end of the year helping the Blue Jackets finish with 65 points , the third worst point total in franchise history . = = Off @-@ season = = \\n In the off @-@ season the Blue Jackets \\' approach to building their team changed , moving from a team of young developing players into one with established players . The first deal General Manager Scott Howson made was the acquisition of All @-@ Star forward Jeff Carter on June 23 , 2011 . The deal sent Jakub <unk> , Columbus \\' first @-@ round draft choice , the eighth overall , and their third @-@ round pick in the 2011 Draft to the Philadelphia Flyers in exchange for Carter . The trade received a positive response in Columbus from fans and management who felt they finally had a number one center to play alongside of their best player , Rick Nash . Next , they traded for the negotiating rights of soon to be free agent James Wisniewski . Wisniewski scored a career high 51 points during the 2010 – 11 season , splitting time between the New York Islanders and Montreal Canadiens . The point total was fifth @-@ highest in the league for defenseman scoring , tying Tobias <unk> . The Blue Jackets came to terms with Wisniewski , just an hour prior to the start of free agency , signing him to a six @-@ year , $ 33 million deal . Columbus also traded former first round draft pick Nikita Filatov to the Ottawa Senators for a third @-@ round pick in the 2011 Draft . Filatov had failed to live up to expectations in Columbus , playing in only 44 games over three seasons scoring six goals . Prior to the start of the season , the Blue Jackets were questioned for not signing a veteran back @-@ up to starting goaltender Steve Mason , as the former Calder Memorial Trophy winner had struggled in consecutive seasons . The Blue Jackets signed Mark <unk> as the back @-@ up who had only 50 minutes of NHL experience prior to the start of the season . Columbus did sign a veteran Curtis Sanford to be their third string goaltender and to start for their American Hockey League ( AHL ) affiliate , the Springfield Falcons . Sanford had not played in the NHL since 2009 . During training camp , <unk> suffered a high ankle sprain that was expected to keep him out of the line @-@ up for a month . Additionally , Sanford suffered a groin injury , leaving Allen York as the back @-@ up . York had only played four professional games , all in the AHL , entering the season . = = Regular season = = \\n = = = October – December = = = \\n After the first five games , all losses , Jeff Carter suffered a broken foot that kept him out of the line @-@ up for 10 games . While Carter was injured , the Blue Jackets continued to lose games . In the eighth game of the year , they had a chance to end the losing streak against the Ottawa Senators . Columbus held a 3 – 2 lead with under a minute to play . Jason Spezza tied the game on a late power play , and with just 4 @.@ 7 seconds remaining , Milan Michalek notched the winning goal for the Senators . The loss helped set a franchise record for futility with a 0 – 7 – 1 record to start a season . [ note 1 ] The losing streak came to an end three days later with a win over the Detroit Red Wings . During the game , several milestones were reached . James Wisniewski made his Columbus debut , Ryan Johansen and John Moore scored their first career NHL goals and Grant <unk> had a career @-@ high three assists . Columbus was unable to create any momentum from the win , however , and continued to struggle , culminating in a 2 – 12 – 1 record , which was the worst start to an NHL season for any team in 19 years . With the team struggling , management attempted to \" shake things up \" by making some roster moves . The first move was the acquisition of center Mark <unk> from the Pittsburgh Penguins . Next , they traded defenseman Kris Russell to the St. Louis Blues for Nikita Nikitin . As the clubs slow start continued , there were rumors that Head Coach Scott Arniel would be fired and replaced with Ken Hitchcock . Hitchcock had previously coached the Blue Jackets to their only playoff appearance in club history and was still under contract with the franchise through to the end of the season . Before any of these rumors came to fruition , the St. Louis Blues asked Columbus for permission to hire Hitchcock , which the Blue Jackets allowed . Hitchcock began his Blues coaching career with a 6 – 1 – 2 record in his first nine games , while Columbus amassed a 6 – 13 – 3 record to start the season . During the same time frame as the Hitchcock rumors , goaltender Curtis Sanford returned from his groin injury on November 13 . He made his first start of the season against the Boston Bruins , losing 2 – 1 in a shootout . Sanford continued his strong play , posting a 3 – 1 – 2 record , 1 @.@ 38 goals against average and <unk> save percentage over his next six games . Sanford started 12 consecutive games before Steve Mason made his next start . The number of starts might not have been as numerous , but prior to the November 23 game , Mason was hit in the head by a shot from Rick Nash during pre @-@ game warm @-@ ups and suffered a concussion . Mason returned from his concussion after two games , making a start against the Vancouver Canucks . Mason allowed only one goal in the game despite suffering from cramping in the third period , temporarily being replaced by Sanford for just over three minutes . Columbus won the game 2 – 1 in a shootout , breaking a nine @-@ game losing streak to the Canucks . After the game , Arniel stated that Sanford was still seen as the team \\'s number one goaltender . However , Mason started four of the next six games with the Blue Jackets going 0 – 5 – 1 during that stretch . = = = January – February = = = \\n With the losing continuing , more rumors began to surface . Unlike before , the rumors were about player moves rather than coaching changes . The majority of rumors were that the Blue Jackets would trade Rick Nash . While Howson stated that he had never brought up trading Nash in discussions , other teams had inquired about his availability . Nash stated that if Columbus felt it would make the franchise better than he would be willing to waive his no @-@ trade clause . Howson publicly stated that he had no intention of trading Nash . More rumors came to light when reports attributed to Réseau des sports stated that Carter was unhappy in Columbus and demanded a trade . Howson , Carter and his agent all denied that a trade request was ever made , and they were unsure where the reports were coming from . With the trade deadline approaching , speculation picked up on the Blue Jackets trading Carter . Reports were that Columbus was trying to trade Carter and that he was \" 100 percent available . \" \\n At the halfway point of the season , with the Blue Jackets barely into double digit wins with an 11 – 25 – 5 record , worst in the league , and sitting 20 points out of playoff position , Columbus fired Arniel . He was replaced by Assistant Coach Todd Richards on an interim basis . Richards had previously coached the Minnesota Wild . He recorded his first coaching victory for the Blue Jackets in his second game , a 4 – 3 win over the Phoenix Coyotes . The change in coaching did not change the fortunes of the team , as they reached the All @-@ Star break with a 13 – 30 – 6 record . At the break , Blue Jackets \\' owner John P. McConnell sent out a letter to fans stating his understanding of their frustration . He added that action would be taken around the trade deadline , the Entry Draft and free agency to take the team in a new direction . When speaking of the season , McConnell stated \" disappointing is not a strong enough word \" and that he was committed to giving fans a team of which they can be proud of . He also thanked them for their dedication and passion , while reiterating that the team goal was to \" win consistently and compete for the Stanley Cup . \" Days later , a 250 @-@ person protest occurred outside of Nationwide Arena . Fans were upset with the Blue Jackets \\' management and were calling for changes at the top . The same day the fans protested , it was announced that the franchise would host the 2013 All @-@ Star Game . Columbus was without a representative for the 2012 All @-@ star Game , but Ryan Johansen represented the club as a rookie participant in the Super Skills Competition . In the competition , Johansen participated in the Allstate Insurance NHL Breakaway Challenge , a shootout themed event judged by the fans . He received just 1 % of the vote and finished last . Following the break , the Blue Jackets were on the road playing the Los Angeles Kings , and with the score tied late in the game , Kings \\' defenseman Drew Doughty scored with just 0 @.@ 4 seconds remaining to win the game . Upon review of the goal it , was determined that the clock at Staples Center froze at 1 @.@ 8 seconds for over a full second , which would have resulted in time expiring prior to the goal being scored . Kings \\' General Manager Dean Lombardi stated that the clock was correct and no extra time had been added due to the way the clock self @-@ corrects at various times . Howson stated on the team \\'s blog that \" It is an amazing coincidence that with the Kings on a power play at Staples Center and with a mad scramble around our net in the dying seconds of the third period of a 2 – 2 hockey game that the clock stopped for at least one full second , \" adding that , \" Either there was a deliberate stopping of the clock or the clock malfunctioned . \" NHL Senior Vice President of Hockey Operations Colin Campbell stated that the Blue Jackets were wronged , but that the outcome of the game could not be changed , and that the delay was not noticed by the off @-@ ice officials or the situation room in Toronto . To determine the true cause of the clock pause , the NHL launched an investigation , talking with the clock \\'s manufacturer and interviewing Staples Center staff . Two weeks prior to the NHL trade deadline , Columbus announced that unlike earlier in the season , they would listen to trade proposals involving Rick Nash , though they were not actively shopping him . Howson stated that the team was open to all options for improving the team , including trading Nash . Speculation was that in return for Nash the Blue Jackets would ask for a \" combination of young , proven players , high @-@ end prospects and draft picks . \" Leading up to the trade deadline , the Blue Jackets dealt Antoine <unk> to the Phoenix Coyotes for two draft picks and goaltender Curtis McElhinney . Despite being injured at the time , the acquisition of McElhinney was believed to give Columbus the flexibility to trade Curtis Sanford . The following day , on February 23 , Columbus traded Jeff Carter to the Kings . In the deal , Columbus acquired defenseman Jack Johnson and a first @-@ round draft pick ; the team was given the choice of taking the pick in either 2012 or 2013 . At the deadline , Columbus was unable to come to terms on a deal involving Nash , but they did make one more move ; they sent center Samuel Pahlsson to the Vancouver Canucks in exchange for two fourth @-@ round draft picks and minor league defenseman Taylor Ellington . Following the trade deadline , Howson announced that the team had attempted to trade Nash at the player \\'s request . Nash stated that he had requested the trade after being informed that the franchise was going into another rebuilding phase . He further noted that he felt that he \" could be a huge part of that towards bringing assets in , \" and in his view \" it was the best thing for the team , the organization , and personally for [ his ] career . \" After the personnel changes , the Blue Jackets closed out the month with a three @-@ game losing streak . = = = March – April = = = \\n Columbus started March with a 2 – 0 shutout against the Colorado Avalanche . They proceeded to win their next game against the Phoenix Coyotes 5 – 2 , which marked the first time that the Blue Jackets posted back @-@ to @-@ back regulation victories during the season . Columbus again defeated the Coyotes three days later to earn their first three @-@ game win streak of the season . They extended the streak to four with a win over the Los Angeles Kings before it came to an end with a 4 – 1 loss to the St. Louis Blues . It was the only four @-@ game win streak of the season for the Blue Jackets . They immediately matched their four @-@ game win streak with a four @-@ game losing streak and with ten games remaining , the Blue Jackets were the first team eliminated from playoff contention . Shortly after being eliminated , they were defeated by the Edmonton Oilers 6 – 3 ; the loss clinched last place in the NHL for Columbus . It was the first time in franchise history the Blue Jackets finished in 30th place . Three days later , on March 28 , goaltender Steve Mason was injured in the morning skate when a shot from Colton Gillies hit him in the mask . With Sanford again injured , York made an emergency start . Playing against the Detroit Red Wings , York made 29 saves , including 17 in the third period , helping Columbus to a 4 – 2 victory and giving York his first career NHL win . York remained the starter and led the Blue Jackets to a second three @-@ game winning streak . In his fourth start , Columbus was shutout by the Coyotes despite a franchise @-@ record 54 shots on goal , losing 2 – 0 . The 54 saves by Phoenix goaltender Mike Smith set an NHL record for a regulation shutout . Mason returned to the starter \\'s role for the final two games , winning both . The two victories gave Columbus 65 points for the year , their third @-@ lowest total in franchise history . The Blue Jackets struggled in shorthanded situations , allowing the most power @-@ play goals in the League , with 64 , and having the lowest penalty @-@ kill percentage , at 76 @.@ 64 % \\n = = Post @-@ season = = \\n Finishing with the worst record in the NHL , Columbus had the best chance of receiving the first overall pick in the 2012 draft . With the NHL \\'s weighted draft lottery the Blue Jackets had a 48 @.@ 2 % chance of drafting first overall . However , the lottery was won by the Edmonton Oilers , who proceeded to leapfrog Columbus and secure the number one draft pick for a third consecutive year . It was the fifth time that the Blue Jackets were dropped one draft position in the franchise \\'s 12 lottery participations . A month later , on May 14 , the Blue Jackets announced that Richards would remain as head coach and signed him to a two @-@ year contract . During the press conference , Howson noted , \" Our team continuously improved under Todd and he has earned the opportunity to build upon the work he started . \" Columbus posted an 18 – 21 – 2 record under Richards , including winning seven of their final 11 games . = = Standings = = \\n Since being founded as an expansion team , the Blue Jackets have played in the Central Division of the Western Conference . Division rivals Chicago Blackhawks , Detroit Red Wings , Nashville Predators and St. Louis Blues , all made the playoff during the 2011 – 12 season , which helped Columbus finish 36 points behind fourth place Chicago and 44 points out of first . Divisions : CE – Central , NW – Northwest , PA – Pacific \\n bold - qualified for playoffs , y – Won division , p – Won Presidents \\' Trophy ( best record in NHL ) \\n = = Schedule and results = = \\n = = = Pre @-@ season = = = \\n = = = Regular season = = = \\n Green background indicates win ( 2 points ) . Red background indicates regulation loss ( 0 points ) .'"
      ]
     },
     "execution_count": 9,
     "metadata": {},
     "output_type": "execute_result"
    }
   ],
   "source": [
    "docs['documents'][index_max_token_count]"
   ]
  },
  {
   "cell_type": "code",
   "execution_count": 22,
   "metadata": {},
   "outputs": [
    {
     "data": {
      "text/plain": [
       "'Stop it, stop it, stop it. I’m proud we beat the NRA when I signed the most significant gun safety law in nearly 30 years because of this Congress. We now must beat the NRA again. I’m demanding a ban on assault weapons and high-capacity magazines. Pass universal background checks. None of this — none of this — I taught the Second Amendment for 12 years. None of this violates the Second Amendment or vilifies responsible gun owners. (Cross-talk.)\\n\\nYou know, as we manage challenges at home, we’re also managing crises abroad, including in the Middle East. I know the last five months have been gut-wrenching for so many people — for the Israeli people, for the Palestinian people, and so many here in America. This crisis began on October 7th with a massacre by a terrorist group called Hamas, as you all know. One thousand two hundred innocent people — women and girls, men and boys — slaughtered after enduring sexual violence. The deadliest day of the — for the Jewish people since the Holocaust. And 250 hostages taken. Here in this chamber tonight are families whose loved ones are still being held by Hamas. I pledge to all the families that we will not rest until we bring every one of your loved ones home. We also — we will also work around the clock to bring home Evan and Paul — Americans being unjustly detained by the Russians — and others around the world. Israel has a right to go after Hamas. Hamas ended this conflict by releasing the hostages, laying down arms — could end it by — by releasing the hostages, laying down arms, and s- — surrendering those responsible for October 7th. But Israel has a h- — excuse me. Israel has a added burden because Hamas hides and operates among the civilian population like cowards — under hospitals, daycare centers, and all the like. Israel also has a fundamental responsibility, though, to protect innocent civilians in Gaza. This war has taken a greater toll on innocent civilians than all previous wars in Gaza combined. More than 30,000 Palestinians have been killed —\\n\\nAUDIENCE MEMBER: Says who? THE PRESIDENT: — most of whom are not Hamas. Thousands and thousands of innocents — women and children. Girls and boys also orphaned. Nearly 2 million more Palestinians under bombardment or displacement. Homes destroyed, neighborhoods in rubble, cities in ruin. Families without food, water, medicine. It’s heartbreaking. I’ve been working non-stop to establish an immediate ceasefire that would last for six weeks to get all the prisoners released — all the hostages released and to get the hostages home and to ease the intolerable an- — humanitarian crisis and build toward an enduring — a more — something more enduring. The United States has been leading international efforts to get more humanitarian assistance into Gaza. Tonight, I’m directing the U.S. military to lead an emergency mission to establish a temporary pier in the Mediterranean on the coast of Gaza that can receive large shipments carrying food, water, medicine, and temporary shelters. No U.S. boots will be on the ground. A temporary pier will enable a massive increase in the amount of humanitarian assistance getting into Gaza every day. And Israel must also do its part. Israel must allow more aid into Gaza and ensure humanitarian workers aren’t caught in the crossfire. And they’re announcing they’re going to — they’re going to ca- — have a crossing in Northern Gaza. To the leadership of Israel, I say this: Humanitarian assistance cannot be a secondary consideration or a bargaining chip. Protecting and saving innocent lives has to be a priority. As we look to the future, the only real solution to the situation is a two-state solution over time. And I say this as a lifelong supporter of Israel, my entire career. No one has a stronger record with Israel than I do. I challenge any of you here. I’m the only American president to visit Israel in wartime. But there is no other path that guarantees Israel’s security and democracy. There is no other path that guarantees Pa- — that Palestinians can live in peace with po- — with peace and dignity. And there is no other path that guarantees peace between Israel and all of its neighbors — including Saudi Arabia, with whom I’m talking. Creating stability in the Middle East also means containing the threat posed by Iran. That’s why I built a coalition of more than a dozen countries to defend international shipping and freedom of navigation in the Red Sea. I’ve ordered strikes to degrade the Houthi capability and defend U.S. forces in the region. As Commander-in-Chief, I will not hesitate to direct further measures to protect our people and our military personnel. For years, I’ve heard many of my Republican and Democratic friends say that China is on the rise and America is falling behind. They’ve got it backwards. I’ve been saying it for over four years, even when I wasn’t president. America is rising. We have the best economy in the world. And since I’ve come to office, our GTB (GDP) is up, our trade deficit with China is down to the lowest point in over a decade. And we’re standing up against China’s unfair economic practices. We’re standing up for peace and stability across the Taiwan Straits. I’ve revitalized our partnership and alliance in the Pacific: India, Australia, Japan, South Korea, the Pacific Islands. I’ve made sure that the most advanced American technologies can’t be used in China — not allowing to trade them there. Frankly, for all his tough talk on China, it never occurred to my predecessor to do any of that. I want competition with China, not conflict. And we’re in a stronger position to win the conflict (competition) of the 21st century against China than anyone else for that matter — than at any time as well. Here at home, I’ve signed over 400 bipartisan bills. But there’s more to pass my Unity Agenda. Strengthen penalties on fentanyl trafficking. You don’t want to do that, huh? Pass bipartisan privacy legislation to protect our children online. Harness — harness the promise of AI to protect us from peril. Ban AI voice impersonations and more.'"
      ]
     },
     "execution_count": 22,
     "metadata": {},
     "output_type": "execute_result"
    }
   ],
   "source": [
    "texts[index_max_token_count]"
   ]
  },
  {
   "cell_type": "code",
   "execution_count": 23,
   "metadata": {},
   "outputs": [
    {
     "data": {
      "text/plain": [
       "{'corpus_id': 'state_of_the_union', 'end_index': 43747, 'start_index': 37615}"
      ]
     },
     "execution_count": 23,
     "metadata": {},
     "output_type": "execute_result"
    }
   ],
   "source": [
    "metadatas[index_max_token_count]"
   ]
  },
  {
   "cell_type": "code",
   "execution_count": 20,
   "metadata": {},
   "outputs": [],
   "source": [
    "from langchain_text_splitters import RecursiveCharacterTextSplitter, TokenTextSplitter\n",
    "import tiktoken\n",
    "\n",
    "# Count the number of tokens in each page_content\n",
    "def num_tokens_from_string(string: str) -> int:\n",
    "    \"\"\"Returns the number of tokens in a text string.\"\"\"\n",
    "    encoding = tiktoken.get_encoding(\"cl100k_base\")\n",
    "    num_tokens = len(encoding.encode(string, disallowed_special=()))\n",
    "    return num_tokens\n",
    "\n",
    "splitter = RecursiveCharacterTextSplitter(\n",
    "            chunk_size=25,\n",
    "            chunk_overlap=0,\n",
    "            length_function=num_tokens_from_string\n",
    "        )"
   ]
  },
  {
   "cell_type": "code",
   "execution_count": 21,
   "metadata": {},
   "outputs": [
    {
     "name": "stdout",
     "output_type": "stream",
     "text": [
      "588\n"
     ]
    }
   ],
   "source": [
    "with open('../data/state_of_the_union.md', 'r') as file:\n",
    "    data = file.read()\n",
    "\n",
    "chunks = splitter.split_text(data)\n",
    "print(len(chunks))"
   ]
  },
  {
   "cell_type": "code",
   "execution_count": 4,
   "metadata": {},
   "outputs": [],
   "source": [
    "import chromadb.utils.embedding_functions as embedding_functions\n",
    "import chromadb\n",
    "import os\n",
    "\n",
    "chroma_client = chromadb.PersistentClient(path=\"../../data/chroma_db\")\n",
    "OPENAI_API_KEY = os.getenv('OPENAI_CHROMA_API_KEY')\n",
    "openai_ef = embedding_functions.OpenAIEmbeddingFunction(\n",
    "                api_key=OPENAI_API_KEY,\n",
    "                model_name=\"text-embedding-3-large\"\n",
    "            )\n",
    "\n",
    "collection_name = \"auto_chunk\"\n",
    "\n",
    "collection = chroma_client.get_collection(collection_name, embedding_function=openai_ef)"
   ]
  },
  {
   "cell_type": "code",
   "execution_count": 5,
   "metadata": {},
   "outputs": [
    {
     "name": "stdout",
     "output_type": "stream",
     "text": [
      "Mean: 133.42991418062934\n",
      "Median: 149.0\n",
      "Min: 1\n",
      "Max: 201\n",
      "Standard Deviation: 62.99149769847911\n"
     ]
    }
   ],
   "source": [
    "all_docs = collection.get()\n",
    "\n",
    "tokens = [num_tokens_from_string(x) for x in all_docs['documents']]\n",
    "\n",
    "import numpy as np\n",
    "\n",
    "mean_tokens = np.mean(tokens)\n",
    "median_tokens = np.median(tokens)\n",
    "min_tokens = np.min(tokens)\n",
    "max_tokens = np.max(tokens)\n",
    "std_tokens = np.std(tokens)\n",
    "\n",
    "print(f\"Mean: {mean_tokens}\")\n",
    "print(f\"Median: {median_tokens}\")\n",
    "print(f\"Min: {min_tokens}\")\n",
    "print(f\"Max: {max_tokens}\")\n",
    "print(f\"Standard Deviation: {std_tokens}\")\n"
   ]
  },
  {
   "cell_type": "code",
   "execution_count": 35,
   "metadata": {},
   "outputs": [],
   "source": [
    "retrievals = collection.query(query_texts=[\"Hello?\", \"How are you?\"], n_results=5)"
   ]
  },
  {
   "cell_type": "code",
   "execution_count": 41,
   "metadata": {},
   "outputs": [],
   "source": [
    "retrievals['metadatas']\n",
    "\n",
    "def get_retrieval_meta_str_inst(metadatas: dict) -> list:\n",
    "    \"\"\"Returns a list of strings that represent the metadata of the retrievals.\"\"\"\n",
    "    retrieval_meta_str_list = [f\"{metadata['corpus_id']},{metadata['start_index']},{metadata['end_index']}\" for metadata in metadatas]\n",
    "    retrieval_meta_str = \"\\n\".join(retrieval_meta_str_list)\n",
    "    return retrieval_meta_str\n",
    "\n",
    "retrieval_meta_str_list = [get_retrieval_meta_str_inst(x) for x in retrievals['metadatas']]"
   ]
  },
  {
   "cell_type": "code",
   "execution_count": 42,
   "metadata": {},
   "outputs": [
    {
     "data": {
      "text/plain": [
       "['state_of_the_union,32969,34809\\nstate_of_the_union,25997,27691\\nstate_of_the_union,42465,44323\\nchatlogs,28192,30508\\nstate_of_the_union,0,1889',\n",
       " 'pubmed,63244,65039\\npubmed,7066,8800\\npubmed,61825,63244\\npubmed,10724,12488\\npubmed,3445,5308']"
      ]
     },
     "execution_count": 42,
     "metadata": {},
     "output_type": "execute_result"
    }
   ],
   "source": [
    "retrieval_meta_str_list"
   ]
  },
  {
   "cell_type": "code",
   "execution_count": 45,
   "metadata": {},
   "outputs": [
    {
     "ename": "ValueError",
     "evalue": "not enough values to unpack (expected 3, got 2)",
     "output_type": "error",
     "traceback": [
      "\u001b[0;31m---------------------------------------------------------------------------\u001b[0m",
      "\u001b[0;31mValueError\u001b[0m                                Traceback (most recent call last)",
      "Cell \u001b[0;32mIn[45], line 70\u001b[0m\n\u001b[1;32m     68\u001b[0m \u001b[38;5;66;03m# Parse the log and calculate the average differences\u001b[39;00m\n\u001b[1;32m     69\u001b[0m triplets \u001b[38;5;241m=\u001b[39m parse_log(log_data)\n\u001b[0;32m---> 70\u001b[0m average_difference \u001b[38;5;241m=\u001b[39m \u001b[43mcalculate_average_differences\u001b[49m\u001b[43m(\u001b[49m\u001b[43mtriplets\u001b[49m\u001b[43m)\u001b[49m\n\u001b[1;32m     72\u001b[0m \u001b[38;5;28mprint\u001b[39m(\u001b[38;5;124mf\u001b[39m\u001b[38;5;124m\"\u001b[39m\u001b[38;5;124mAverage difference in the start and end index lengths for differing lines: \u001b[39m\u001b[38;5;132;01m{\u001b[39;00maverage_difference\u001b[38;5;132;01m}\u001b[39;00m\u001b[38;5;124m\"\u001b[39m)\n",
      "Cell \u001b[0;32mIn[45], line 25\u001b[0m, in \u001b[0;36mcalculate_average_differences\u001b[0;34m(triplets)\u001b[0m\n\u001b[1;32m     23\u001b[0m line3 \u001b[38;5;241m=\u001b[39m triplet[\u001b[38;5;241m2\u001b[39m][i]\n\u001b[1;32m     24\u001b[0m \u001b[38;5;28;01mif\u001b[39;00m line1 \u001b[38;5;241m!=\u001b[39m line2 \u001b[38;5;129;01mor\u001b[39;00m line1 \u001b[38;5;241m!=\u001b[39m line3:\n\u001b[0;32m---> 25\u001b[0m     _, start1, end1 \u001b[38;5;241m=\u001b[39m \u001b[38;5;28mmap\u001b[39m(\u001b[38;5;28mint\u001b[39m, line1\u001b[38;5;241m.\u001b[39msplit(\u001b[38;5;124m'\u001b[39m\u001b[38;5;124m,\u001b[39m\u001b[38;5;124m'\u001b[39m)[\u001b[38;5;241m1\u001b[39m:])\n\u001b[1;32m     26\u001b[0m     _, start2, end2 \u001b[38;5;241m=\u001b[39m \u001b[38;5;28mmap\u001b[39m(\u001b[38;5;28mint\u001b[39m, line2\u001b[38;5;241m.\u001b[39msplit(\u001b[38;5;124m'\u001b[39m\u001b[38;5;124m,\u001b[39m\u001b[38;5;124m'\u001b[39m)[\u001b[38;5;241m1\u001b[39m:])\n\u001b[1;32m     27\u001b[0m     _, start3, end3 \u001b[38;5;241m=\u001b[39m \u001b[38;5;28mmap\u001b[39m(\u001b[38;5;28mint\u001b[39m, line3\u001b[38;5;241m.\u001b[39msplit(\u001b[38;5;124m'\u001b[39m\u001b[38;5;124m,\u001b[39m\u001b[38;5;124m'\u001b[39m)[\u001b[38;5;241m1\u001b[39m:])\n",
      "\u001b[0;31mValueError\u001b[0m: not enough values to unpack (expected 3, got 2)"
     ]
    }
   ],
   "source": [
    "import re\n",
    "from statistics import mean\n",
    "\n",
    "# Function to parse the log data\n",
    "def parse_log(data):\n",
    "    entries = re.split(r'Index: \\d+', data)\n",
    "    entries = [entry.strip() for entry in entries if entry.strip()]\n",
    "    triplets = []\n",
    "    for entry in entries:\n",
    "        strings = entry.split(':')\n",
    "        strings = [s.strip() for s in strings if s.strip()]\n",
    "        triplet = [s.split('\\n') for s in strings]\n",
    "        triplets.append(triplet)\n",
    "    return triplets\n",
    "\n",
    "# Function to find differing lines and calculate the average difference\n",
    "def calculate_average_differences(triplets):\n",
    "    differences = []\n",
    "    for triplet in triplets:\n",
    "        for i in range(5):  # Assuming each string has exactly 5 lines\n",
    "            line1 = triplet[0][i]\n",
    "            line2 = triplet[1][i]\n",
    "            line3 = triplet[2][i]\n",
    "            if line1 != line2 or line1 != line3:\n",
    "                _, start1, end1 = map(int, line1.split(',')[1:])\n",
    "                _, start2, end2 = map(int, line2.split(',')[1:])\n",
    "                _, start3, end3 = map(int, line3.split(',')[1:])\n",
    "                diff1 = end1 - start1\n",
    "                diff2 = end2 - start2\n",
    "                diff3 = end3 - start3\n",
    "                differences.append(mean([abs(diff1 - diff2), abs(diff1 - diff3), abs(diff2 - diff3)]))\n",
    "    return mean(differences) if differences else 0\n",
    "\n",
    "# Input log data\n",
    "log_data = \"\"\"Index: 22\n",
    "String 1: state_of_the_union,27691,29550\n",
    "state_of_the_union,29550,31157\n",
    "state_of_the_union,31157,32969\n",
    "state_of_the_union,34809,36628\n",
    "state_of_the_union,18563,20332\n",
    "String 2: state_of_the_union,27691,29550\n",
    "state_of_the_union,29550,31157\n",
    "state_of_the_union,31157,32969\n",
    "state_of_the_union,34809,36628\n",
    "state_of_the_union,16734,18563\n",
    "String 3: state_of_the_union,27691,29550\n",
    "state_of_the_union,29550,31157\n",
    "state_of_the_union,31157,32969\n",
    "state_of_the_union,34809,36628\n",
    "state_of_the_union,16734,18563\n",
    "Index: 23\n",
    "String 1: state_of_the_union,7413,9314\n",
    "state_of_the_union,42465,44323\n",
    "state_of_the_union,9314,11282\n",
    "state_of_the_union,34809,36628\n",
    "state_of_the_union,16734,18563\n",
    "String 2: state_of_the_union,7413,9314\n",
    "state_of_the_union,42465,44323\n",
    "state_of_the_union,9314,11282\n",
    "state_of_the_union,34809,36628\n",
    "state_of_the_union,14959,16734\n",
    "String 3: state_of_the_union,7413,9314\n",
    "state_of_the_union,42465,44323\n",
    "state_of_the_union,9314,11282\n",
    "state_of_the_union,34809,36628\n",
    "state_of_the_union,14959,16734\"\"\"\n",
    "\n",
    "# Parse the log and calculate the average differences\n",
    "triplets = parse_log(log_data)\n",
    "average_difference = calculate_average_differences(triplets)\n",
    "\n",
    "print(f\"Average difference in the start and end index lengths for differing lines: {average_difference}\")\n"
   ]
  },
  {
   "cell_type": "code",
   "execution_count": 1,
   "metadata": {},
   "outputs": [],
   "source": [
    "import chromadb.utils.embedding_functions as embedding_functions\n",
    "import chromadb\n",
    "import os\n",
    "\n",
    "chroma_client = chromadb.PersistentClient(path=\"../../data/chroma_db\")\n",
    "OPENAI_API_KEY = os.getenv('OPENAI_CHROMA_API_KEY')\n",
    "# openai_ef = embedding_functions.OpenAIEmbeddingFunction(\n",
    "#                 api_key=OPENAI_API_KEY,\n",
    "#                 model_name=\"text-embedding-3-large\"\n",
    "#             )\n",
    "\n",
    "# collection_name = \"questions_openai_large\"\n",
    "collection_name = \"questions_BERT\"\n",
    "\n",
    "collection = chroma_client.create_collection(collection_name)\n",
    "# collection = chroma_client.create_collection(collection_name, embedding_function=openai_ef)"
   ]
  },
  {
   "cell_type": "code",
   "execution_count": 2,
   "metadata": {},
   "outputs": [],
   "source": [
    "import pandas as pd\n",
    "\n",
    "questions_df = pd.read_csv('../data/questions_df.csv')"
   ]
  },
  {
   "cell_type": "code",
   "execution_count": 3,
   "metadata": {},
   "outputs": [],
   "source": [
    "import json\n",
    "\n",
    "questions_df['references'] = questions_df['references'].apply(json.loads)"
   ]
  },
  {
   "cell_type": "code",
   "execution_count": 4,
   "metadata": {},
   "outputs": [],
   "source": [
    "docs = questions_df['question'].tolist()\n",
    "metas = []\n",
    "ids = []\n",
    "for _, row in questions_df.iterrows():\n",
    "    metas.append({'id': row.name, 'corpus_id': row['corpus_id']})\n",
    "    ids.append(str(row.name))\n",
    "\n",
    "\n",
    "collection.add(\n",
    "    documents=docs,\n",
    "    metadatas=metas,\n",
    "    ids=ids\n",
    ")"
   ]
  },
  {
   "cell_type": "code",
   "execution_count": 60,
   "metadata": {},
   "outputs": [],
   "source": [
    "questions_collection = chroma_client.get_collection(\"auto_chunk\", embedding_function=openai_ef)"
   ]
  },
  {
   "cell_type": "code",
   "execution_count": 5,
   "metadata": {},
   "outputs": [],
   "source": [
    "question_db = collection.get(include=['embeddings'])\n"
   ]
  },
  {
   "cell_type": "code",
   "execution_count": 7,
   "metadata": {},
   "outputs": [
    {
     "data": {
      "text/plain": [
       "384"
      ]
     },
     "execution_count": 7,
     "metadata": {},
     "output_type": "execute_result"
    }
   ],
   "source": [
    "len(question_db['embeddings'][0])"
   ]
  },
  {
   "cell_type": "code",
   "execution_count": 66,
   "metadata": {},
   "outputs": [],
   "source": [
    "# Convert ids to integers for sorting\n",
    "question_db['ids'] = list(map(int, question_db['ids']))\n",
    "\n",
    "# Create a sorted list of tuples (id, embedding)\n",
    "sorted_id_embeddings = sorted(zip(question_db['ids'], question_db['embeddings']))\n",
    "\n",
    "# Unzip the sorted list into two lists: sorted_ids and sorted_embeddings\n",
    "sorted_ids, sorted_embeddings = zip(*sorted_id_embeddings)\n",
    "\n",
    "# Update question_db with the sorted lists\n",
    "# question_db['ids'] = list(sorted_ids)\n",
    "\n",
    "sorted_embeddings = list(sorted_embeddings)"
   ]
  },
  {
   "cell_type": "code",
   "execution_count": 69,
   "metadata": {},
   "outputs": [
    {
     "data": {
      "text/plain": [
       "\"What significant regulatory changes and proposals has President Biden's administration implemented or announced regarding fees and pricing transparency?\""
      ]
     },
     "execution_count": 69,
     "metadata": {},
     "output_type": "execute_result"
    }
   ],
   "source": [
    "docs[0]"
   ]
  }
 ],
 "metadata": {
  "kernelspec": {
   "display_name": "chroma-research",
   "language": "python",
   "name": "python3"
  },
  "language_info": {
   "codemirror_mode": {
    "name": "ipython",
    "version": 3
   },
   "file_extension": ".py",
   "mimetype": "text/x-python",
   "name": "python",
   "nbconvert_exporter": "python",
   "pygments_lexer": "ipython3",
   "version": "3.11.8"
  }
 },
 "nbformat": 4,
 "nbformat_minor": 2
}
